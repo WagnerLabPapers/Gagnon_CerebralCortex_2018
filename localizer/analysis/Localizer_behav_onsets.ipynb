{
 "cells": [
  {
   "cell_type": "markdown",
   "metadata": {},
   "source": [
    "# Localizer Behavioral Data & Onset Generation"
   ]
  },
  {
   "cell_type": "code",
   "execution_count": 46,
   "metadata": {
    "collapsed": false
   },
   "outputs": [],
   "source": [
    "import pandas as pd\n",
    "import moss\n",
    "from scipy import stats\n",
    "import scipy as sp\n",
    "import seaborn as sns\n",
    "import numpy as np\n",
    "import matplotlib\n",
    "import matplotlib.pyplot as plt\n",
    "import os.path as op\n",
    "import os\n",
    "\n",
    "# for plotting\n",
    "sns.set(style='ticks', context='poster', font_scale=1.3)\n",
    "%matplotlib inline\n"
   ]
  },
  {
   "cell_type": "code",
   "execution_count": 47,
   "metadata": {
    "collapsed": false
   },
   "outputs": [
    {
     "name": "stdout",
     "output_type": "stream",
     "text": [
      "The rpy2.ipython extension is already loaded. To reload it, use:\n",
      "  %reload_ext rpy2.ipython\n"
     ]
    },
    {
     "data": {
      "text/plain": [
       "array([0], dtype=int32)"
      ]
     },
     "execution_count": 47,
     "metadata": {},
     "output_type": "execute_result"
    }
   ],
   "source": [
    "# R for stats\n",
    "%load_ext rpy2.ipython\n",
    "%R require(lme4)\n",
    "%R require(lmerTest)"
   ]
  },
  {
   "cell_type": "markdown",
   "metadata": {},
   "source": [
    "## Gather experiment info"
   ]
  },
  {
   "cell_type": "code",
   "execution_count": 48,
   "metadata": {
    "collapsed": false
   },
   "outputs": [],
   "source": [
    "dirs = dict()\n",
    "dirs['basedir'] = op.join(op.expanduser('~'), 'Experiments/localizer')\n",
    "dirs['datadir'] = op.join(dirs['basedir'], 'data/')\n",
    "dirs['analydir'] = op.join(dirs['basedir'], 'analysis')\n",
    "dirs['subj_info_file'] = op.join(dirs['datadir'], 'subj_info.csv')"
   ]
  },
  {
   "cell_type": "code",
   "execution_count": 49,
   "metadata": {
    "collapsed": false
   },
   "outputs": [
    {
     "data": {
      "text/html": [
       "<div>\n",
       "<table border=\"1\" class=\"dataframe\">\n",
       "  <thead>\n",
       "    <tr style=\"text-align: right;\">\n",
       "      <th></th>\n",
       "      <th>subid</th>\n",
       "      <th>group</th>\n",
       "      <th>remove</th>\n",
       "    </tr>\n",
       "  </thead>\n",
       "  <tbody>\n",
       "    <tr>\n",
       "      <th>0</th>\n",
       "      <td>loc100</td>\n",
       "      <td>control</td>\n",
       "      <td>NaN</td>\n",
       "    </tr>\n",
       "    <tr>\n",
       "      <th>1</th>\n",
       "      <td>loc101</td>\n",
       "      <td>control</td>\n",
       "      <td>NaN</td>\n",
       "    </tr>\n",
       "    <tr>\n",
       "      <th>2</th>\n",
       "      <td>loc102</td>\n",
       "      <td>control</td>\n",
       "      <td>NaN</td>\n",
       "    </tr>\n",
       "    <tr>\n",
       "      <th>3</th>\n",
       "      <td>loc103</td>\n",
       "      <td>control</td>\n",
       "      <td>NaN</td>\n",
       "    </tr>\n",
       "    <tr>\n",
       "      <th>4</th>\n",
       "      <td>loc104</td>\n",
       "      <td>control</td>\n",
       "      <td>NaN</td>\n",
       "    </tr>\n",
       "    <tr>\n",
       "      <th>5</th>\n",
       "      <td>loc105</td>\n",
       "      <td>control</td>\n",
       "      <td>NaN</td>\n",
       "    </tr>\n",
       "    <tr>\n",
       "      <th>6</th>\n",
       "      <td>loc106</td>\n",
       "      <td>control</td>\n",
       "      <td>NaN</td>\n",
       "    </tr>\n",
       "    <tr>\n",
       "      <th>7</th>\n",
       "      <td>loc107</td>\n",
       "      <td>control</td>\n",
       "      <td>NaN</td>\n",
       "    </tr>\n",
       "    <tr>\n",
       "      <th>8</th>\n",
       "      <td>loc108</td>\n",
       "      <td>control</td>\n",
       "      <td>NaN</td>\n",
       "    </tr>\n",
       "    <tr>\n",
       "      <th>9</th>\n",
       "      <td>loc109</td>\n",
       "      <td>control</td>\n",
       "      <td>NaN</td>\n",
       "    </tr>\n",
       "    <tr>\n",
       "      <th>10</th>\n",
       "      <td>loc110</td>\n",
       "      <td>control</td>\n",
       "      <td>NaN</td>\n",
       "    </tr>\n",
       "    <tr>\n",
       "      <th>11</th>\n",
       "      <td>loc111</td>\n",
       "      <td>control</td>\n",
       "      <td>NaN</td>\n",
       "    </tr>\n",
       "    <tr>\n",
       "      <th>12</th>\n",
       "      <td>loc113</td>\n",
       "      <td>control</td>\n",
       "      <td>NaN</td>\n",
       "    </tr>\n",
       "    <tr>\n",
       "      <th>13</th>\n",
       "      <td>loc114</td>\n",
       "      <td>control</td>\n",
       "      <td>NaN</td>\n",
       "    </tr>\n",
       "    <tr>\n",
       "      <th>14</th>\n",
       "      <td>loc115</td>\n",
       "      <td>control</td>\n",
       "      <td>NaN</td>\n",
       "    </tr>\n",
       "    <tr>\n",
       "      <th>15</th>\n",
       "      <td>loc116</td>\n",
       "      <td>control</td>\n",
       "      <td>NaN</td>\n",
       "    </tr>\n",
       "    <tr>\n",
       "      <th>16</th>\n",
       "      <td>loc117</td>\n",
       "      <td>control</td>\n",
       "      <td>NaN</td>\n",
       "    </tr>\n",
       "    <tr>\n",
       "      <th>17</th>\n",
       "      <td>loc118</td>\n",
       "      <td>control</td>\n",
       "      <td>NaN</td>\n",
       "    </tr>\n",
       "    <tr>\n",
       "      <th>18</th>\n",
       "      <td>loc119</td>\n",
       "      <td>control</td>\n",
       "      <td>NaN</td>\n",
       "    </tr>\n",
       "    <tr>\n",
       "      <th>19</th>\n",
       "      <td>loc120</td>\n",
       "      <td>control</td>\n",
       "      <td>NaN</td>\n",
       "    </tr>\n",
       "    <tr>\n",
       "      <th>20</th>\n",
       "      <td>loc121</td>\n",
       "      <td>control</td>\n",
       "      <td>NaN</td>\n",
       "    </tr>\n",
       "    <tr>\n",
       "      <th>21</th>\n",
       "      <td>loc122</td>\n",
       "      <td>control</td>\n",
       "      <td>NaN</td>\n",
       "    </tr>\n",
       "    <tr>\n",
       "      <th>22</th>\n",
       "      <td>loc158</td>\n",
       "      <td>control</td>\n",
       "      <td>NaN</td>\n",
       "    </tr>\n",
       "    <tr>\n",
       "      <th>23</th>\n",
       "      <td>loc150</td>\n",
       "      <td>stress</td>\n",
       "      <td>NaN</td>\n",
       "    </tr>\n",
       "    <tr>\n",
       "      <th>24</th>\n",
       "      <td>loc151</td>\n",
       "      <td>stress</td>\n",
       "      <td>NaN</td>\n",
       "    </tr>\n",
       "    <tr>\n",
       "      <th>25</th>\n",
       "      <td>loc152</td>\n",
       "      <td>stress</td>\n",
       "      <td>NaN</td>\n",
       "    </tr>\n",
       "    <tr>\n",
       "      <th>26</th>\n",
       "      <td>loc153</td>\n",
       "      <td>stress</td>\n",
       "      <td>NaN</td>\n",
       "    </tr>\n",
       "    <tr>\n",
       "      <th>27</th>\n",
       "      <td>loc154</td>\n",
       "      <td>stress</td>\n",
       "      <td>NaN</td>\n",
       "    </tr>\n",
       "    <tr>\n",
       "      <th>28</th>\n",
       "      <td>loc155</td>\n",
       "      <td>stress</td>\n",
       "      <td>NaN</td>\n",
       "    </tr>\n",
       "    <tr>\n",
       "      <th>29</th>\n",
       "      <td>loc156</td>\n",
       "      <td>stress</td>\n",
       "      <td>NaN</td>\n",
       "    </tr>\n",
       "    <tr>\n",
       "      <th>30</th>\n",
       "      <td>loc157</td>\n",
       "      <td>stress</td>\n",
       "      <td>NaN</td>\n",
       "    </tr>\n",
       "    <tr>\n",
       "      <th>31</th>\n",
       "      <td>loc159</td>\n",
       "      <td>stress</td>\n",
       "      <td>NaN</td>\n",
       "    </tr>\n",
       "    <tr>\n",
       "      <th>32</th>\n",
       "      <td>loc160</td>\n",
       "      <td>stress</td>\n",
       "      <td>NaN</td>\n",
       "    </tr>\n",
       "    <tr>\n",
       "      <th>33</th>\n",
       "      <td>loc161</td>\n",
       "      <td>stress</td>\n",
       "      <td>NaN</td>\n",
       "    </tr>\n",
       "    <tr>\n",
       "      <th>34</th>\n",
       "      <td>loc162</td>\n",
       "      <td>stress</td>\n",
       "      <td>NaN</td>\n",
       "    </tr>\n",
       "    <tr>\n",
       "      <th>35</th>\n",
       "      <td>loc163</td>\n",
       "      <td>stress</td>\n",
       "      <td>NaN</td>\n",
       "    </tr>\n",
       "    <tr>\n",
       "      <th>36</th>\n",
       "      <td>loc164</td>\n",
       "      <td>stress</td>\n",
       "      <td>NaN</td>\n",
       "    </tr>\n",
       "    <tr>\n",
       "      <th>37</th>\n",
       "      <td>loc165</td>\n",
       "      <td>stress</td>\n",
       "      <td>NaN</td>\n",
       "    </tr>\n",
       "    <tr>\n",
       "      <th>38</th>\n",
       "      <td>loc166</td>\n",
       "      <td>stress</td>\n",
       "      <td>NaN</td>\n",
       "    </tr>\n",
       "    <tr>\n",
       "      <th>39</th>\n",
       "      <td>loc167</td>\n",
       "      <td>stress</td>\n",
       "      <td>NaN</td>\n",
       "    </tr>\n",
       "    <tr>\n",
       "      <th>40</th>\n",
       "      <td>loc168</td>\n",
       "      <td>stress</td>\n",
       "      <td>NaN</td>\n",
       "    </tr>\n",
       "    <tr>\n",
       "      <th>41</th>\n",
       "      <td>loc169</td>\n",
       "      <td>stress</td>\n",
       "      <td>NaN</td>\n",
       "    </tr>\n",
       "    <tr>\n",
       "      <th>42</th>\n",
       "      <td>loc170</td>\n",
       "      <td>stress</td>\n",
       "      <td>NaN</td>\n",
       "    </tr>\n",
       "    <tr>\n",
       "      <th>43</th>\n",
       "      <td>loc172</td>\n",
       "      <td>stress</td>\n",
       "      <td>NaN</td>\n",
       "    </tr>\n",
       "    <tr>\n",
       "      <th>44</th>\n",
       "      <td>loc171</td>\n",
       "      <td>stress</td>\n",
       "      <td>NaN</td>\n",
       "    </tr>\n",
       "    <tr>\n",
       "      <th>45</th>\n",
       "      <td>loc173</td>\n",
       "      <td>stress</td>\n",
       "      <td>NaN</td>\n",
       "    </tr>\n",
       "    <tr>\n",
       "      <th>46</th>\n",
       "      <td>loc174</td>\n",
       "      <td>stress</td>\n",
       "      <td>NaN</td>\n",
       "    </tr>\n",
       "  </tbody>\n",
       "</table>\n",
       "</div>"
      ],
      "text/plain": [
       "     subid    group  remove\n",
       "0   loc100  control     NaN\n",
       "1   loc101  control     NaN\n",
       "2   loc102  control     NaN\n",
       "3   loc103  control     NaN\n",
       "4   loc104  control     NaN\n",
       "5   loc105  control     NaN\n",
       "6   loc106  control     NaN\n",
       "7   loc107  control     NaN\n",
       "8   loc108  control     NaN\n",
       "9   loc109  control     NaN\n",
       "10  loc110  control     NaN\n",
       "11  loc111  control     NaN\n",
       "12  loc113  control     NaN\n",
       "13  loc114  control     NaN\n",
       "14  loc115  control     NaN\n",
       "15  loc116  control     NaN\n",
       "16  loc117  control     NaN\n",
       "17  loc118  control     NaN\n",
       "18  loc119  control     NaN\n",
       "19  loc120  control     NaN\n",
       "20  loc121  control     NaN\n",
       "21  loc122  control     NaN\n",
       "22  loc158  control     NaN\n",
       "23  loc150   stress     NaN\n",
       "24  loc151   stress     NaN\n",
       "25  loc152   stress     NaN\n",
       "26  loc153   stress     NaN\n",
       "27  loc154   stress     NaN\n",
       "28  loc155   stress     NaN\n",
       "29  loc156   stress     NaN\n",
       "30  loc157   stress     NaN\n",
       "31  loc159   stress     NaN\n",
       "32  loc160   stress     NaN\n",
       "33  loc161   stress     NaN\n",
       "34  loc162   stress     NaN\n",
       "35  loc163   stress     NaN\n",
       "36  loc164   stress     NaN\n",
       "37  loc165   stress     NaN\n",
       "38  loc166   stress     NaN\n",
       "39  loc167   stress     NaN\n",
       "40  loc168   stress     NaN\n",
       "41  loc169   stress     NaN\n",
       "42  loc170   stress     NaN\n",
       "43  loc172   stress     NaN\n",
       "44  loc171   stress     NaN\n",
       "45  loc173   stress     NaN\n",
       "46  loc174   stress     NaN"
      ]
     },
     "execution_count": 49,
     "metadata": {},
     "output_type": "execute_result"
    }
   ],
   "source": [
    "subj_info = pd.read_csv(dirs['subj_info_file'])\n",
    "subj_info = subj_info[pd.isnull(subj_info.remove)]\n",
    "subj_info"
   ]
  },
  {
   "cell_type": "markdown",
   "metadata": {},
   "source": [
    "## Load in data"
   ]
  },
  {
   "cell_type": "code",
   "execution_count": 50,
   "metadata": {
    "collapsed": false
   },
   "outputs": [
    {
     "name": "stdout",
     "output_type": "stream",
     "text": [
      "loc100\n",
      "loc101\n",
      "loc102\n",
      "loc103\n",
      "loc104\n",
      "loc105\n",
      "loc106\n",
      "loc107\n",
      "loc108\n",
      "loc109\n",
      "loc110\n",
      "loc111\n",
      "loc113\n",
      "loc114\n",
      "loc115\n",
      "loc116\n",
      "loc117\n",
      "loc118\n",
      "loc119\n",
      "loc120\n",
      "loc121\n",
      "loc122\n",
      "loc158\n",
      "loc150\n",
      "loc151\n",
      "loc152\n",
      "loc153\n",
      "loc154\n",
      "loc155\n",
      "loc156\n",
      "loc157\n",
      "loc159\n",
      "loc160\n",
      "loc161\n",
      "loc162\n",
      "loc163\n",
      "loc164\n",
      "loc165\n",
      "loc166\n",
      "loc167\n",
      "loc168\n",
      "loc169\n",
      "loc170\n",
      "loc172\n",
      "loc171\n",
      "loc173\n",
      "loc174\n"
     ]
    }
   ],
   "source": [
    "dl = pd.DataFrame()\n",
    "\n",
    "for subid in subj_info.subid:\n",
    "    print subid\n",
    "    \n",
    "    # add study file\n",
    "    study_file = op.join(dirs['datadir'], subid, subid + '_behav_localizer.csv')\n",
    "    d = pd.read_csv(study_file)\n",
    "    d['subid'] = subid\n",
    "    dl = dl.append(d, ignore_index=True)\n",
    "    \n",
    "# Merge with subj_info\n",
    "dl = dl.merge(subj_info, on='subid', how='outer')"
   ]
  },
  {
   "cell_type": "code",
   "execution_count": 51,
   "metadata": {
    "collapsed": false
   },
   "outputs": [
    {
     "data": {
      "text/html": [
       "<div>\n",
       "<table border=\"1\" class=\"dataframe\">\n",
       "  <thead>\n",
       "    <tr style=\"text-align: right;\">\n",
       "      <th></th>\n",
       "      <th>index</th>\n",
       "      <th>run</th>\n",
       "      <th>trial</th>\n",
       "      <th>onset</th>\n",
       "      <th>duration</th>\n",
       "      <th>cond</th>\n",
       "      <th>subcond</th>\n",
       "      <th>resp</th>\n",
       "      <th>acc</th>\n",
       "      <th>respRT</th>\n",
       "      <th>ISIresp</th>\n",
       "      <th>ISIacc</th>\n",
       "      <th>ISIrespRT</th>\n",
       "      <th>subid</th>\n",
       "      <th>group</th>\n",
       "      <th>remove</th>\n",
       "    </tr>\n",
       "  </thead>\n",
       "  <tbody>\n",
       "    <tr>\n",
       "      <th>0</th>\n",
       "      <td>1</td>\n",
       "      <td>1</td>\n",
       "      <td>1</td>\n",
       "      <td>12.0068</td>\n",
       "      <td>1.4946</td>\n",
       "      <td>object</td>\n",
       "      <td>manmade</td>\n",
       "      <td>NR</td>\n",
       "      <td>0</td>\n",
       "      <td>999.0</td>\n",
       "      <td>manmade</td>\n",
       "      <td>1</td>\n",
       "      <td>0.3153</td>\n",
       "      <td>loc100</td>\n",
       "      <td>control</td>\n",
       "      <td>NaN</td>\n",
       "    </tr>\n",
       "    <tr>\n",
       "      <th>1</th>\n",
       "      <td>2</td>\n",
       "      <td>1</td>\n",
       "      <td>2</td>\n",
       "      <td>13.9136</td>\n",
       "      <td>1.0869</td>\n",
       "      <td>object</td>\n",
       "      <td>manmade</td>\n",
       "      <td>NR</td>\n",
       "      <td>0</td>\n",
       "      <td>999.0</td>\n",
       "      <td>manmade</td>\n",
       "      <td>1</td>\n",
       "      <td>0.3784</td>\n",
       "      <td>loc100</td>\n",
       "      <td>control</td>\n",
       "      <td>NaN</td>\n",
       "    </tr>\n",
       "    <tr>\n",
       "      <th>2</th>\n",
       "      <td>3</td>\n",
       "      <td>1</td>\n",
       "      <td>3</td>\n",
       "      <td>15.0290</td>\n",
       "      <td>1.4716</td>\n",
       "      <td>object</td>\n",
       "      <td>natural</td>\n",
       "      <td>NR</td>\n",
       "      <td>0</td>\n",
       "      <td>999.0</td>\n",
       "      <td>natural</td>\n",
       "      <td>1</td>\n",
       "      <td>0.1792</td>\n",
       "      <td>loc100</td>\n",
       "      <td>control</td>\n",
       "      <td>NaN</td>\n",
       "    </tr>\n",
       "    <tr>\n",
       "      <th>3</th>\n",
       "      <td>4</td>\n",
       "      <td>1</td>\n",
       "      <td>4</td>\n",
       "      <td>16.5293</td>\n",
       "      <td>1.4712</td>\n",
       "      <td>object</td>\n",
       "      <td>manmade</td>\n",
       "      <td>NR</td>\n",
       "      <td>0</td>\n",
       "      <td>999.0</td>\n",
       "      <td>manmade</td>\n",
       "      <td>1</td>\n",
       "      <td>0.1867</td>\n",
       "      <td>loc100</td>\n",
       "      <td>control</td>\n",
       "      <td>NaN</td>\n",
       "    </tr>\n",
       "    <tr>\n",
       "      <th>4</th>\n",
       "      <td>5</td>\n",
       "      <td>1</td>\n",
       "      <td>5</td>\n",
       "      <td>18.0304</td>\n",
       "      <td>1.4701</td>\n",
       "      <td>object</td>\n",
       "      <td>natural</td>\n",
       "      <td>NR</td>\n",
       "      <td>0</td>\n",
       "      <td>999.0</td>\n",
       "      <td>natural</td>\n",
       "      <td>1</td>\n",
       "      <td>0.0906</td>\n",
       "      <td>loc100</td>\n",
       "      <td>control</td>\n",
       "      <td>NaN</td>\n",
       "    </tr>\n",
       "  </tbody>\n",
       "</table>\n",
       "</div>"
      ],
      "text/plain": [
       "   index  run  trial    onset  duration    cond  subcond resp  acc  respRT  \\\n",
       "0      1    1      1  12.0068    1.4946  object  manmade   NR    0   999.0   \n",
       "1      2    1      2  13.9136    1.0869  object  manmade   NR    0   999.0   \n",
       "2      3    1      3  15.0290    1.4716  object  natural   NR    0   999.0   \n",
       "3      4    1      4  16.5293    1.4712  object  manmade   NR    0   999.0   \n",
       "4      5    1      5  18.0304    1.4701  object  natural   NR    0   999.0   \n",
       "\n",
       "   ISIresp  ISIacc  ISIrespRT   subid    group  remove  \n",
       "0  manmade       1     0.3153  loc100  control     NaN  \n",
       "1  manmade       1     0.3784  loc100  control     NaN  \n",
       "2  natural       1     0.1792  loc100  control     NaN  \n",
       "3  manmade       1     0.1867  loc100  control     NaN  \n",
       "4  natural       1     0.0906  loc100  control     NaN  "
      ]
     },
     "execution_count": 51,
     "metadata": {},
     "output_type": "execute_result"
    }
   ],
   "source": [
    "dl.head()"
   ]
  },
  {
   "cell_type": "code",
   "execution_count": 52,
   "metadata": {
    "collapsed": false
   },
   "outputs": [
    {
     "data": {
      "text/plain": [
       "47"
      ]
     },
     "execution_count": 52,
     "metadata": {},
     "output_type": "execute_result"
    }
   ],
   "source": [
    "len(dl.subid.unique())"
   ]
  },
  {
   "cell_type": "code",
   "execution_count": 53,
   "metadata": {
    "collapsed": false
   },
   "outputs": [
    {
     "data": {
      "text/plain": [
       "group\n",
       "control    23\n",
       "stress     24\n",
       "Name: subid, dtype: int64"
      ]
     },
     "execution_count": 53,
     "metadata": {},
     "output_type": "execute_result"
    }
   ],
   "source": [
    "dl.groupby(['subid', 'group']).mean().reset_index().groupby('group').count().subid"
   ]
  },
  {
   "cell_type": "markdown",
   "metadata": {},
   "source": [
    "### Deal with no responses (NR): Set ISI resp as resp"
   ]
  },
  {
   "cell_type": "code",
   "execution_count": 54,
   "metadata": {
    "collapsed": false
   },
   "outputs": [],
   "source": [
    "dl.loc[dl.resp == 'NR', 'respRT'] = dl.loc[dl.resp == 'NR', 'ISIrespRT'] + .5 # adjust for stimTime\n",
    "dl.loc[dl.resp == 'NR', 'acc'] = dl.loc[dl.resp == 'NR', 'ISIacc']\n",
    "dl.loc[dl.resp == 'NR', 'resp'] = dl.loc[dl.resp == 'NR', 'ISIresp']\n",
    "\n",
    "drop_cols = ['ISIrespRT', 'ISIresp', 'ISIacc', 'remove', 'index']\n",
    "dl.drop(drop_cols, 1, inplace=True)\n",
    "\n",
    "# Correct duration of image trials by subtracting ITI (1s fix)\n",
    "dl['duration_adj'] = dl.duration\n",
    "dl.ix[dl.cond != 'rest', 'duration_adj'] = dl.ix[dl.cond != 'rest', 'duration_adj'] - 1 # subtract ITI"
   ]
  },
  {
   "cell_type": "code",
   "execution_count": 55,
   "metadata": {
    "collapsed": false
   },
   "outputs": [
    {
     "data": {
      "text/html": [
       "<div>\n",
       "<table border=\"1\" class=\"dataframe\">\n",
       "  <thead>\n",
       "    <tr style=\"text-align: right;\">\n",
       "      <th></th>\n",
       "      <th>run</th>\n",
       "      <th>trial</th>\n",
       "      <th>onset</th>\n",
       "      <th>duration</th>\n",
       "      <th>cond</th>\n",
       "      <th>subcond</th>\n",
       "      <th>resp</th>\n",
       "      <th>acc</th>\n",
       "      <th>respRT</th>\n",
       "      <th>subid</th>\n",
       "      <th>group</th>\n",
       "      <th>duration_adj</th>\n",
       "    </tr>\n",
       "  </thead>\n",
       "  <tbody>\n",
       "    <tr>\n",
       "      <th>0</th>\n",
       "      <td>1</td>\n",
       "      <td>1</td>\n",
       "      <td>12.0068</td>\n",
       "      <td>1.4946</td>\n",
       "      <td>object</td>\n",
       "      <td>manmade</td>\n",
       "      <td>manmade</td>\n",
       "      <td>1</td>\n",
       "      <td>0.8153</td>\n",
       "      <td>loc100</td>\n",
       "      <td>control</td>\n",
       "      <td>0.4946</td>\n",
       "    </tr>\n",
       "    <tr>\n",
       "      <th>1</th>\n",
       "      <td>1</td>\n",
       "      <td>2</td>\n",
       "      <td>13.9136</td>\n",
       "      <td>1.0869</td>\n",
       "      <td>object</td>\n",
       "      <td>manmade</td>\n",
       "      <td>manmade</td>\n",
       "      <td>1</td>\n",
       "      <td>0.8784</td>\n",
       "      <td>loc100</td>\n",
       "      <td>control</td>\n",
       "      <td>0.0869</td>\n",
       "    </tr>\n",
       "    <tr>\n",
       "      <th>2</th>\n",
       "      <td>1</td>\n",
       "      <td>3</td>\n",
       "      <td>15.0290</td>\n",
       "      <td>1.4716</td>\n",
       "      <td>object</td>\n",
       "      <td>natural</td>\n",
       "      <td>natural</td>\n",
       "      <td>1</td>\n",
       "      <td>0.6792</td>\n",
       "      <td>loc100</td>\n",
       "      <td>control</td>\n",
       "      <td>0.4716</td>\n",
       "    </tr>\n",
       "    <tr>\n",
       "      <th>3</th>\n",
       "      <td>1</td>\n",
       "      <td>4</td>\n",
       "      <td>16.5293</td>\n",
       "      <td>1.4712</td>\n",
       "      <td>object</td>\n",
       "      <td>manmade</td>\n",
       "      <td>manmade</td>\n",
       "      <td>1</td>\n",
       "      <td>0.6867</td>\n",
       "      <td>loc100</td>\n",
       "      <td>control</td>\n",
       "      <td>0.4712</td>\n",
       "    </tr>\n",
       "    <tr>\n",
       "      <th>4</th>\n",
       "      <td>1</td>\n",
       "      <td>5</td>\n",
       "      <td>18.0304</td>\n",
       "      <td>1.4701</td>\n",
       "      <td>object</td>\n",
       "      <td>natural</td>\n",
       "      <td>natural</td>\n",
       "      <td>1</td>\n",
       "      <td>0.5906</td>\n",
       "      <td>loc100</td>\n",
       "      <td>control</td>\n",
       "      <td>0.4701</td>\n",
       "    </tr>\n",
       "  </tbody>\n",
       "</table>\n",
       "</div>"
      ],
      "text/plain": [
       "   run  trial    onset  duration    cond  subcond     resp  acc  respRT  \\\n",
       "0    1      1  12.0068    1.4946  object  manmade  manmade    1  0.8153   \n",
       "1    1      2  13.9136    1.0869  object  manmade  manmade    1  0.8784   \n",
       "2    1      3  15.0290    1.4716  object  natural  natural    1  0.6792   \n",
       "3    1      4  16.5293    1.4712  object  manmade  manmade    1  0.6867   \n",
       "4    1      5  18.0304    1.4701  object  natural  natural    1  0.5906   \n",
       "\n",
       "    subid    group  duration_adj  \n",
       "0  loc100  control        0.4946  \n",
       "1  loc100  control        0.0869  \n",
       "2  loc100  control        0.4716  \n",
       "3  loc100  control        0.4712  \n",
       "4  loc100  control        0.4701  "
      ]
     },
     "execution_count": 55,
     "metadata": {},
     "output_type": "execute_result"
    }
   ],
   "source": [
    "dl.head()"
   ]
  },
  {
   "cell_type": "markdown",
   "metadata": {},
   "source": [
    "### Remove time for lead-in (12 s)"
   ]
  },
  {
   "cell_type": "code",
   "execution_count": 56,
   "metadata": {
    "collapsed": false
   },
   "outputs": [
    {
     "data": {
      "text/html": [
       "<div>\n",
       "<table border=\"1\" class=\"dataframe\">\n",
       "  <thead>\n",
       "    <tr style=\"text-align: right;\">\n",
       "      <th></th>\n",
       "      <th>run</th>\n",
       "      <th>trial</th>\n",
       "      <th>onset</th>\n",
       "      <th>duration</th>\n",
       "      <th>cond</th>\n",
       "      <th>subcond</th>\n",
       "      <th>resp</th>\n",
       "      <th>acc</th>\n",
       "      <th>respRT</th>\n",
       "      <th>subid</th>\n",
       "      <th>group</th>\n",
       "      <th>duration_adj</th>\n",
       "      <th>onset_adj</th>\n",
       "    </tr>\n",
       "  </thead>\n",
       "  <tbody>\n",
       "    <tr>\n",
       "      <th>0</th>\n",
       "      <td>1</td>\n",
       "      <td>1</td>\n",
       "      <td>12.0068</td>\n",
       "      <td>1.4946</td>\n",
       "      <td>object</td>\n",
       "      <td>manmade</td>\n",
       "      <td>manmade</td>\n",
       "      <td>1</td>\n",
       "      <td>0.8153</td>\n",
       "      <td>loc100</td>\n",
       "      <td>control</td>\n",
       "      <td>0.4946</td>\n",
       "      <td>0.0068</td>\n",
       "    </tr>\n",
       "    <tr>\n",
       "      <th>1</th>\n",
       "      <td>1</td>\n",
       "      <td>2</td>\n",
       "      <td>13.9136</td>\n",
       "      <td>1.0869</td>\n",
       "      <td>object</td>\n",
       "      <td>manmade</td>\n",
       "      <td>manmade</td>\n",
       "      <td>1</td>\n",
       "      <td>0.8784</td>\n",
       "      <td>loc100</td>\n",
       "      <td>control</td>\n",
       "      <td>0.0869</td>\n",
       "      <td>1.9136</td>\n",
       "    </tr>\n",
       "    <tr>\n",
       "      <th>2</th>\n",
       "      <td>1</td>\n",
       "      <td>3</td>\n",
       "      <td>15.0290</td>\n",
       "      <td>1.4716</td>\n",
       "      <td>object</td>\n",
       "      <td>natural</td>\n",
       "      <td>natural</td>\n",
       "      <td>1</td>\n",
       "      <td>0.6792</td>\n",
       "      <td>loc100</td>\n",
       "      <td>control</td>\n",
       "      <td>0.4716</td>\n",
       "      <td>3.0290</td>\n",
       "    </tr>\n",
       "    <tr>\n",
       "      <th>3</th>\n",
       "      <td>1</td>\n",
       "      <td>4</td>\n",
       "      <td>16.5293</td>\n",
       "      <td>1.4712</td>\n",
       "      <td>object</td>\n",
       "      <td>manmade</td>\n",
       "      <td>manmade</td>\n",
       "      <td>1</td>\n",
       "      <td>0.6867</td>\n",
       "      <td>loc100</td>\n",
       "      <td>control</td>\n",
       "      <td>0.4712</td>\n",
       "      <td>4.5293</td>\n",
       "    </tr>\n",
       "    <tr>\n",
       "      <th>4</th>\n",
       "      <td>1</td>\n",
       "      <td>5</td>\n",
       "      <td>18.0304</td>\n",
       "      <td>1.4701</td>\n",
       "      <td>object</td>\n",
       "      <td>natural</td>\n",
       "      <td>natural</td>\n",
       "      <td>1</td>\n",
       "      <td>0.5906</td>\n",
       "      <td>loc100</td>\n",
       "      <td>control</td>\n",
       "      <td>0.4701</td>\n",
       "      <td>6.0304</td>\n",
       "    </tr>\n",
       "  </tbody>\n",
       "</table>\n",
       "</div>"
      ],
      "text/plain": [
       "   run  trial    onset  duration    cond  subcond     resp  acc  respRT  \\\n",
       "0    1      1  12.0068    1.4946  object  manmade  manmade    1  0.8153   \n",
       "1    1      2  13.9136    1.0869  object  manmade  manmade    1  0.8784   \n",
       "2    1      3  15.0290    1.4716  object  natural  natural    1  0.6792   \n",
       "3    1      4  16.5293    1.4712  object  manmade  manmade    1  0.6867   \n",
       "4    1      5  18.0304    1.4701  object  natural  natural    1  0.5906   \n",
       "\n",
       "    subid    group  duration_adj  onset_adj  \n",
       "0  loc100  control        0.4946     0.0068  \n",
       "1  loc100  control        0.0869     1.9136  \n",
       "2  loc100  control        0.4716     3.0290  \n",
       "3  loc100  control        0.4712     4.5293  \n",
       "4  loc100  control        0.4701     6.0304  "
      ]
     },
     "execution_count": 56,
     "metadata": {},
     "output_type": "execute_result"
    }
   ],
   "source": [
    "dl['onset_adj'] = dl.onset - 12\n",
    "dl.head()"
   ]
  },
  {
   "cell_type": "code",
   "execution_count": 57,
   "metadata": {
    "collapsed": false
   },
   "outputs": [
    {
     "data": {
      "text/plain": [
       "<matplotlib.axes._subplots.AxesSubplot at 0x1213f0850>"
      ]
     },
     "execution_count": 57,
     "metadata": {},
     "output_type": "execute_result"
    },
    {
     "data": {
      "image/png": "[encoded data removed]",
      "text/plain": [
       "<matplotlib.figure.Figure at 0x120967950>"
      ]
     },
     "metadata": {},
     "output_type": "display_data"
    }
   ],
   "source": [
    "durations = dl.onset - dl.onset.shift(1)\n",
    "durations[durations > -5].hist(bins=20)\n",
    "sns.distplot(durations[durations > -5])"
   ]
  },
  {
   "cell_type": "code",
   "execution_count": 58,
   "metadata": {
    "collapsed": false
   },
   "outputs": [
    {
     "data": {
      "text/plain": [
       "<matplotlib.axes._subplots.AxesSubplot at 0x122547390>"
      ]
     },
     "execution_count": 58,
     "metadata": {},
     "output_type": "execute_result"
    },
    {
     "data": {
      "image/png": "[encoded data removed]",
      "text/plain": [
       "<matplotlib.figure.Figure at 0x1209ad1d0>"
      ]
     },
     "metadata": {},
     "output_type": "display_data"
    }
   ],
   "source": [
    "sns.distplot(dl[dl.duration_adj < 5].duration)"
   ]
  },
  {
   "cell_type": "code",
   "execution_count": 59,
   "metadata": {
    "collapsed": false
   },
   "outputs": [
    {
     "data": {
      "text/plain": [
       "<matplotlib.axes._subplots.AxesSubplot at 0x12255b7d0>"
      ]
     },
     "execution_count": 59,
     "metadata": {},
     "output_type": "execute_result"
    },
    {
     "data": {
      "image/png": "[encoded data removed]",
      "text/plain": [
       "<matplotlib.figure.Figure at 0x1207f6dd0>"
      ]
     },
     "metadata": {},
     "output_type": "display_data"
    }
   ],
   "source": [
    "sns.distplot(dl[~dl.resp.isin(['NR', 'rest'])].respRT)"
   ]
  },
  {
   "cell_type": "markdown",
   "metadata": {},
   "source": [
    "## Switch Costs"
   ]
  },
  {
   "cell_type": "code",
   "execution_count": 60,
   "metadata": {
    "collapsed": false
   },
   "outputs": [
    {
     "name": "stderr",
     "output_type": "stream",
     "text": [
      "/Users/sgagnon/anaconda/lib/python2.7/site-packages/ipykernel/__main__.py:2: SettingWithCopyWarning: \n",
      "A value is trying to be set on a copy of a slice from a DataFrame.\n",
      "Try using .loc[row_indexer,col_indexer] = value instead\n",
      "\n",
      "See the caveats in the documentation: http://pandas.pydata.org/pandas-docs/stable/indexing.html#indexing-view-versus-copy\n",
      "  from ipykernel import kernelapp as app\n"
     ]
    }
   ],
   "source": [
    "dl_switch = dl[dl.cond != 'rest']\n",
    "dl_switch['switch'] = dl_switch.cond ==  dl_switch.cond.shift(1)\n",
    "dl_switch.switch = dl_switch.switch.apply(lambda x: 0 if x == True else 1)\n",
    "\n",
    "for increment in [1, 2, 3, 4, 5]:\n",
    "    dl_switch.switch = np.nansum([dl_switch.switch, \n",
    "                                  dl_switch.switch.apply(lambda x: 0 if x < increment else x+1).shift(1)], axis=0)"
   ]
  },
  {
   "cell_type": "code",
   "execution_count": 61,
   "metadata": {
    "collapsed": false
   },
   "outputs": [
    {
     "data": {
      "text/plain": [
       "<seaborn.axisgrid.FacetGrid at 0x120b83ed0>"
      ]
     },
     "execution_count": 61,
     "metadata": {},
     "output_type": "execute_result"
    },
    {
     "data": {
      "image/png": "[encoded data removed]",
      "text/plain": [
       "<matplotlib.figure.Figure at 0x1200187d0>"
      ]
     },
     "metadata": {},
     "output_type": "display_data"
    }
   ],
   "source": [
    "dl_resp = dl_switch[(dl_switch.resp != 'NR') & (dl_switch.switch > 0)]\n",
    "means = dl_resp.groupby(['subid', 'switch', 'group', 'cond', 'subcond', 'acc']).mean().reset_index()\n",
    "\n",
    "sns.factorplot(x='switch', hue='group', y='respRT', col='cond', \n",
    "               units='subid', ci=68, dodge=.1,palette=['dodgerblue', 'orange'],\n",
    "               data=means.query('acc == 1'))"
   ]
  },
  {
   "cell_type": "code",
   "execution_count": 62,
   "metadata": {
    "collapsed": false
   },
   "outputs": [
    {
     "data": {
      "image/png": "[encoded data removed]",
      "text/plain": [
       "<matplotlib.figure.Figure at 0x11f614110>"
      ]
     },
     "metadata": {},
     "output_type": "display_data"
    }
   ],
   "source": [
    "dl_resp = dl_switch[(dl_switch.resp != 'NR') & (dl_switch.switch > 0)]\n",
    "means = dl_resp.groupby(['subid', 'switch', 'group', 'acc']).mean().reset_index()\n",
    "means.switch = means.switch.astype(int)\n",
    "\n",
    "g = sns.factorplot(x='switch', hue='group', y='respRT', aspect=1.5,\n",
    "               units='subid', ci=68, dodge=.1, palette=['dodgerblue', 'orange'],\n",
    "               data=means.query('acc == 1'))\n",
    "g.set_xlabels('trial relative to switch')\n",
    "g.set_ylabels('RT (s)')\n",
    "\n",
    "plt.savefig('/Users/sgagnon/Dropbox/Stanford/Presentations/AP/behav_loc_RTs_switch_acc.png')"
   ]
  },
  {
   "cell_type": "markdown",
   "metadata": {},
   "source": [
    "## Analyze RTs"
   ]
  },
  {
   "cell_type": "code",
   "execution_count": 63,
   "metadata": {
    "collapsed": false
   },
   "outputs": [
    {
     "data": {
      "text/html": [
       "<div>\n",
       "<table border=\"1\" class=\"dataframe\">\n",
       "  <thead>\n",
       "    <tr style=\"text-align: right;\">\n",
       "      <th></th>\n",
       "      <th>run</th>\n",
       "      <th>trial</th>\n",
       "      <th>onset</th>\n",
       "      <th>duration</th>\n",
       "      <th>cond</th>\n",
       "      <th>subcond</th>\n",
       "      <th>resp</th>\n",
       "      <th>acc</th>\n",
       "      <th>respRT</th>\n",
       "      <th>subid</th>\n",
       "      <th>group</th>\n",
       "      <th>duration_adj</th>\n",
       "      <th>onset_adj</th>\n",
       "    </tr>\n",
       "  </thead>\n",
       "  <tbody>\n",
       "    <tr>\n",
       "      <th>0</th>\n",
       "      <td>1</td>\n",
       "      <td>1</td>\n",
       "      <td>12.0068</td>\n",
       "      <td>1.4946</td>\n",
       "      <td>object</td>\n",
       "      <td>manmade</td>\n",
       "      <td>manmade</td>\n",
       "      <td>1</td>\n",
       "      <td>0.8153</td>\n",
       "      <td>loc100</td>\n",
       "      <td>control</td>\n",
       "      <td>0.4946</td>\n",
       "      <td>0.0068</td>\n",
       "    </tr>\n",
       "    <tr>\n",
       "      <th>1</th>\n",
       "      <td>1</td>\n",
       "      <td>2</td>\n",
       "      <td>13.9136</td>\n",
       "      <td>1.0869</td>\n",
       "      <td>object</td>\n",
       "      <td>manmade</td>\n",
       "      <td>manmade</td>\n",
       "      <td>1</td>\n",
       "      <td>0.8784</td>\n",
       "      <td>loc100</td>\n",
       "      <td>control</td>\n",
       "      <td>0.0869</td>\n",
       "      <td>1.9136</td>\n",
       "    </tr>\n",
       "    <tr>\n",
       "      <th>2</th>\n",
       "      <td>1</td>\n",
       "      <td>3</td>\n",
       "      <td>15.0290</td>\n",
       "      <td>1.4716</td>\n",
       "      <td>object</td>\n",
       "      <td>natural</td>\n",
       "      <td>natural</td>\n",
       "      <td>1</td>\n",
       "      <td>0.6792</td>\n",
       "      <td>loc100</td>\n",
       "      <td>control</td>\n",
       "      <td>0.4716</td>\n",
       "      <td>3.0290</td>\n",
       "    </tr>\n",
       "    <tr>\n",
       "      <th>3</th>\n",
       "      <td>1</td>\n",
       "      <td>4</td>\n",
       "      <td>16.5293</td>\n",
       "      <td>1.4712</td>\n",
       "      <td>object</td>\n",
       "      <td>manmade</td>\n",
       "      <td>manmade</td>\n",
       "      <td>1</td>\n",
       "      <td>0.6867</td>\n",
       "      <td>loc100</td>\n",
       "      <td>control</td>\n",
       "      <td>0.4712</td>\n",
       "      <td>4.5293</td>\n",
       "    </tr>\n",
       "    <tr>\n",
       "      <th>4</th>\n",
       "      <td>1</td>\n",
       "      <td>5</td>\n",
       "      <td>18.0304</td>\n",
       "      <td>1.4701</td>\n",
       "      <td>object</td>\n",
       "      <td>natural</td>\n",
       "      <td>natural</td>\n",
       "      <td>1</td>\n",
       "      <td>0.5906</td>\n",
       "      <td>loc100</td>\n",
       "      <td>control</td>\n",
       "      <td>0.4701</td>\n",
       "      <td>6.0304</td>\n",
       "    </tr>\n",
       "  </tbody>\n",
       "</table>\n",
       "</div>"
      ],
      "text/plain": [
       "   run  trial    onset  duration    cond  subcond     resp  acc  respRT  \\\n",
       "0    1      1  12.0068    1.4946  object  manmade  manmade    1  0.8153   \n",
       "1    1      2  13.9136    1.0869  object  manmade  manmade    1  0.8784   \n",
       "2    1      3  15.0290    1.4716  object  natural  natural    1  0.6792   \n",
       "3    1      4  16.5293    1.4712  object  manmade  manmade    1  0.6867   \n",
       "4    1      5  18.0304    1.4701  object  natural  natural    1  0.5906   \n",
       "\n",
       "    subid    group  duration_adj  onset_adj  \n",
       "0  loc100  control        0.4946     0.0068  \n",
       "1  loc100  control        0.0869     1.9136  \n",
       "2  loc100  control        0.4716     3.0290  \n",
       "3  loc100  control        0.4712     4.5293  \n",
       "4  loc100  control        0.4701     6.0304  "
      ]
     },
     "execution_count": 63,
     "metadata": {},
     "output_type": "execute_result"
    }
   ],
   "source": [
    "dl.head()"
   ]
  },
  {
   "cell_type": "code",
   "execution_count": 64,
   "metadata": {
    "collapsed": false
   },
   "outputs": [],
   "source": [
    "dl_med = dl.loc[(dl.cond.isin(['face', 'object', 'place'])) & \n",
    "                (dl.acc == 1) &\n",
    "                (dl.resp != 'NR')].groupby(['subid', 'group', 'cond']).median().reset_index()\n",
    "dl_med.to_csv('/Volumes/group/awagner/sgagnon/AP/behav/localizer_medRT.csv')"
   ]
  },
  {
   "cell_type": "code",
   "execution_count": 65,
   "metadata": {
    "collapsed": false
   },
   "outputs": [
    {
     "data": {
      "text/plain": [
       "<seaborn.axisgrid.FacetGrid at 0x1224f5a10>"
      ]
     },
     "execution_count": 65,
     "metadata": {},
     "output_type": "execute_result"
    },
    {
     "data": {
      "image/png": "[encoded data removed]",
      "text/plain": [
       "<matplotlib.figure.Figure at 0x122a3ac90>"
      ]
     },
     "metadata": {},
     "output_type": "display_data"
    }
   ],
   "source": [
    "dl_resp = dl[(dl.resp != 'NR') & (dl.cond != 'rest')]\n",
    "means = dl_resp.groupby(['subid', 'group', 'cond', 'acc']).median().reset_index()\n",
    "\n",
    "sns.factorplot(x='cond', hue='acc', y='respRT', col='group',\n",
    "               units='subid', ci=68, dodge=.1,\n",
    "               data=means)"
   ]
  },
  {
   "cell_type": "code",
   "execution_count": 66,
   "metadata": {
    "collapsed": false
   },
   "outputs": [
    {
     "data": {
      "text/plain": [
       "<seaborn.axisgrid.FacetGrid at 0x1231a9a10>"
      ]
     },
     "execution_count": 66,
     "metadata": {},
     "output_type": "execute_result"
    },
    {
     "data": {
      "image/png": "[encoded data removed]",
      "text/plain": [
       "<matplotlib.figure.Figure at 0x12357e2d0>"
      ]
     },
     "metadata": {},
     "output_type": "display_data"
    }
   ],
   "source": [
    "dl_resp = dl[(dl.resp != 'NR') & (dl.cond != 'rest')]\n",
    "means = dl_resp.groupby(['subid', 'group', 'cond', 'subcond', 'acc']).median().reset_index()\n",
    "\n",
    "sns.factorplot(x='subcond', aspect=1.5,\n",
    "               order=['female', 'male', 'manmade', 'natural', 'indoor', 'outdoor'],\n",
    "               hue='acc', y='respRT', col='group',\n",
    "               units='subid', ci=68, dodge=.1,\n",
    "               data=means)"
   ]
  },
  {
   "cell_type": "markdown",
   "metadata": {},
   "source": [
    "## Analyze Accuracy"
   ]
  },
  {
   "cell_type": "code",
   "execution_count": 67,
   "metadata": {
    "collapsed": false
   },
   "outputs": [
    {
     "data": {
      "text/html": [
       "<div>\n",
       "<table border=\"1\" class=\"dataframe\">\n",
       "  <thead>\n",
       "    <tr style=\"text-align: right;\">\n",
       "      <th></th>\n",
       "      <th>run</th>\n",
       "      <th>trial</th>\n",
       "      <th>onset</th>\n",
       "      <th>duration</th>\n",
       "      <th>cond</th>\n",
       "      <th>subcond</th>\n",
       "      <th>resp</th>\n",
       "      <th>acc</th>\n",
       "      <th>respRT</th>\n",
       "      <th>subid</th>\n",
       "      <th>group</th>\n",
       "      <th>duration_adj</th>\n",
       "      <th>onset_adj</th>\n",
       "    </tr>\n",
       "  </thead>\n",
       "  <tbody>\n",
       "    <tr>\n",
       "      <th>0</th>\n",
       "      <td>1</td>\n",
       "      <td>1</td>\n",
       "      <td>12.0068</td>\n",
       "      <td>1.4946</td>\n",
       "      <td>object</td>\n",
       "      <td>manmade</td>\n",
       "      <td>manmade</td>\n",
       "      <td>1</td>\n",
       "      <td>0.8153</td>\n",
       "      <td>loc100</td>\n",
       "      <td>control</td>\n",
       "      <td>0.4946</td>\n",
       "      <td>0.0068</td>\n",
       "    </tr>\n",
       "    <tr>\n",
       "      <th>1</th>\n",
       "      <td>1</td>\n",
       "      <td>2</td>\n",
       "      <td>13.9136</td>\n",
       "      <td>1.0869</td>\n",
       "      <td>object</td>\n",
       "      <td>manmade</td>\n",
       "      <td>manmade</td>\n",
       "      <td>1</td>\n",
       "      <td>0.8784</td>\n",
       "      <td>loc100</td>\n",
       "      <td>control</td>\n",
       "      <td>0.0869</td>\n",
       "      <td>1.9136</td>\n",
       "    </tr>\n",
       "    <tr>\n",
       "      <th>2</th>\n",
       "      <td>1</td>\n",
       "      <td>3</td>\n",
       "      <td>15.0290</td>\n",
       "      <td>1.4716</td>\n",
       "      <td>object</td>\n",
       "      <td>natural</td>\n",
       "      <td>natural</td>\n",
       "      <td>1</td>\n",
       "      <td>0.6792</td>\n",
       "      <td>loc100</td>\n",
       "      <td>control</td>\n",
       "      <td>0.4716</td>\n",
       "      <td>3.0290</td>\n",
       "    </tr>\n",
       "    <tr>\n",
       "      <th>3</th>\n",
       "      <td>1</td>\n",
       "      <td>4</td>\n",
       "      <td>16.5293</td>\n",
       "      <td>1.4712</td>\n",
       "      <td>object</td>\n",
       "      <td>manmade</td>\n",
       "      <td>manmade</td>\n",
       "      <td>1</td>\n",
       "      <td>0.6867</td>\n",
       "      <td>loc100</td>\n",
       "      <td>control</td>\n",
       "      <td>0.4712</td>\n",
       "      <td>4.5293</td>\n",
       "    </tr>\n",
       "    <tr>\n",
       "      <th>4</th>\n",
       "      <td>1</td>\n",
       "      <td>5</td>\n",
       "      <td>18.0304</td>\n",
       "      <td>1.4701</td>\n",
       "      <td>object</td>\n",
       "      <td>natural</td>\n",
       "      <td>natural</td>\n",
       "      <td>1</td>\n",
       "      <td>0.5906</td>\n",
       "      <td>loc100</td>\n",
       "      <td>control</td>\n",
       "      <td>0.4701</td>\n",
       "      <td>6.0304</td>\n",
       "    </tr>\n",
       "  </tbody>\n",
       "</table>\n",
       "</div>"
      ],
      "text/plain": [
       "   run  trial    onset  duration    cond  subcond     resp  acc  respRT  \\\n",
       "0    1      1  12.0068    1.4946  object  manmade  manmade    1  0.8153   \n",
       "1    1      2  13.9136    1.0869  object  manmade  manmade    1  0.8784   \n",
       "2    1      3  15.0290    1.4716  object  natural  natural    1  0.6792   \n",
       "3    1      4  16.5293    1.4712  object  manmade  manmade    1  0.6867   \n",
       "4    1      5  18.0304    1.4701  object  natural  natural    1  0.5906   \n",
       "\n",
       "    subid    group  duration_adj  onset_adj  \n",
       "0  loc100  control        0.4946     0.0068  \n",
       "1  loc100  control        0.0869     1.9136  \n",
       "2  loc100  control        0.4716     3.0290  \n",
       "3  loc100  control        0.4712     4.5293  \n",
       "4  loc100  control        0.4701     6.0304  "
      ]
     },
     "execution_count": 67,
     "metadata": {},
     "output_type": "execute_result"
    }
   ],
   "source": [
    "dl.head()"
   ]
  },
  {
   "cell_type": "code",
   "execution_count": 68,
   "metadata": {
    "collapsed": true
   },
   "outputs": [],
   "source": [
    "dl_resp = dl.loc[(dl.cond != 'rest')]\n",
    "dl_resp.to_csv('/Volumes/group/awagner/sgagnon/AP/behav/localizer_acc.csv')"
   ]
  },
  {
   "cell_type": "code",
   "execution_count": 70,
   "metadata": {
    "collapsed": false
   },
   "outputs": [
    {
     "data": {
      "image/png": "[encoded data removed]",
      "text/plain": [
       "<matplotlib.figure.Figure at 0x124026650>"
      ]
     },
     "metadata": {},
     "output_type": "display_data"
    }
   ],
   "source": [
    "dl_resp = dl[(dl.cond != 'rest')]\n",
    "means = dl_resp.groupby(['subid', 'group', 'cond']).mean().reset_index()\n",
    "\n",
    "sns.factorplot(x='cond', y='acc', hue='group',\n",
    "               units='subid', ci=68, dodge=.1, aspect=1.2,\n",
    "               data=means, palette=['dodgerblue', 'orange'])\n",
    "sns.despine(trim=True)\n",
    "\n",
    "plt.savefig('/Users/sgagnon/Dropbox/Stanford/Presentations/AP/behav_loc_acc.png')"
   ]
  },
  {
   "cell_type": "code",
   "execution_count": 27,
   "metadata": {
    "collapsed": false
   },
   "outputs": [],
   "source": [
    "dl_resp = dl[(dl.cond == 'place')]\n",
    "%R -i dl_resp"
   ]
  },
  {
   "cell_type": "code",
   "execution_count": 28,
   "metadata": {
    "collapsed": false
   },
   "outputs": [
    {
     "data": {
      "text/plain": [
       "'data.frame':\t3760 obs. of  13 variables:\n",
       " $ run         : int  1 1 1 1 1 1 1 1 1 1 ...\n",
       " $ trial       : int  67 68 69 70 71 72 73 74 75 76 ...\n",
       " $ onset       : num  165 167 168 170 171 ...\n",
       " $ duration    : num  1.4 1.4 1.43 1.43 1.43 ...\n",
       " $ cond        : Factor w/ 1 level \"place\": 1 1 1 1 1 1 1 1 1 1 ...\n",
       " $ subcond     : Factor w/ 2 levels \"indoor\",\"outdoor\": 1 2 1 2 1 2 1 2 1 2 ...\n",
       " $ resp        : Factor w/ 3 levels \"indoor\",\"NR\",..: 1 1 1 3 1 3 1 3 1 3 ...\n",
       " $ acc         : int  1 0 1 1 1 1 1 1 1 1 ...\n",
       " $ respRT      : num  0.721 0.538 0.387 0.68 0.61 ...\n",
       " $ subid       : Factor w/ 47 levels \"loc100\",\"loc101\",..: 1 1 1 1 1 1 1 1 1 1 ...\n",
       " $ group       : Factor w/ 2 levels \"control\",\"stress\": 1 1 1 1 1 1 1 1 1 1 ...\n",
       " $ duration_adj: num  0.404 0.404 0.43 0.433 0.43 ...\n",
       " $ onset_adj   : num  153 155 156 158 159 ...\n"
      ]
     },
     "metadata": {},
     "output_type": "display_data"
    }
   ],
   "source": [
    "%%R\n",
    "str(dl_resp)"
   ]
  },
  {
   "cell_type": "code",
   "execution_count": null,
   "metadata": {
    "collapsed": true
   },
   "outputs": [],
   "source": []
  },
  {
   "cell_type": "code",
   "execution_count": 30,
   "metadata": {
    "collapsed": false
   },
   "outputs": [
    {
     "data": {
      "text/plain": [
       "<seaborn.axisgrid.FacetGrid at 0x122200690>"
      ]
     },
     "execution_count": 30,
     "metadata": {},
     "output_type": "execute_result"
    },
    {
     "data": {
      "image/png": "[encoded data removed]",
      "text/plain": [
       "<matplotlib.figure.Figure at 0x121d91dd0>"
      ]
     },
     "metadata": {},
     "output_type": "display_data"
    }
   ],
   "source": [
    "dl_resp = dl[(dl.cond != 'rest')]\n",
    "means = dl_resp.groupby(['subid', 'group', 'cond', 'subcond']).mean().reset_index()\n",
    "\n",
    "sns.factorplot(x='subcond', aspect=1.5,\n",
    "               order=['female', 'male', 'manmade', 'natural', 'indoor', 'outdoor'],\n",
    "               y='acc', hue='group', palette=['dodgerblue', 'orange'],\n",
    "               units='subid', ci=68, dodge=.1,\n",
    "               data=means)"
   ]
  },
  {
   "cell_type": "markdown",
   "metadata": {},
   "source": [
    "---"
   ]
  },
  {
   "cell_type": "markdown",
   "metadata": {},
   "source": [
    "## Generate onset files"
   ]
  },
  {
   "cell_type": "markdown",
   "metadata": {},
   "source": [
    "Each csv file must have a column for `run`, `condition`, `onset`, `duration`, and `value`"
   ]
  },
  {
   "cell_type": "code",
   "execution_count": 33,
   "metadata": {
    "collapsed": false
   },
   "outputs": [
    {
     "name": "stdout",
     "output_type": "stream",
     "text": [
      "loc100\n",
      "loc101\n",
      "loc102\n",
      "loc103\n",
      "loc104\n",
      "loc105\n",
      "loc106\n",
      "loc107\n",
      "loc108\n",
      "loc109\n",
      "loc110\n",
      "loc111\n",
      "loc113\n",
      "loc114\n",
      "loc115\n",
      "loc116\n",
      "loc117\n",
      "loc118\n",
      "loc119\n",
      "loc120\n",
      "loc121\n",
      "loc122\n",
      "loc158\n",
      "loc150\n",
      "loc151\n",
      "loc152\n",
      "loc153\n",
      "loc154\n",
      "loc155\n",
      "loc156\n",
      "loc157\n",
      "loc159\n",
      "loc160\n",
      "loc161\n",
      "loc162\n",
      "loc163\n",
      "loc164\n",
      "loc165\n",
      "loc166\n",
      "loc167\n",
      "loc168\n",
      "loc169\n",
      "loc170\n",
      "loc172\n",
      "loc171\n",
      "loc173\n",
      "loc174\n"
     ]
    }
   ],
   "source": [
    "output_filename = 'localizer_subcat.csv'\n",
    "output_dir = '/Volumes/group/awagner/sgagnon/AP/data'\n",
    "\n",
    "for subid in subj_info.subid:\n",
    "    print subid\n",
    "    \n",
    "    dsub = dl.loc[(dl.subid == subid) & (dl.cond != 'rest')]\n",
    "    ddesign = pd.DataFrame({'run': dsub.run + 6,\n",
    "                            'condition': dsub.subcond,\n",
    "                            'onset': dsub.onset_adj,\n",
    "                            'value': 1})\n",
    "    \n",
    "    sub_output_dir = op.join(output_dir, subid.replace('loc', 'ap'), 'design')\n",
    "    if not os.path.exists(sub_output_dir):\n",
    "        os.makedirs(sub_output_dir)\n",
    "    \n",
    "    ddesign.to_csv(op.join(sub_output_dir, output_filename), index=False)"
   ]
  },
  {
   "cell_type": "code",
   "execution_count": 23,
   "metadata": {
    "collapsed": false
   },
   "outputs": [
    {
     "name": "stdout",
     "output_type": "stream",
     "text": [
      "loc100\n",
      "loc101\n",
      "loc102\n",
      "loc103\n",
      "loc104\n",
      "loc105\n",
      "loc107\n",
      "loc108\n",
      "loc109\n",
      "loc110\n",
      "loc111\n",
      "loc113\n",
      "loc114\n",
      "loc115\n",
      "loc116\n",
      "loc117\n",
      "loc118\n",
      "loc119\n",
      "loc120\n",
      "loc121\n",
      "loc122\n",
      "loc158\n",
      "loc150\n",
      "loc151\n",
      "loc152\n",
      "loc153\n",
      "loc154\n",
      "loc155\n",
      "loc156\n",
      "loc157\n",
      "loc159\n",
      "loc160\n",
      "loc161\n",
      "loc162\n",
      "loc163\n",
      "loc164\n",
      "loc165\n",
      "loc166\n",
      "loc167\n",
      "loc168\n",
      "loc169\n",
      "loc170\n",
      "loc172\n",
      "loc171\n",
      "loc173\n",
      "loc174\n"
     ]
    }
   ],
   "source": [
    "output_filename = 'localizer_cond.csv'\n",
    "output_dir = '/Volumes/group/awagner/sgagnon/AP/data'\n",
    "\n",
    "for subid in subj_info.subid:\n",
    "    print subid\n",
    "    \n",
    "    dsub = dl[(dl.subid == subid) & (dl.cond != 'rest')]\n",
    "    ddesign = pd.DataFrame({'run': dsub.run,\n",
    "                            'condition': dsub.cond,\n",
    "                            'onset': dsub.onset_adj,\n",
    "                            'duration': 0.5,\n",
    "                            'value': 1})\n",
    "    \n",
    "    sub_output_dir = op.join(output_dir, subid.replace('loc', 'ap'), 'design')\n",
    "    if not os.path.exists(sub_output_dir):\n",
    "        os.makedirs(sub_output_dir)\n",
    "    \n",
    "    ddesign.to_csv(op.join(sub_output_dir, output_filename), index=False)"
   ]
  },
  {
   "cell_type": "code",
   "execution_count": 24,
   "metadata": {
    "collapsed": false
   },
   "outputs": [
    {
     "name": "stdout",
     "output_type": "stream",
     "text": [
      "loc100\n",
      "loc101\n",
      "loc102\n",
      "loc103\n",
      "loc104\n",
      "loc105\n",
      "loc107\n",
      "loc108\n",
      "loc109\n",
      "loc110\n",
      "loc111\n",
      "loc113\n",
      "loc114\n",
      "loc115\n",
      "loc116\n",
      "loc117\n",
      "loc118\n",
      "loc119\n",
      "loc120\n",
      "loc121\n",
      "loc122\n",
      "loc158\n",
      "loc150\n",
      "loc151\n",
      "loc152\n",
      "loc153\n",
      "loc154\n",
      "loc155\n",
      "loc156\n",
      "loc157\n",
      "loc159\n",
      "loc160\n",
      "loc161\n",
      "loc162\n",
      "loc163\n",
      "loc164\n",
      "loc165\n",
      "loc166\n",
      "loc167\n",
      "loc168\n",
      "loc169\n",
      "loc170\n",
      "loc172\n",
      "loc171\n",
      "loc173\n",
      "loc174\n"
     ]
    }
   ],
   "source": [
    "output_filename = 'localizer_cond_dur=RT.csv'\n",
    "output_dir = '/Volumes/group/awagner/sgagnon/AP/data'\n",
    "\n",
    "for subid in subj_info.subid:\n",
    "    print subid\n",
    "    \n",
    "    dsub = dl[(dl.subid == subid) & (dl.cond != 'rest')]\n",
    "    ddesign = pd.DataFrame({'run': dsub.run,\n",
    "                            'condition': dsub.cond,\n",
    "                            'onset': dsub.onset_adj,\n",
    "                            'duration': dsub.respRT,\n",
    "                            'value': 1})\n",
    "    \n",
    "    sub_output_dir = op.join(output_dir, subid.replace('loc', 'ap'), 'design')\n",
    "    if not os.path.exists(sub_output_dir):\n",
    "        os.makedirs(sub_output_dir)\n",
    "    \n",
    "    ddesign.to_csv(op.join(sub_output_dir, output_filename), index=False)"
   ]
  },
  {
   "cell_type": "code",
   "execution_count": 25,
   "metadata": {
    "collapsed": false
   },
   "outputs": [
    {
     "name": "stdout",
     "output_type": "stream",
     "text": [
      "loc100\n",
      "loc101\n",
      "loc102\n",
      "loc103\n",
      "loc104\n",
      "loc105\n",
      "loc107\n",
      "loc108\n",
      "loc109\n",
      "loc110\n",
      "loc111\n",
      "loc113\n",
      "loc114\n",
      "loc115\n",
      "loc116\n",
      "loc117\n",
      "loc118\n",
      "loc119\n",
      "loc120\n",
      "loc121\n",
      "loc122\n",
      "loc158\n",
      "loc150\n",
      "loc151\n",
      "loc152\n",
      "loc153\n",
      "loc154\n",
      "loc155\n",
      "loc156\n",
      "loc157\n",
      "loc159\n",
      "loc160\n",
      "loc161\n",
      "loc162\n",
      "loc163\n",
      "loc164\n",
      "loc165\n",
      "loc166\n",
      "loc167\n",
      "loc168\n",
      "loc169\n",
      "loc170\n",
      "loc172\n",
      "loc171\n",
      "loc173\n",
      "loc174\n"
     ]
    }
   ],
   "source": [
    "output_filename = 'localizer_cond_mvpa.csv'\n",
    "output_dir = '/Volumes/group/awagner/sgagnon/AP/data'\n",
    "\n",
    "for subid in subj_info.subid:\n",
    "    print subid\n",
    "    \n",
    "    dsub = dl[(dl.subid == subid)] # & (dl.cond != 'rest')\n",
    "    ddesign = pd.DataFrame({'run': dsub.run + 6,\n",
    "                            'condition': dsub.cond,\n",
    "                            'onset': dsub.onset_adj,\n",
    "                            'duration': 0.5,\n",
    "                            'value': 1})\n",
    "    \n",
    "    ddesign.to_csv(op.join(output_dir, subid.replace('loc', 'ap'), \n",
    "                           'design', output_filename), index=False)"
   ]
  },
  {
   "cell_type": "code",
   "execution_count": null,
   "metadata": {
    "collapsed": false
   },
   "outputs": [],
   "source": []
  },
  {
   "cell_type": "code",
   "execution_count": 45,
   "metadata": {
    "collapsed": false
   },
   "outputs": [
    {
     "data": {
      "text/plain": [
       "(array([ 43.,  26.,  16.,  10.,   4.,   0.,   0.,   0.,   0.,   1.]),\n",
       " array([  5.02629162,   5.68389626,   6.34150089,   6.99910552,\n",
       "          7.65671015,   8.31431478,   8.97191942,   9.62952405,\n",
       "         10.28712868,  10.94473331,  11.60233794]),\n",
       " <a list of 10 Patch objects>)"
      ]
     },
     "execution_count": 45,
     "metadata": {},
     "output_type": "execute_result"
    },
    {
     "data": {
      "image/png": "[encoded data removed]",
      "text/plain": [
       "<matplotlib.figure.Figure at 0x1208b8690>"
      ]
     },
     "metadata": {},
     "output_type": "display_data"
    }
   ],
   "source": [
    "plt.hist(sp.stats.expon.rvs(5,1, size=100))"
   ]
  },
  {
   "cell_type": "code",
   "execution_count": null,
   "metadata": {
    "collapsed": true
   },
   "outputs": [],
   "source": []
  }
 ],
 "metadata": {
  "kernelspec": {
   "display_name": "Python 2",
   "language": "python",
   "name": "python2"
  },
  "language_info": {
   "codemirror_mode": {
    "name": "ipython",
    "version": 2
   },
   "file_extension": ".py",
   "mimetype": "text/x-python",
   "name": "python",
   "nbconvert_exporter": "python",
   "pygments_lexer": "ipython2",
   "version": "2.7.12"
  }
 },
 "nbformat": 4,
 "nbformat_minor": 0
}
