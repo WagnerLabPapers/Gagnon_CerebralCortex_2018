{
 "cells": [
  {
   "cell_type": "code",
   "execution_count": 1,
   "metadata": {
    "collapsed": false
   },
   "outputs": [],
   "source": [
    "%matplotlib inline"
   ]
  },
  {
   "cell_type": "code",
   "execution_count": 2,
   "metadata": {
    "collapsed": false
   },
   "outputs": [],
   "source": [
    "import glob\n",
    "import os.path as op\n",
    "import os as os\n",
    "import nibabel as nib\n",
    "import pandas as pd\n",
    "import numpy as np\n",
    "\n",
    "import matplotlib.pyplot as plt\n",
    "import matplotlib as mpl\n",
    "\n",
    "# Plotting\n",
    "import matplotlib.pyplot as plt\n",
    "from nilearn import plotting\n",
    "import seaborn as sns\n",
    "sns.set(context=\"poster\", style=\"ticks\", font=\"Arial\")"
   ]
  },
  {
   "cell_type": "markdown",
   "metadata": {},
   "source": [
    "## Define some experiment-specific info"
   ]
  },
  {
   "cell_type": "code",
   "execution_count": 42,
   "metadata": {
    "collapsed": false
   },
   "outputs": [],
   "source": [
    "exp_name = 'mvpa_raw'\n",
    "smoothing = 'unsmoothed'\n",
    "regspace = 'epi'\n",
    "smoothing_fwhm = 0\n",
    "standardize = True\n",
    "tr_shift_test_list = [0, 2, 4, 6, 8, 10, 12]\n",
    "\n",
    "basedir = '/Volumes/group/awagner/sgagnon/AP'\n",
    "analydir = op.join(basedir, 'analysis/{trial_type}').format(trial_type=exp_name)\n",
    "subjfile = op.join(analydir, 'notebooks/subj_info.csv')\n",
    "subj_info = pd.read_csv(subjfile)\n",
    "\n",
    "# outtrials = op.join(analydir, '{subid}', 'trial_estimates',\n",
    "#                     '{subid}_{output}_{time}s_trial_ovr_estimates_{mask}_byrep.csv')\n",
    "\n",
    "# FOR ALL OTHER LOGITS + VTC (2-class -- just to check if \"word\" attention might bias):\n",
    "# outtrials = op.join(analydir, '{subid}', 'trial_estimates',\n",
    "#                     '{subid}_{output}_{time}s_trial_ovr_estimates_{mask}_byrep_filtartloc_scalewithinrun.csv')\n",
    "\n",
    "# FOR VTC LOGITS (3-class):\n",
    "outtrials = op.join(analydir, '{subid}', 'trial_estimates',\n",
    "                    '{subid}_{output}_{time}s_trial_ovr_estimates_3class_{mask}_byrep_filtartloc_scalewithinrun.csv')\n",
    "\n",
    "# outtrials = op.join(analydir, '{subid}', 'trial_estimates',\n",
    "#                     '{subid}_{output}_{time}s_trial_ovr_estimates_3class_{mask}_byrep_filtartloc_equalizecounts.csv')\n",
    "\n",
    "artifacts = op.join(analydir, '{subid}', 'preproc', 'run_{run}', 'artifacts.csv')\n",
    "\n",
    "# Combine paths into dictionary (facilitate passing i/o of funcs)\n",
    "paths = dict(outtrials=outtrials, \n",
    "             analydir=analydir,\n",
    "             artifacts=artifacts)"
   ]
  },
  {
   "cell_type": "code",
   "execution_count": 43,
   "metadata": {
    "collapsed": false
   },
   "outputs": [
    {
     "data": {
      "text/plain": [
       "stress     22\n",
       "control    22\n",
       "Name: group, dtype: int64"
      ]
     },
     "execution_count": 43,
     "metadata": {},
     "output_type": "execute_result"
    }
   ],
   "source": [
    "subj_info.group.value_counts()"
   ]
  },
  {
   "cell_type": "markdown",
   "metadata": {},
   "source": [
    "## Read in classification data"
   ]
  },
  {
   "cell_type": "code",
   "execution_count": 46,
   "metadata": {
    "collapsed": false
   },
   "outputs": [
    {
     "name": "stdout",
     "output_type": "stream",
     "text": [
      "bilat-parahipp_fusi_inftemp_nohipp\n"
     ]
    }
   ],
   "source": [
    "output = 'logit'\n",
    "mask_name = 'bilat-parahipp_fusi_inftemp_nohipp' # VTC (original)\n",
    "# mask_name = 'bilat-fusi_inftemp_nohipp' # VYC without phc (test to see if phc necessary)\n",
    "# mask_name = 'lh-inferiorparietal' # inferior parietal (angular + other)\n",
    "# mask_name = 'bilat-hippocampus' # exploratory: evidence for categorical reinstatement in hipp too?\n",
    "# mask_name = 'lh-DefaultC_IPL' # exploratory: what if we restict just to angular region?\n",
    "\n",
    "print mask_name \n",
    "\n",
    "evidence_group = pd.DataFrame()\n",
    "for subid in subj_info.subid:\n",
    "\n",
    "    evidence = pd.DataFrame()\n",
    "    for time in tr_shift_test_list:\n",
    "        evidence_time = pd.read_csv(paths['outtrials'].format(subid=subid, output=output, \n",
    "                                                              time=time, mask=mask_name))\n",
    "        evidence_time['time'] = time\n",
    "        evidence_time['subid'] = subid\n",
    "        evidence = evidence.append(evidence_time, ignore_index=True)\n",
    "\n",
    "    evidence = evidence.rename(columns={'Unnamed: 0': 'condition'}).reset_index()\n",
    "    evidence_group = evidence_group.append(evidence, ignore_index=True)\n"
   ]
  },
  {
   "cell_type": "code",
   "execution_count": 47,
   "metadata": {
    "collapsed": false
   },
   "outputs": [
    {
     "data": {
      "text/html": [
       "<div>\n",
       "<style>\n",
       "    .dataframe thead tr:only-child th {\n",
       "        text-align: right;\n",
       "    }\n",
       "\n",
       "    .dataframe thead th {\n",
       "        text-align: left;\n",
       "    }\n",
       "\n",
       "    .dataframe tbody tr th {\n",
       "        vertical-align: top;\n",
       "    }\n",
       "</style>\n",
       "<table border=\"1\" class=\"dataframe\">\n",
       "  <thead>\n",
       "    <tr style=\"text-align: right;\">\n",
       "      <th></th>\n",
       "      <th></th>\n",
       "      <th>index</th>\n",
       "      <th>face</th>\n",
       "      <th>object</th>\n",
       "      <th>place</th>\n",
       "      <th>tr</th>\n",
       "      <th>onset</th>\n",
       "      <th>run</th>\n",
       "      <th>time</th>\n",
       "    </tr>\n",
       "    <tr>\n",
       "      <th>subid</th>\n",
       "      <th>condition</th>\n",
       "      <th></th>\n",
       "      <th></th>\n",
       "      <th></th>\n",
       "      <th></th>\n",
       "      <th></th>\n",
       "      <th></th>\n",
       "      <th></th>\n",
       "      <th></th>\n",
       "    </tr>\n",
       "  </thead>\n",
       "  <tbody>\n",
       "    <tr>\n",
       "      <th rowspan=\"5\" valign=\"top\">ap100</th>\n",
       "      <th>CR-0</th>\n",
       "      <td>63</td>\n",
       "      <td>63</td>\n",
       "      <td>63</td>\n",
       "      <td>63</td>\n",
       "      <td>63</td>\n",
       "      <td>63</td>\n",
       "      <td>63</td>\n",
       "      <td>63</td>\n",
       "    </tr>\n",
       "    <tr>\n",
       "      <th>FA-0</th>\n",
       "      <td>16</td>\n",
       "      <td>16</td>\n",
       "      <td>16</td>\n",
       "      <td>16</td>\n",
       "      <td>16</td>\n",
       "      <td>16</td>\n",
       "      <td>16</td>\n",
       "      <td>16</td>\n",
       "    </tr>\n",
       "    <tr>\n",
       "      <th>M-2</th>\n",
       "      <td>18</td>\n",
       "      <td>18</td>\n",
       "      <td>18</td>\n",
       "      <td>18</td>\n",
       "      <td>18</td>\n",
       "      <td>18</td>\n",
       "      <td>18</td>\n",
       "      <td>18</td>\n",
       "    </tr>\n",
       "    <tr>\n",
       "      <th>M-4</th>\n",
       "      <td>14</td>\n",
       "      <td>14</td>\n",
       "      <td>14</td>\n",
       "      <td>14</td>\n",
       "      <td>14</td>\n",
       "      <td>14</td>\n",
       "      <td>14</td>\n",
       "      <td>14</td>\n",
       "    </tr>\n",
       "    <tr>\n",
       "      <th>itemhit_lo-2</th>\n",
       "      <td>17</td>\n",
       "      <td>17</td>\n",
       "      <td>17</td>\n",
       "      <td>17</td>\n",
       "      <td>17</td>\n",
       "      <td>17</td>\n",
       "      <td>17</td>\n",
       "      <td>17</td>\n",
       "    </tr>\n",
       "  </tbody>\n",
       "</table>\n",
       "</div>"
      ],
      "text/plain": [
       "                    index  face  object  place  tr  onset  run  time\n",
       "subid condition                                                     \n",
       "ap100 CR-0             63    63      63     63  63     63   63    63\n",
       "      FA-0             16    16      16     16  16     16   16    16\n",
       "      M-2              18    18      18     18  18     18   18    18\n",
       "      M-4              14    14      14     14  14     14   14    14\n",
       "      itemhit_lo-2     17    17      17     17  17     17   17    17"
      ]
     },
     "execution_count": 47,
     "metadata": {},
     "output_type": "execute_result"
    }
   ],
   "source": [
    "evidence_group.loc[evidence_group.time == 0].groupby(['subid', 'condition']).count().head()"
   ]
  },
  {
   "cell_type": "code",
   "execution_count": 48,
   "metadata": {
    "collapsed": false
   },
   "outputs": [
    {
     "data": {
      "text/html": [
       "<div>\n",
       "<style>\n",
       "    .dataframe thead tr:only-child th {\n",
       "        text-align: right;\n",
       "    }\n",
       "\n",
       "    .dataframe thead th {\n",
       "        text-align: left;\n",
       "    }\n",
       "\n",
       "    .dataframe tbody tr th {\n",
       "        vertical-align: top;\n",
       "    }\n",
       "</style>\n",
       "<table border=\"1\" class=\"dataframe\">\n",
       "  <thead>\n",
       "    <tr style=\"text-align: right;\">\n",
       "      <th></th>\n",
       "      <th>index</th>\n",
       "      <th>condition</th>\n",
       "      <th>face</th>\n",
       "      <th>object</th>\n",
       "      <th>place</th>\n",
       "      <th>tr</th>\n",
       "      <th>onset</th>\n",
       "      <th>run</th>\n",
       "      <th>time</th>\n",
       "      <th>subid</th>\n",
       "      <th>group</th>\n",
       "    </tr>\n",
       "  </thead>\n",
       "  <tbody>\n",
       "    <tr>\n",
       "      <th>0</th>\n",
       "      <td>0</td>\n",
       "      <td>sourcemiss_hi-4</td>\n",
       "      <td>-2.423333</td>\n",
       "      <td>6.498398</td>\n",
       "      <td>-6.634973</td>\n",
       "      <td>1.0</td>\n",
       "      <td>0.0191</td>\n",
       "      <td>1.0</td>\n",
       "      <td>0</td>\n",
       "      <td>ap100</td>\n",
       "      <td>control</td>\n",
       "    </tr>\n",
       "    <tr>\n",
       "      <th>1</th>\n",
       "      <td>1</td>\n",
       "      <td>CR-0</td>\n",
       "      <td>3.903201</td>\n",
       "      <td>-3.432970</td>\n",
       "      <td>-0.182527</td>\n",
       "      <td>6.0</td>\n",
       "      <td>10.7129</td>\n",
       "      <td>1.0</td>\n",
       "      <td>0</td>\n",
       "      <td>ap100</td>\n",
       "      <td>control</td>\n",
       "    </tr>\n",
       "    <tr>\n",
       "      <th>2</th>\n",
       "      <td>2</td>\n",
       "      <td>sourcehit-2</td>\n",
       "      <td>6.809258</td>\n",
       "      <td>1.399707</td>\n",
       "      <td>-9.264720</td>\n",
       "      <td>10.0</td>\n",
       "      <td>19.8642</td>\n",
       "      <td>1.0</td>\n",
       "      <td>0</td>\n",
       "      <td>ap100</td>\n",
       "      <td>control</td>\n",
       "    </tr>\n",
       "    <tr>\n",
       "      <th>3</th>\n",
       "      <td>3</td>\n",
       "      <td>sourcehit-2</td>\n",
       "      <td>-1.613396</td>\n",
       "      <td>-3.539275</td>\n",
       "      <td>6.803715</td>\n",
       "      <td>15.0</td>\n",
       "      <td>29.3132</td>\n",
       "      <td>1.0</td>\n",
       "      <td>0</td>\n",
       "      <td>ap100</td>\n",
       "      <td>control</td>\n",
       "    </tr>\n",
       "    <tr>\n",
       "      <th>4</th>\n",
       "      <td>4</td>\n",
       "      <td>sourcehit-2</td>\n",
       "      <td>-6.580058</td>\n",
       "      <td>-1.326757</td>\n",
       "      <td>8.430978</td>\n",
       "      <td>21.0</td>\n",
       "      <td>40.6786</td>\n",
       "      <td>1.0</td>\n",
       "      <td>0</td>\n",
       "      <td>ap100</td>\n",
       "      <td>control</td>\n",
       "    </tr>\n",
       "  </tbody>\n",
       "</table>\n",
       "</div>"
      ],
      "text/plain": [
       "   index        condition      face    object     place    tr    onset  run  \\\n",
       "0      0  sourcemiss_hi-4 -2.423333  6.498398 -6.634973   1.0   0.0191  1.0   \n",
       "1      1             CR-0  3.903201 -3.432970 -0.182527   6.0  10.7129  1.0   \n",
       "2      2      sourcehit-2  6.809258  1.399707 -9.264720  10.0  19.8642  1.0   \n",
       "3      3      sourcehit-2 -1.613396 -3.539275  6.803715  15.0  29.3132  1.0   \n",
       "4      4      sourcehit-2 -6.580058 -1.326757  8.430978  21.0  40.6786  1.0   \n",
       "\n",
       "   time  subid    group  \n",
       "0     0  ap100  control  \n",
       "1     0  ap100  control  \n",
       "2     0  ap100  control  \n",
       "3     0  ap100  control  \n",
       "4     0  ap100  control  "
      ]
     },
     "execution_count": 48,
     "metadata": {},
     "output_type": "execute_result"
    }
   ],
   "source": [
    "evidence_group = evidence_group.merge(subj_info)\n",
    "evidence_group.head()"
   ]
  },
  {
   "cell_type": "code",
   "execution_count": 312,
   "metadata": {
    "collapsed": false
   },
   "outputs": [],
   "source": [
    "## if 2-category and need to rename\n",
    "# evidence_group.rename(columns={'face': 'place'}, inplace=True)\n",
    "# evidence_group.head()"
   ]
  },
  {
   "cell_type": "markdown",
   "metadata": {},
   "source": [
    "## Output onset files for logit-modulated univariate analysis"
   ]
  },
  {
   "cell_type": "markdown",
   "metadata": {},
   "source": [
    "This analysis explores where in the brain is modulated by increased reinstatement "
   ]
  },
  {
   "cell_type": "code",
   "execution_count": 153,
   "metadata": {
    "collapsed": false
   },
   "outputs": [],
   "source": [
    "dt = pd.read_csv('/Volumes/group/awagner/sgagnon/AP/analysis/mvpa/notebooks/ap_behav.csv')\n",
    "dt.onset = dt.onset_adj\n",
    "dt = dt.loc[:,['subid', 'run', 'trial', 'onset', 'obj_conditions', 'mem_conditions']]"
   ]
  },
  {
   "cell_type": "code",
   "execution_count": 154,
   "metadata": {
    "collapsed": false
   },
   "outputs": [
    {
     "name": "stdout",
     "output_type": "stream",
     "text": [
      "(5171, 13)\n",
      "(11789, 6)\n",
      "(11789, 16)\n"
     ]
    },
    {
     "data": {
      "text/html": [
       "<div>\n",
       "<table border=\"1\" class=\"dataframe\">\n",
       "  <thead>\n",
       "    <tr style=\"text-align: right;\">\n",
       "      <th>time</th>\n",
       "      <th>group</th>\n",
       "      <th>subid</th>\n",
       "      <th>run</th>\n",
       "      <th>onset</th>\n",
       "      <th>condition</th>\n",
       "      <th>0</th>\n",
       "      <th>2</th>\n",
       "      <th>4</th>\n",
       "      <th>6</th>\n",
       "      <th>8</th>\n",
       "      <th>10</th>\n",
       "      <th>12</th>\n",
       "      <th>avg_logit</th>\n",
       "      <th>trial</th>\n",
       "      <th>obj_conditions</th>\n",
       "      <th>mem_conditions</th>\n",
       "    </tr>\n",
       "  </thead>\n",
       "  <tbody>\n",
       "    <tr>\n",
       "      <th>0</th>\n",
       "      <td>control</td>\n",
       "      <td>ap100</td>\n",
       "      <td>1</td>\n",
       "      <td>11</td>\n",
       "      <td>CR</td>\n",
       "      <td>-0.170266</td>\n",
       "      <td>-1.018969</td>\n",
       "      <td>-3.787483</td>\n",
       "      <td>-6.946018</td>\n",
       "      <td>-7.847842</td>\n",
       "      <td>-5.117977</td>\n",
       "      <td>4.856460</td>\n",
       "      <td>-5.924830</td>\n",
       "      <td>2</td>\n",
       "      <td>new</td>\n",
       "      <td>CR</td>\n",
       "    </tr>\n",
       "    <tr>\n",
       "      <th>1</th>\n",
       "      <td>control</td>\n",
       "      <td>ap100</td>\n",
       "      <td>1</td>\n",
       "      <td>20</td>\n",
       "      <td>sourcehit</td>\n",
       "      <td>-10.059163</td>\n",
       "      <td>NaN</td>\n",
       "      <td>NaN</td>\n",
       "      <td>4.498670</td>\n",
       "      <td>NaN</td>\n",
       "      <td>8.414237</td>\n",
       "      <td>6.642507</td>\n",
       "      <td>6.456453</td>\n",
       "      <td>3</td>\n",
       "      <td>old</td>\n",
       "      <td>sourcehit</td>\n",
       "    </tr>\n",
       "    <tr>\n",
       "      <th>2</th>\n",
       "      <td>control</td>\n",
       "      <td>ap100</td>\n",
       "      <td>1</td>\n",
       "      <td>29</td>\n",
       "      <td>sourcehit</td>\n",
       "      <td>6.626048</td>\n",
       "      <td>NaN</td>\n",
       "      <td>NaN</td>\n",
       "      <td>NaN</td>\n",
       "      <td>-0.551006</td>\n",
       "      <td>NaN</td>\n",
       "      <td>11.208046</td>\n",
       "      <td>-0.551006</td>\n",
       "      <td>4</td>\n",
       "      <td>old</td>\n",
       "      <td>sourcehit</td>\n",
       "    </tr>\n",
       "    <tr>\n",
       "      <th>3</th>\n",
       "      <td>control</td>\n",
       "      <td>ap100</td>\n",
       "      <td>1</td>\n",
       "      <td>41</td>\n",
       "      <td>sourcehit</td>\n",
       "      <td>8.218337</td>\n",
       "      <td>NaN</td>\n",
       "      <td>NaN</td>\n",
       "      <td>3.020099</td>\n",
       "      <td>NaN</td>\n",
       "      <td>0.753717</td>\n",
       "      <td>NaN</td>\n",
       "      <td>1.886908</td>\n",
       "      <td>5</td>\n",
       "      <td>old</td>\n",
       "      <td>sourcehit</td>\n",
       "    </tr>\n",
       "    <tr>\n",
       "      <th>4</th>\n",
       "      <td>control</td>\n",
       "      <td>ap100</td>\n",
       "      <td>1</td>\n",
       "      <td>50</td>\n",
       "      <td>sourcehit</td>\n",
       "      <td>NaN</td>\n",
       "      <td>NaN</td>\n",
       "      <td>-2.396999</td>\n",
       "      <td>NaN</td>\n",
       "      <td>-1.868044</td>\n",
       "      <td>NaN</td>\n",
       "      <td>-5.878458</td>\n",
       "      <td>-2.132522</td>\n",
       "      <td>6</td>\n",
       "      <td>old</td>\n",
       "      <td>sourcehit</td>\n",
       "    </tr>\n",
       "  </tbody>\n",
       "</table>\n",
       "</div>"
      ],
      "text/plain": [
       "time    group  subid  run  onset  condition          0         2         4  \\\n",
       "0     control  ap100    1     11         CR  -0.170266 -1.018969 -3.787483   \n",
       "1     control  ap100    1     20  sourcehit -10.059163       NaN       NaN   \n",
       "2     control  ap100    1     29  sourcehit   6.626048       NaN       NaN   \n",
       "3     control  ap100    1     41  sourcehit   8.218337       NaN       NaN   \n",
       "4     control  ap100    1     50  sourcehit        NaN       NaN -2.396999   \n",
       "\n",
       "time         6         8        10         12  avg_logit  trial  \\\n",
       "0    -6.946018 -7.847842 -5.117977   4.856460  -5.924830      2   \n",
       "1     4.498670       NaN  8.414237   6.642507   6.456453      3   \n",
       "2          NaN -0.551006       NaN  11.208046  -0.551006      4   \n",
       "3     3.020099       NaN  0.753717        NaN   1.886908      5   \n",
       "4          NaN -1.868044       NaN  -5.878458  -2.132522      6   \n",
       "\n",
       "time obj_conditions mem_conditions  \n",
       "0               new             CR  \n",
       "1               old      sourcehit  \n",
       "2               old      sourcehit  \n",
       "3               old      sourcehit  \n",
       "4               old      sourcehit  "
      ]
     },
     "execution_count": 154,
     "metadata": {},
     "output_type": "execute_result"
    }
   ],
   "source": [
    "# average logits over a window for each trial\n",
    "data = evidence_group.loc[:,['subid', 'group', 'run', 'onset', 'time', 'place', 'condition']]\n",
    "data.sort_values(by=['subid', 'run', 'onset', 'time'], inplace=True)\n",
    "data_p = data.pivot_table(index=['group', 'subid', 'run', 'onset', 'condition'], columns='time', values='place').reset_index()\n",
    "data_p['avg_logit'] = data_p[[4,6,8,10]].mean(axis=1)\n",
    "\n",
    "# merge with onset file\n",
    "data_p.onset = data_p.onset.round()\n",
    "dt.onset = dt.onset.round()\n",
    "data = data_p.merge(dt, on=['subid', 'run', 'onset'], how='outer') # outer join to keep nuisance/shock trials \n",
    "# (note that dt also has subjects that we're tossing for fMRI)\n",
    "print data_p.shape\n",
    "print dt.shape\n",
    "print data.shape\n",
    "data.head()"
   ]
  },
  {
   "cell_type": "code",
   "execution_count": 155,
   "metadata": {
    "collapsed": false
   },
   "outputs": [
    {
     "data": {
      "text/plain": [
       "array(['CR', 'sourcehit', 'sourcemiss_hi', 'M', 'FA', 'itemhit_lo',\n",
       "       'nuisance'], dtype=object)"
      ]
     },
     "execution_count": 155,
     "metadata": {},
     "output_type": "execute_result"
    }
   ],
   "source": [
    "data.mem_conditions.unique()"
   ]
  },
  {
   "cell_type": "code",
   "execution_count": 116,
   "metadata": {
    "collapsed": false
   },
   "outputs": [],
   "source": [
    "# make old/new that includes \"nuisance\" for no responses\n",
    "data = data.replace({'mem_conditions': {'CR': 'new', 'FA': 'new',\n",
    "                                        'sourcehit': 'old', 'itemhit_lo': 'old',\n",
    "                                        'M': 'old', 'sourcemiss_hi': 'old'}})"
   ]
  },
  {
   "cell_type": "code",
   "execution_count": 83,
   "metadata": {
    "collapsed": true
   },
   "outputs": [],
   "source": [
    "# z-score within condition/run\n",
    "zscore = lambda x: (x-x.mean()) / x.std()\n",
    "data['place_scaled'] = data.groupby(['subid', 'run', 'mem_conditions']).avg_logit.transform(zscore)"
   ]
  },
  {
   "cell_type": "code",
   "execution_count": 27,
   "metadata": {
    "collapsed": false
   },
   "outputs": [
    {
     "name": "stdout",
     "output_type": "stream",
     "text": [
      "ap100\n",
      "ap101\n",
      "ap102\n",
      "ap103\n",
      "ap104\n",
      "ap105\n",
      "ap107\n",
      "ap108\n",
      "ap109\n",
      "ap110\n",
      "ap111\n",
      "ap113\n",
      "ap114\n",
      "ap115\n",
      "ap116\n",
      "ap117\n",
      "ap118\n",
      "ap119\n",
      "ap120\n",
      "ap121\n",
      "ap122\n",
      "ap150\n",
      "ap152\n",
      "ap153\n",
      "ap154\n",
      "ap155\n",
      "ap157\n",
      "ap158\n",
      "ap159\n",
      "ap160\n",
      "ap161\n",
      "ap162\n",
      "ap163\n",
      "ap164\n",
      "ap165\n",
      "ap166\n",
      "ap167\n",
      "ap168\n",
      "ap169\n",
      "ap170\n",
      "ap171\n",
      "ap172\n",
      "ap173\n",
      "ap174\n"
     ]
    }
   ],
   "source": [
    "# output_filename = 'AP_scene_logit_nohipp.csv'\n",
    "output_filename = 'AP_scene_logit_nohipp_2class.csv'\n",
    "output_dir = '/Volumes/group/awagner/sgagnon/AP/data'\n",
    "\n",
    "for subid in subj_info.subid:\n",
    "    print subid\n",
    "    \n",
    "    dsub = data[(data.subid == subid)]\n",
    "\n",
    "    ddesign = pd.DataFrame({'run': dsub.run,\n",
    "                            'condition': dsub.mem_conditions,\n",
    "                            'onset': dsub.onset,\n",
    "                            'duration': 0,\n",
    "                            'value': 1})\n",
    "\n",
    "    # Add parametric modulators\n",
    "    dsub_no_nuisance = dsub.query('mem_conditions != \"nuisance\"')\n",
    "    ddesign = ddesign.append(pd.DataFrame({'run': dsub_no_nuisance.run,\n",
    "                                            'condition': dsub_no_nuisance.mem_conditions + '_scene',\n",
    "                                            'onset': dsub_no_nuisance.onset,\n",
    "                                            'duration': 0,\n",
    "                                            'value': dsub_no_nuisance.place_scaled}), ignore_index=True)\n",
    "    \n",
    "    \n",
    "    # add in nuisance to deal with NRs\n",
    "    for run in ddesign.run.unique():\n",
    "        ddesign = ddesign.append({'run': run,\n",
    "                                  'condition': 'nuisance',\n",
    "                                  'onset': 221*2-4, \n",
    "                                  'duration': 4,\n",
    "                                  'value': 1}, ignore_index=True)\n",
    "    \n",
    "    \n",
    "    sub_output_dir = op.join(output_dir, subid, 'design')\n",
    "    if not os.path.exists(sub_output_dir):\n",
    "        os.makedirs(sub_output_dir)\n",
    "        print 'Making directory'\n",
    "    \n",
    "    ddesign.to_csv(op.join(sub_output_dir, output_filename), index=False)"
   ]
  },
  {
   "cell_type": "markdown",
   "metadata": {},
   "source": [
    "\n",
    "## Integrate artifact detection to screen out noisy samples"
   ]
  },
  {
   "cell_type": "code",
   "execution_count": 49,
   "metadata": {
    "collapsed": false
   },
   "outputs": [],
   "source": [
    "artifacts_group = pd.DataFrame()\n",
    "for subid in evidence_group.subid.unique():\n",
    "    run_list = evidence_group.loc[evidence_group.subid == subid].run.unique()\n",
    "    \n",
    "    for run in run_list:\n",
    "        run_arts = pd.read_csv(paths['artifacts'].format(subid=subid, run=str(int(run))))\n",
    "        run_arts['tr'] = np.arange(1,len(run_arts)+1).astype(float)\n",
    "        run_arts['subid'] = subid\n",
    "        run_arts['run'] = run\n",
    "        \n",
    "        artifacts_group = artifacts_group.append(run_arts, ignore_index=True)"
   ]
  },
  {
   "cell_type": "code",
   "execution_count": 50,
   "metadata": {
    "collapsed": false
   },
   "outputs": [
    {
     "data": {
      "text/html": [
       "<div>\n",
       "<style>\n",
       "    .dataframe thead tr:only-child th {\n",
       "        text-align: right;\n",
       "    }\n",
       "\n",
       "    .dataframe thead th {\n",
       "        text-align: left;\n",
       "    }\n",
       "\n",
       "    .dataframe tbody tr th {\n",
       "        vertical-align: top;\n",
       "    }\n",
       "</style>\n",
       "<table border=\"1\" class=\"dataframe\">\n",
       "  <thead>\n",
       "    <tr style=\"text-align: right;\">\n",
       "      <th></th>\n",
       "      <th>intensity</th>\n",
       "      <th>motion</th>\n",
       "      <th>spikes</th>\n",
       "      <th>tr</th>\n",
       "      <th>subid</th>\n",
       "      <th>run</th>\n",
       "    </tr>\n",
       "  </thead>\n",
       "  <tbody>\n",
       "    <tr>\n",
       "      <th>0</th>\n",
       "      <td>0</td>\n",
       "      <td>0</td>\n",
       "      <td>0</td>\n",
       "      <td>1.0</td>\n",
       "      <td>ap100</td>\n",
       "      <td>1.0</td>\n",
       "    </tr>\n",
       "    <tr>\n",
       "      <th>1</th>\n",
       "      <td>0</td>\n",
       "      <td>0</td>\n",
       "      <td>0</td>\n",
       "      <td>2.0</td>\n",
       "      <td>ap100</td>\n",
       "      <td>1.0</td>\n",
       "    </tr>\n",
       "    <tr>\n",
       "      <th>2</th>\n",
       "      <td>0</td>\n",
       "      <td>0</td>\n",
       "      <td>0</td>\n",
       "      <td>3.0</td>\n",
       "      <td>ap100</td>\n",
       "      <td>1.0</td>\n",
       "    </tr>\n",
       "    <tr>\n",
       "      <th>3</th>\n",
       "      <td>0</td>\n",
       "      <td>0</td>\n",
       "      <td>0</td>\n",
       "      <td>4.0</td>\n",
       "      <td>ap100</td>\n",
       "      <td>1.0</td>\n",
       "    </tr>\n",
       "    <tr>\n",
       "      <th>4</th>\n",
       "      <td>0</td>\n",
       "      <td>0</td>\n",
       "      <td>0</td>\n",
       "      <td>5.0</td>\n",
       "      <td>ap100</td>\n",
       "      <td>1.0</td>\n",
       "    </tr>\n",
       "  </tbody>\n",
       "</table>\n",
       "</div>"
      ],
      "text/plain": [
       "   intensity  motion  spikes   tr  subid  run\n",
       "0          0       0       0  1.0  ap100  1.0\n",
       "1          0       0       0  2.0  ap100  1.0\n",
       "2          0       0       0  3.0  ap100  1.0\n",
       "3          0       0       0  4.0  ap100  1.0\n",
       "4          0       0       0  5.0  ap100  1.0"
      ]
     },
     "execution_count": 50,
     "metadata": {},
     "output_type": "execute_result"
    }
   ],
   "source": [
    "artifacts_group.head()"
   ]
  },
  {
   "cell_type": "markdown",
   "metadata": {},
   "source": [
    "### Now merge w/the classification data"
   ]
  },
  {
   "cell_type": "code",
   "execution_count": 51,
   "metadata": {
    "collapsed": false
   },
   "outputs": [
    {
     "data": {
      "text/plain": [
       "(74746, 11)"
      ]
     },
     "execution_count": 51,
     "metadata": {},
     "output_type": "execute_result"
    }
   ],
   "source": [
    "evidence_group.shape # longer (for non-equalized trial counts) because of some duplicate TRs across conditions (eg end/beginning of trials)\n",
    "# for equalized trial counts: 27986\n",
    "# for regular: 74746"
   ]
  },
  {
   "cell_type": "code",
   "execution_count": 52,
   "metadata": {
    "collapsed": false
   },
   "outputs": [
    {
     "data": {
      "text/plain": [
       "(58123, 6)"
      ]
     },
     "execution_count": 52,
     "metadata": {},
     "output_type": "execute_result"
    }
   ],
   "source": [
    "artifacts_group.shape\n",
    "# 55913"
   ]
  },
  {
   "cell_type": "code",
   "execution_count": 53,
   "metadata": {
    "collapsed": false
   },
   "outputs": [],
   "source": [
    "evidence_group = evidence_group.merge(artifacts_group, on=['subid', 'run', 'tr'], how='left').reset_index()"
   ]
  },
  {
   "cell_type": "code",
   "execution_count": 54,
   "metadata": {
    "collapsed": false
   },
   "outputs": [
    {
     "name": "stdout",
     "output_type": "stream",
     "text": [
      "(74746, 15)\n"
     ]
    },
    {
     "data": {
      "text/html": [
       "<div>\n",
       "<style>\n",
       "    .dataframe thead tr:only-child th {\n",
       "        text-align: right;\n",
       "    }\n",
       "\n",
       "    .dataframe thead th {\n",
       "        text-align: left;\n",
       "    }\n",
       "\n",
       "    .dataframe tbody tr th {\n",
       "        vertical-align: top;\n",
       "    }\n",
       "</style>\n",
       "<table border=\"1\" class=\"dataframe\">\n",
       "  <thead>\n",
       "    <tr style=\"text-align: right;\">\n",
       "      <th></th>\n",
       "      <th>level_0</th>\n",
       "      <th>index</th>\n",
       "      <th>condition</th>\n",
       "      <th>face</th>\n",
       "      <th>object</th>\n",
       "      <th>place</th>\n",
       "      <th>tr</th>\n",
       "      <th>onset</th>\n",
       "      <th>run</th>\n",
       "      <th>time</th>\n",
       "      <th>subid</th>\n",
       "      <th>group</th>\n",
       "      <th>intensity</th>\n",
       "      <th>motion</th>\n",
       "      <th>spikes</th>\n",
       "    </tr>\n",
       "  </thead>\n",
       "  <tbody>\n",
       "    <tr>\n",
       "      <th>0</th>\n",
       "      <td>0</td>\n",
       "      <td>0</td>\n",
       "      <td>sourcemiss_hi-4</td>\n",
       "      <td>-2.423333</td>\n",
       "      <td>6.498398</td>\n",
       "      <td>-6.634973</td>\n",
       "      <td>1.0</td>\n",
       "      <td>0.0191</td>\n",
       "      <td>1.0</td>\n",
       "      <td>0</td>\n",
       "      <td>ap100</td>\n",
       "      <td>control</td>\n",
       "      <td>0</td>\n",
       "      <td>0</td>\n",
       "      <td>0</td>\n",
       "    </tr>\n",
       "    <tr>\n",
       "      <th>1</th>\n",
       "      <td>1</td>\n",
       "      <td>1</td>\n",
       "      <td>CR-0</td>\n",
       "      <td>3.903201</td>\n",
       "      <td>-3.432970</td>\n",
       "      <td>-0.182527</td>\n",
       "      <td>6.0</td>\n",
       "      <td>10.7129</td>\n",
       "      <td>1.0</td>\n",
       "      <td>0</td>\n",
       "      <td>ap100</td>\n",
       "      <td>control</td>\n",
       "      <td>0</td>\n",
       "      <td>0</td>\n",
       "      <td>0</td>\n",
       "    </tr>\n",
       "    <tr>\n",
       "      <th>2</th>\n",
       "      <td>2</td>\n",
       "      <td>2</td>\n",
       "      <td>sourcehit-2</td>\n",
       "      <td>6.809258</td>\n",
       "      <td>1.399707</td>\n",
       "      <td>-9.264720</td>\n",
       "      <td>10.0</td>\n",
       "      <td>19.8642</td>\n",
       "      <td>1.0</td>\n",
       "      <td>0</td>\n",
       "      <td>ap100</td>\n",
       "      <td>control</td>\n",
       "      <td>0</td>\n",
       "      <td>0</td>\n",
       "      <td>0</td>\n",
       "    </tr>\n",
       "    <tr>\n",
       "      <th>3</th>\n",
       "      <td>3</td>\n",
       "      <td>3</td>\n",
       "      <td>sourcehit-2</td>\n",
       "      <td>-1.613396</td>\n",
       "      <td>-3.539275</td>\n",
       "      <td>6.803715</td>\n",
       "      <td>15.0</td>\n",
       "      <td>29.3132</td>\n",
       "      <td>1.0</td>\n",
       "      <td>0</td>\n",
       "      <td>ap100</td>\n",
       "      <td>control</td>\n",
       "      <td>0</td>\n",
       "      <td>0</td>\n",
       "      <td>0</td>\n",
       "    </tr>\n",
       "    <tr>\n",
       "      <th>4</th>\n",
       "      <td>4</td>\n",
       "      <td>4</td>\n",
       "      <td>sourcehit-2</td>\n",
       "      <td>-6.580058</td>\n",
       "      <td>-1.326757</td>\n",
       "      <td>8.430978</td>\n",
       "      <td>21.0</td>\n",
       "      <td>40.6786</td>\n",
       "      <td>1.0</td>\n",
       "      <td>0</td>\n",
       "      <td>ap100</td>\n",
       "      <td>control</td>\n",
       "      <td>0</td>\n",
       "      <td>0</td>\n",
       "      <td>0</td>\n",
       "    </tr>\n",
       "  </tbody>\n",
       "</table>\n",
       "</div>"
      ],
      "text/plain": [
       "   level_0  index        condition      face    object     place    tr  \\\n",
       "0        0      0  sourcemiss_hi-4 -2.423333  6.498398 -6.634973   1.0   \n",
       "1        1      1             CR-0  3.903201 -3.432970 -0.182527   6.0   \n",
       "2        2      2      sourcehit-2  6.809258  1.399707 -9.264720  10.0   \n",
       "3        3      3      sourcehit-2 -1.613396 -3.539275  6.803715  15.0   \n",
       "4        4      4      sourcehit-2 -6.580058 -1.326757  8.430978  21.0   \n",
       "\n",
       "     onset  run  time  subid    group  intensity  motion  spikes  \n",
       "0   0.0191  1.0     0  ap100  control          0       0       0  \n",
       "1  10.7129  1.0     0  ap100  control          0       0       0  \n",
       "2  19.8642  1.0     0  ap100  control          0       0       0  \n",
       "3  29.3132  1.0     0  ap100  control          0       0       0  \n",
       "4  40.6786  1.0     0  ap100  control          0       0       0  "
      ]
     },
     "execution_count": 54,
     "metadata": {},
     "output_type": "execute_result"
    }
   ],
   "source": [
    "print evidence_group.shape\n",
    "evidence_group.head()"
   ]
  },
  {
   "cell_type": "code",
   "execution_count": 58,
   "metadata": {
    "collapsed": false
   },
   "outputs": [
    {
     "data": {
      "text/html": [
       "<div>\n",
       "<style>\n",
       "    .dataframe thead tr:only-child th {\n",
       "        text-align: right;\n",
       "    }\n",
       "\n",
       "    .dataframe thead th {\n",
       "        text-align: left;\n",
       "    }\n",
       "\n",
       "    .dataframe tbody tr th {\n",
       "        vertical-align: top;\n",
       "    }\n",
       "</style>\n",
       "<table border=\"1\" class=\"dataframe\">\n",
       "  <thead>\n",
       "    <tr style=\"text-align: right;\">\n",
       "      <th></th>\n",
       "      <th>level_0</th>\n",
       "      <th>index</th>\n",
       "      <th>face</th>\n",
       "      <th>object</th>\n",
       "      <th>place</th>\n",
       "      <th>tr</th>\n",
       "      <th>onset</th>\n",
       "      <th>run</th>\n",
       "      <th>time</th>\n",
       "      <th>intensity</th>\n",
       "      <th>motion</th>\n",
       "      <th>spikes</th>\n",
       "    </tr>\n",
       "    <tr>\n",
       "      <th>group</th>\n",
       "      <th></th>\n",
       "      <th></th>\n",
       "      <th></th>\n",
       "      <th></th>\n",
       "      <th></th>\n",
       "      <th></th>\n",
       "      <th></th>\n",
       "      <th></th>\n",
       "      <th></th>\n",
       "      <th></th>\n",
       "      <th></th>\n",
       "      <th></th>\n",
       "    </tr>\n",
       "  </thead>\n",
       "  <tbody>\n",
       "    <tr>\n",
       "      <th>control</th>\n",
       "      <td>3.392791e+07</td>\n",
       "      <td>1.506547e+06</td>\n",
       "      <td>-422.169724</td>\n",
       "      <td>-561.029322</td>\n",
       "      <td>-471.186827</td>\n",
       "      <td>186982.727273</td>\n",
       "      <td>361778.744441</td>\n",
       "      <td>6064.545455</td>\n",
       "      <td>10414.090909</td>\n",
       "      <td>16.090909</td>\n",
       "      <td>0.136364</td>\n",
       "      <td>0.0</td>\n",
       "    </tr>\n",
       "    <tr>\n",
       "      <th>stress</th>\n",
       "      <td>9.304686e+07</td>\n",
       "      <td>1.383685e+06</td>\n",
       "      <td>-473.190663</td>\n",
       "      <td>-568.842318</td>\n",
       "      <td>-484.159234</td>\n",
       "      <td>179396.636364</td>\n",
       "      <td>347140.257482</td>\n",
       "      <td>5752.727273</td>\n",
       "      <td>9971.181818</td>\n",
       "      <td>19.045455</td>\n",
       "      <td>1.181818</td>\n",
       "      <td>0.0</td>\n",
       "    </tr>\n",
       "  </tbody>\n",
       "</table>\n",
       "</div>"
      ],
      "text/plain": [
       "              level_0         index        face      object       place  \\\n",
       "group                                                                     \n",
       "control  3.392791e+07  1.506547e+06 -422.169724 -561.029322 -471.186827   \n",
       "stress   9.304686e+07  1.383685e+06 -473.190663 -568.842318 -484.159234   \n",
       "\n",
       "                    tr          onset          run          time  intensity  \\\n",
       "group                                                                         \n",
       "control  186982.727273  361778.744441  6064.545455  10414.090909  16.090909   \n",
       "stress   179396.636364  347140.257482  5752.727273   9971.181818  19.045455   \n",
       "\n",
       "           motion  spikes  \n",
       "group                      \n",
       "control  0.136364     0.0  \n",
       "stress   1.181818     0.0  "
      ]
     },
     "execution_count": 58,
     "metadata": {},
     "output_type": "execute_result"
    }
   ],
   "source": [
    "artifact_counts = evidence_group.groupby(['subid', 'group']).sum().reset_index()\n",
    "artifact_counts.groupby(['group']).mean()"
   ]
  },
  {
   "cell_type": "markdown",
   "metadata": {},
   "source": [
    "### How many samples have motion > 1 mm?"
   ]
  },
  {
   "cell_type": "code",
   "execution_count": 59,
   "metadata": {
    "collapsed": false
   },
   "outputs": [
    {
     "data": {
      "text/html": [
       "<div>\n",
       "<style>\n",
       "    .dataframe thead tr:only-child th {\n",
       "        text-align: right;\n",
       "    }\n",
       "\n",
       "    .dataframe thead th {\n",
       "        text-align: left;\n",
       "    }\n",
       "\n",
       "    .dataframe tbody tr th {\n",
       "        vertical-align: top;\n",
       "    }\n",
       "</style>\n",
       "<table border=\"1\" class=\"dataframe\">\n",
       "  <thead>\n",
       "    <tr style=\"text-align: right;\">\n",
       "      <th></th>\n",
       "      <th>subid</th>\n",
       "      <th>group</th>\n",
       "      <th>level_0</th>\n",
       "      <th>index</th>\n",
       "      <th>face</th>\n",
       "      <th>object</th>\n",
       "      <th>place</th>\n",
       "      <th>tr</th>\n",
       "      <th>onset</th>\n",
       "      <th>run</th>\n",
       "      <th>time</th>\n",
       "      <th>intensity</th>\n",
       "      <th>motion</th>\n",
       "      <th>spikes</th>\n",
       "    </tr>\n",
       "  </thead>\n",
       "  <tbody>\n",
       "    <tr>\n",
       "      <th>19</th>\n",
       "      <td>ap121</td>\n",
       "      <td>control</td>\n",
       "      <td>59590566</td>\n",
       "      <td>1554966</td>\n",
       "      <td>-535.641050</td>\n",
       "      <td>-625.917077</td>\n",
       "      <td>-624.942028</td>\n",
       "      <td>189798.0</td>\n",
       "      <td>367281.0939</td>\n",
       "      <td>6174.0</td>\n",
       "      <td>10584</td>\n",
       "      <td>4</td>\n",
       "      <td>3</td>\n",
       "      <td>0</td>\n",
       "    </tr>\n",
       "    <tr>\n",
       "      <th>21</th>\n",
       "      <td>ap150</td>\n",
       "      <td>stress</td>\n",
       "      <td>61264735</td>\n",
       "      <td>1352190</td>\n",
       "      <td>-611.852814</td>\n",
       "      <td>-626.582144</td>\n",
       "      <td>-718.529683</td>\n",
       "      <td>173628.0</td>\n",
       "      <td>335702.8542</td>\n",
       "      <td>5691.0</td>\n",
       "      <td>9870</td>\n",
       "      <td>8</td>\n",
       "      <td>4</td>\n",
       "      <td>0</td>\n",
       "    </tr>\n",
       "    <tr>\n",
       "      <th>24</th>\n",
       "      <td>ap154</td>\n",
       "      <td>stress</td>\n",
       "      <td>70472633</td>\n",
       "      <td>1386945</td>\n",
       "      <td>-470.759013</td>\n",
       "      <td>-450.606616</td>\n",
       "      <td>-475.853295</td>\n",
       "      <td>183428.0</td>\n",
       "      <td>355134.0863</td>\n",
       "      <td>5810.0</td>\n",
       "      <td>9996</td>\n",
       "      <td>39</td>\n",
       "      <td>22</td>\n",
       "      <td>0</td>\n",
       "    </tr>\n",
       "  </tbody>\n",
       "</table>\n",
       "</div>"
      ],
      "text/plain": [
       "    subid    group   level_0    index        face      object       place  \\\n",
       "19  ap121  control  59590566  1554966 -535.641050 -625.917077 -624.942028   \n",
       "21  ap150   stress  61264735  1352190 -611.852814 -626.582144 -718.529683   \n",
       "24  ap154   stress  70472633  1386945 -470.759013 -450.606616 -475.853295   \n",
       "\n",
       "          tr        onset     run   time  intensity  motion  spikes  \n",
       "19  189798.0  367281.0939  6174.0  10584          4       3       0  \n",
       "21  173628.0  335702.8542  5691.0   9870          8       4       0  \n",
       "24  183428.0  355134.0863  5810.0   9996         39      22       0  "
      ]
     },
     "execution_count": 59,
     "metadata": {},
     "output_type": "execute_result"
    }
   ],
   "source": [
    "artifact_counts.loc[artifact_counts.motion > 1]"
   ]
  },
  {
   "cell_type": "code",
   "execution_count": 60,
   "metadata": {
    "collapsed": false
   },
   "outputs": [
    {
     "data": {
      "text/plain": [
       "<matplotlib.axes._subplots.AxesSubplot at 0x115fb9490>"
      ]
     },
     "execution_count": 60,
     "metadata": {},
     "output_type": "execute_result"
    },
    {
     "data": {
      "image/png": "[encoded data removed]",
      "text/plain": [
       "<matplotlib.figure.Figure at 0x110e8ed10>"
      ]
     },
     "metadata": {},
     "output_type": "display_data"
    }
   ],
   "source": [
    "sns.boxplot(x = 'group', y='motion', data=artifact_counts)\n",
    "sns.stripplot(x = 'group', y='motion', data=artifact_counts, jitter=True, size=10)"
   ]
  },
  {
   "cell_type": "code",
   "execution_count": 61,
   "metadata": {
    "collapsed": false
   },
   "outputs": [
    {
     "data": {
      "text/plain": [
       "<matplotlib.axes._subplots.AxesSubplot at 0x115648090>"
      ]
     },
     "execution_count": 61,
     "metadata": {},
     "output_type": "execute_result"
    },
    {
     "data": {
      "image/png": "[encoded data removed]",
      "text/plain": [
       "<matplotlib.figure.Figure at 0x1158bf7d0>"
      ]
     },
     "metadata": {},
     "output_type": "display_data"
    }
   ],
   "source": [
    "sns.boxplot(x = 'group', y='intensity', data=artifact_counts)\n",
    "sns.stripplot(x = 'group', y='intensity', data=artifact_counts, jitter=True, size=10)"
   ]
  },
  {
   "cell_type": "markdown",
   "metadata": {},
   "source": [
    "## Remove trials with motion > 1 mm, or intensity > 1"
   ]
  },
  {
   "cell_type": "markdown",
   "metadata": {},
   "source": [
    "### First remove just TRs"
   ]
  },
  {
   "cell_type": "code",
   "execution_count": 62,
   "metadata": {
    "collapsed": false
   },
   "outputs": [
    {
     "data": {
      "text/plain": [
       "(73959, 15)"
      ]
     },
     "execution_count": 62,
     "metadata": {},
     "output_type": "execute_result"
    }
   ],
   "source": [
    "evidence_proc = evidence_group.loc[(evidence_group.motion == 0) &\n",
    "                                   (evidence_group.intensity == 0)]\n",
    "evidence_proc.shape"
   ]
  },
  {
   "cell_type": "markdown",
   "metadata": {},
   "source": [
    "### Remove this percentage of TRs:"
   ]
  },
  {
   "cell_type": "code",
   "execution_count": 63,
   "metadata": {
    "collapsed": false
   },
   "outputs": [
    {
     "data": {
      "text/plain": [
       "74746"
      ]
     },
     "execution_count": 63,
     "metadata": {},
     "output_type": "execute_result"
    }
   ],
   "source": [
    "len(evidence_group)"
   ]
  },
  {
   "cell_type": "code",
   "execution_count": 64,
   "metadata": {
    "collapsed": false
   },
   "outputs": [
    {
     "name": "stdout",
     "output_type": "stream",
     "text": [
      "1.05289915179 %\n"
     ]
    }
   ],
   "source": [
    "print str((len(evidence_group) - len(evidence_proc)) / float(len(evidence_group)) * 100) + ' %'"
   ]
  },
  {
   "cell_type": "markdown",
   "metadata": {},
   "source": [
    "**Equalize trial counts**: ~1% of TRs are noisy... probably doesn't affect anything..."
   ]
  },
  {
   "cell_type": "markdown",
   "metadata": {},
   "source": [
    "### Put the data in longform"
   ]
  },
  {
   "cell_type": "code",
   "execution_count": 65,
   "metadata": {
    "collapsed": false
   },
   "outputs": [
    {
     "data": {
      "text/html": [
       "<div>\n",
       "<style>\n",
       "    .dataframe thead tr:only-child th {\n",
       "        text-align: right;\n",
       "    }\n",
       "\n",
       "    .dataframe thead th {\n",
       "        text-align: left;\n",
       "    }\n",
       "\n",
       "    .dataframe tbody tr th {\n",
       "        vertical-align: top;\n",
       "    }\n",
       "</style>\n",
       "<table border=\"1\" class=\"dataframe\">\n",
       "  <thead>\n",
       "    <tr style=\"text-align: right;\">\n",
       "      <th></th>\n",
       "      <th>condition</th>\n",
       "      <th>tr</th>\n",
       "      <th>onset</th>\n",
       "      <th>run</th>\n",
       "      <th>time</th>\n",
       "      <th>subid</th>\n",
       "      <th>group</th>\n",
       "      <th>category</th>\n",
       "      <th>logit</th>\n",
       "    </tr>\n",
       "  </thead>\n",
       "  <tbody>\n",
       "    <tr>\n",
       "      <th>0</th>\n",
       "      <td>sourcemiss_hi-4</td>\n",
       "      <td>1.0</td>\n",
       "      <td>0.0191</td>\n",
       "      <td>1.0</td>\n",
       "      <td>0</td>\n",
       "      <td>ap100</td>\n",
       "      <td>control</td>\n",
       "      <td>face</td>\n",
       "      <td>-2.423333</td>\n",
       "    </tr>\n",
       "    <tr>\n",
       "      <th>1</th>\n",
       "      <td>CR-0</td>\n",
       "      <td>6.0</td>\n",
       "      <td>10.7129</td>\n",
       "      <td>1.0</td>\n",
       "      <td>0</td>\n",
       "      <td>ap100</td>\n",
       "      <td>control</td>\n",
       "      <td>face</td>\n",
       "      <td>3.903201</td>\n",
       "    </tr>\n",
       "    <tr>\n",
       "      <th>2</th>\n",
       "      <td>sourcehit-2</td>\n",
       "      <td>10.0</td>\n",
       "      <td>19.8642</td>\n",
       "      <td>1.0</td>\n",
       "      <td>0</td>\n",
       "      <td>ap100</td>\n",
       "      <td>control</td>\n",
       "      <td>face</td>\n",
       "      <td>6.809258</td>\n",
       "    </tr>\n",
       "    <tr>\n",
       "      <th>3</th>\n",
       "      <td>sourcehit-2</td>\n",
       "      <td>15.0</td>\n",
       "      <td>29.3132</td>\n",
       "      <td>1.0</td>\n",
       "      <td>0</td>\n",
       "      <td>ap100</td>\n",
       "      <td>control</td>\n",
       "      <td>face</td>\n",
       "      <td>-1.613396</td>\n",
       "    </tr>\n",
       "    <tr>\n",
       "      <th>4</th>\n",
       "      <td>sourcehit-2</td>\n",
       "      <td>21.0</td>\n",
       "      <td>40.6786</td>\n",
       "      <td>1.0</td>\n",
       "      <td>0</td>\n",
       "      <td>ap100</td>\n",
       "      <td>control</td>\n",
       "      <td>face</td>\n",
       "      <td>-6.580058</td>\n",
       "    </tr>\n",
       "  </tbody>\n",
       "</table>\n",
       "</div>"
      ],
      "text/plain": [
       "         condition    tr    onset  run  time  subid    group category  \\\n",
       "0  sourcemiss_hi-4   1.0   0.0191  1.0     0  ap100  control     face   \n",
       "1             CR-0   6.0  10.7129  1.0     0  ap100  control     face   \n",
       "2      sourcehit-2  10.0  19.8642  1.0     0  ap100  control     face   \n",
       "3      sourcehit-2  15.0  29.3132  1.0     0  ap100  control     face   \n",
       "4      sourcehit-2  21.0  40.6786  1.0     0  ap100  control     face   \n",
       "\n",
       "      logit  \n",
       "0 -2.423333  \n",
       "1  3.903201  \n",
       "2  6.809258  \n",
       "3 -1.613396  \n",
       "4 -6.580058  "
      ]
     },
     "execution_count": 65,
     "metadata": {},
     "output_type": "execute_result"
    }
   ],
   "source": [
    "df = pd.melt(evidence_proc, id_vars=['condition', 'tr', 'onset', 'run', 'time', 'subid', 'group'],\n",
    "             value_vars=['face', 'object', 'place'], \n",
    "             var_name='category', value_name=output)\n",
    "df.head()"
   ]
  },
  {
   "cell_type": "markdown",
   "metadata": {},
   "source": [
    "### Remove trials with bad samples"
   ]
  },
  {
   "cell_type": "code",
   "execution_count": 66,
   "metadata": {
    "collapsed": false
   },
   "outputs": [
    {
     "data": {
      "text/plain": [
       "ap120    63\n",
       "ap152    54\n",
       "ap154    49\n",
       "ap157    46\n",
       "ap164    45\n",
       "ap165    38\n",
       "ap102    34\n",
       "ap167    30\n",
       "ap169    29\n",
       "ap100    28\n",
       "ap104    27\n",
       "ap115    24\n",
       "ap162    23\n",
       "ap153    22\n",
       "ap174    22\n",
       "ap109    21\n",
       "ap119    20\n",
       "ap107    18\n",
       "ap122    16\n",
       "ap173    15\n",
       "ap105    14\n",
       "ap172    14\n",
       "ap113    12\n",
       "ap114    11\n",
       "ap150    11\n",
       "ap116    11\n",
       "ap110    10\n",
       "ap155     9\n",
       "ap166     9\n",
       "ap118     8\n",
       "ap117     8\n",
       "ap158     7\n",
       "ap111     6\n",
       "ap121     5\n",
       "ap108     5\n",
       "ap159     4\n",
       "ap168     4\n",
       "ap101     4\n",
       "ap103     3\n",
       "ap171     3\n",
       "ap161     3\n",
       "ap163     1\n",
       "ap160     1\n",
       "Name: subid, dtype: int64"
      ]
     },
     "execution_count": 66,
     "metadata": {},
     "output_type": "execute_result"
    }
   ],
   "source": [
    "evidence_group.loc[(evidence_group.motion > 0) |\n",
    "                   (evidence_group.intensity > 0)].subid.value_counts()"
   ]
  },
  {
   "cell_type": "code",
   "execution_count": 67,
   "metadata": {
    "collapsed": true
   },
   "outputs": [],
   "source": [
    "avg_interval = [4,6,8,10]\n",
    "avg_interval_lab = '46810'"
   ]
  },
  {
   "cell_type": "code",
   "execution_count": 68,
   "metadata": {
    "collapsed": false
   },
   "outputs": [
    {
     "data": {
      "text/html": [
       "<div>\n",
       "<style>\n",
       "    .dataframe thead tr:only-child th {\n",
       "        text-align: right;\n",
       "    }\n",
       "\n",
       "    .dataframe thead th {\n",
       "        text-align: left;\n",
       "    }\n",
       "\n",
       "    .dataframe tbody tr th {\n",
       "        vertical-align: top;\n",
       "    }\n",
       "</style>\n",
       "<table border=\"1\" class=\"dataframe\">\n",
       "  <thead>\n",
       "    <tr style=\"text-align: right;\">\n",
       "      <th>time</th>\n",
       "      <th>group</th>\n",
       "      <th>subid</th>\n",
       "      <th>run</th>\n",
       "      <th>onset</th>\n",
       "      <th>condition</th>\n",
       "      <th>category</th>\n",
       "      <th>0</th>\n",
       "      <th>2</th>\n",
       "      <th>4</th>\n",
       "      <th>6</th>\n",
       "      <th>8</th>\n",
       "      <th>10</th>\n",
       "      <th>12</th>\n",
       "      <th>avg_logit</th>\n",
       "    </tr>\n",
       "  </thead>\n",
       "  <tbody>\n",
       "    <tr>\n",
       "      <th>0</th>\n",
       "      <td>control</td>\n",
       "      <td>ap100</td>\n",
       "      <td>1.0</td>\n",
       "      <td>0.0191</td>\n",
       "      <td>sourcemiss_hi-4</td>\n",
       "      <td>face</td>\n",
       "      <td>-2.423333</td>\n",
       "      <td>-0.385312</td>\n",
       "      <td>-1.657511</td>\n",
       "      <td>-0.461869</td>\n",
       "      <td>3.046599</td>\n",
       "      <td>4.391805</td>\n",
       "      <td>1.240766</td>\n",
       "      <td>1.329756</td>\n",
       "    </tr>\n",
       "    <tr>\n",
       "      <th>1</th>\n",
       "      <td>control</td>\n",
       "      <td>ap100</td>\n",
       "      <td>1.0</td>\n",
       "      <td>0.0191</td>\n",
       "      <td>sourcemiss_hi-4</td>\n",
       "      <td>object</td>\n",
       "      <td>6.498398</td>\n",
       "      <td>5.214719</td>\n",
       "      <td>2.106095</td>\n",
       "      <td>-4.898674</td>\n",
       "      <td>-3.753721</td>\n",
       "      <td>-3.559239</td>\n",
       "      <td>-1.991269</td>\n",
       "      <td>-2.526385</td>\n",
       "    </tr>\n",
       "    <tr>\n",
       "      <th>2</th>\n",
       "      <td>control</td>\n",
       "      <td>ap100</td>\n",
       "      <td>1.0</td>\n",
       "      <td>0.0191</td>\n",
       "      <td>sourcemiss_hi-4</td>\n",
       "      <td>place</td>\n",
       "      <td>-6.634973</td>\n",
       "      <td>-6.316287</td>\n",
       "      <td>-1.492246</td>\n",
       "      <td>2.588891</td>\n",
       "      <td>-1.034470</td>\n",
       "      <td>-0.641691</td>\n",
       "      <td>-1.102607</td>\n",
       "      <td>-0.144879</td>\n",
       "    </tr>\n",
       "    <tr>\n",
       "      <th>3</th>\n",
       "      <td>control</td>\n",
       "      <td>ap100</td>\n",
       "      <td>1.0</td>\n",
       "      <td>10.7129</td>\n",
       "      <td>CR-0</td>\n",
       "      <td>face</td>\n",
       "      <td>3.903201</td>\n",
       "      <td>1.295241</td>\n",
       "      <td>1.546018</td>\n",
       "      <td>4.994777</td>\n",
       "      <td>6.359166</td>\n",
       "      <td>2.788228</td>\n",
       "      <td>-3.314593</td>\n",
       "      <td>3.922047</td>\n",
       "    </tr>\n",
       "    <tr>\n",
       "      <th>4</th>\n",
       "      <td>control</td>\n",
       "      <td>ap100</td>\n",
       "      <td>1.0</td>\n",
       "      <td>10.7129</td>\n",
       "      <td>CR-0</td>\n",
       "      <td>object</td>\n",
       "      <td>-3.432970</td>\n",
       "      <td>-2.109885</td>\n",
       "      <td>-0.627178</td>\n",
       "      <td>0.647714</td>\n",
       "      <td>1.071187</td>\n",
       "      <td>1.822644</td>\n",
       "      <td>-1.811745</td>\n",
       "      <td>0.728592</td>\n",
       "    </tr>\n",
       "  </tbody>\n",
       "</table>\n",
       "</div>"
      ],
      "text/plain": [
       "time    group  subid  run    onset        condition category         0  \\\n",
       "0     control  ap100  1.0   0.0191  sourcemiss_hi-4     face -2.423333   \n",
       "1     control  ap100  1.0   0.0191  sourcemiss_hi-4   object  6.498398   \n",
       "2     control  ap100  1.0   0.0191  sourcemiss_hi-4    place -6.634973   \n",
       "3     control  ap100  1.0  10.7129             CR-0     face  3.903201   \n",
       "4     control  ap100  1.0  10.7129             CR-0   object -3.432970   \n",
       "\n",
       "time         2         4         6         8        10        12  avg_logit  \n",
       "0    -0.385312 -1.657511 -0.461869  3.046599  4.391805  1.240766   1.329756  \n",
       "1     5.214719  2.106095 -4.898674 -3.753721 -3.559239 -1.991269  -2.526385  \n",
       "2    -6.316287 -1.492246  2.588891 -1.034470 -0.641691 -1.102607  -0.144879  \n",
       "3     1.295241  1.546018  4.994777  6.359166  2.788228 -3.314593   3.922047  \n",
       "4    -2.109885 -0.627178  0.647714  1.071187  1.822644 -1.811745   0.728592  "
      ]
     },
     "execution_count": 68,
     "metadata": {},
     "output_type": "execute_result"
    }
   ],
   "source": [
    "# df.sort(columns=['subid', 'run', 'onset', 'time'], inplace=True)\n",
    "data_p = df.pivot_table(index=['group', 'subid', 'run', 'onset', 'condition', 'category'], columns='time', values='logit').reset_index()\n",
    "data_p['avg_logit'] = data_p[avg_interval].mean(axis=1, skipna=False) # see if null in any of our TRs of interest\n",
    "data_p.head()"
   ]
  },
  {
   "cell_type": "code",
   "execution_count": 69,
   "metadata": {
    "collapsed": false
   },
   "outputs": [
    {
     "data": {
      "text/html": [
       "<div>\n",
       "<style>\n",
       "    .dataframe thead tr:only-child th {\n",
       "        text-align: right;\n",
       "    }\n",
       "\n",
       "    .dataframe thead th {\n",
       "        text-align: left;\n",
       "    }\n",
       "\n",
       "    .dataframe tbody tr th {\n",
       "        vertical-align: top;\n",
       "    }\n",
       "</style>\n",
       "<table border=\"1\" class=\"dataframe\">\n",
       "  <thead>\n",
       "    <tr style=\"text-align: right;\">\n",
       "      <th>time</th>\n",
       "      <th>index</th>\n",
       "      <th>group</th>\n",
       "      <th>subid</th>\n",
       "      <th>run</th>\n",
       "      <th>onset</th>\n",
       "      <th>condition</th>\n",
       "      <th>category</th>\n",
       "      <th>0</th>\n",
       "      <th>2</th>\n",
       "      <th>4</th>\n",
       "      <th>6</th>\n",
       "      <th>8</th>\n",
       "      <th>10</th>\n",
       "      <th>12</th>\n",
       "      <th>avg_logit</th>\n",
       "    </tr>\n",
       "  </thead>\n",
       "  <tbody>\n",
       "    <tr>\n",
       "      <th>0</th>\n",
       "      <td>0</td>\n",
       "      <td>control</td>\n",
       "      <td>ap100</td>\n",
       "      <td>1.0</td>\n",
       "      <td>0.0191</td>\n",
       "      <td>sourcemiss_hi-4</td>\n",
       "      <td>face</td>\n",
       "      <td>-2.423333</td>\n",
       "      <td>-0.385312</td>\n",
       "      <td>-1.657511</td>\n",
       "      <td>-0.461869</td>\n",
       "      <td>3.046599</td>\n",
       "      <td>4.391805</td>\n",
       "      <td>1.240766</td>\n",
       "      <td>1.329756</td>\n",
       "    </tr>\n",
       "    <tr>\n",
       "      <th>1</th>\n",
       "      <td>1</td>\n",
       "      <td>control</td>\n",
       "      <td>ap100</td>\n",
       "      <td>1.0</td>\n",
       "      <td>0.0191</td>\n",
       "      <td>sourcemiss_hi-4</td>\n",
       "      <td>object</td>\n",
       "      <td>6.498398</td>\n",
       "      <td>5.214719</td>\n",
       "      <td>2.106095</td>\n",
       "      <td>-4.898674</td>\n",
       "      <td>-3.753721</td>\n",
       "      <td>-3.559239</td>\n",
       "      <td>-1.991269</td>\n",
       "      <td>-2.526385</td>\n",
       "    </tr>\n",
       "    <tr>\n",
       "      <th>2</th>\n",
       "      <td>2</td>\n",
       "      <td>control</td>\n",
       "      <td>ap100</td>\n",
       "      <td>1.0</td>\n",
       "      <td>0.0191</td>\n",
       "      <td>sourcemiss_hi-4</td>\n",
       "      <td>place</td>\n",
       "      <td>-6.634973</td>\n",
       "      <td>-6.316287</td>\n",
       "      <td>-1.492246</td>\n",
       "      <td>2.588891</td>\n",
       "      <td>-1.034470</td>\n",
       "      <td>-0.641691</td>\n",
       "      <td>-1.102607</td>\n",
       "      <td>-0.144879</td>\n",
       "    </tr>\n",
       "    <tr>\n",
       "      <th>3</th>\n",
       "      <td>3</td>\n",
       "      <td>control</td>\n",
       "      <td>ap100</td>\n",
       "      <td>1.0</td>\n",
       "      <td>10.7129</td>\n",
       "      <td>CR-0</td>\n",
       "      <td>face</td>\n",
       "      <td>3.903201</td>\n",
       "      <td>1.295241</td>\n",
       "      <td>1.546018</td>\n",
       "      <td>4.994777</td>\n",
       "      <td>6.359166</td>\n",
       "      <td>2.788228</td>\n",
       "      <td>-3.314593</td>\n",
       "      <td>3.922047</td>\n",
       "    </tr>\n",
       "    <tr>\n",
       "      <th>4</th>\n",
       "      <td>4</td>\n",
       "      <td>control</td>\n",
       "      <td>ap100</td>\n",
       "      <td>1.0</td>\n",
       "      <td>10.7129</td>\n",
       "      <td>CR-0</td>\n",
       "      <td>object</td>\n",
       "      <td>-3.432970</td>\n",
       "      <td>-2.109885</td>\n",
       "      <td>-0.627178</td>\n",
       "      <td>0.647714</td>\n",
       "      <td>1.071187</td>\n",
       "      <td>1.822644</td>\n",
       "      <td>-1.811745</td>\n",
       "      <td>0.728592</td>\n",
       "    </tr>\n",
       "  </tbody>\n",
       "</table>\n",
       "</div>"
      ],
      "text/plain": [
       "time  index    group  subid  run    onset        condition category         0  \\\n",
       "0         0  control  ap100  1.0   0.0191  sourcemiss_hi-4     face -2.423333   \n",
       "1         1  control  ap100  1.0   0.0191  sourcemiss_hi-4   object  6.498398   \n",
       "2         2  control  ap100  1.0   0.0191  sourcemiss_hi-4    place -6.634973   \n",
       "3         3  control  ap100  1.0  10.7129             CR-0     face  3.903201   \n",
       "4         4  control  ap100  1.0  10.7129             CR-0   object -3.432970   \n",
       "\n",
       "time         2         4         6         8        10        12  avg_logit  \n",
       "0    -0.385312 -1.657511 -0.461869  3.046599  4.391805  1.240766   1.329756  \n",
       "1     5.214719  2.106095 -4.898674 -3.753721 -3.559239 -1.991269  -2.526385  \n",
       "2    -6.316287 -1.492246  2.588891 -1.034470 -0.641691 -1.102607  -0.144879  \n",
       "3     1.295241  1.546018  4.994777  6.359166  2.788228 -3.314593   3.922047  \n",
       "4    -2.109885 -0.627178  0.647714  1.071187  1.822644 -1.811745   0.728592  "
      ]
     },
     "execution_count": 69,
     "metadata": {},
     "output_type": "execute_result"
    }
   ],
   "source": [
    "df_logit = data_p.loc[~data_p.avg_logit.isnull()].reset_index()\n",
    "# conditions = pd.DataFrame(df_logit.condition.str.split('-').tolist(), columns=['cond', 'reps'])\n",
    "# df_logit = df_logit.join(conditions)\n",
    "df_logit.head()"
   ]
  },
  {
   "cell_type": "markdown",
   "metadata": {},
   "source": [
    "### Percent of trials tossed"
   ]
  },
  {
   "cell_type": "code",
   "execution_count": 104,
   "metadata": {
    "collapsed": false
   },
   "outputs": [],
   "source": [
    "# Number of trials tossed/subject\n",
    "art_num = pd.DataFrame(pd.DataFrame(data_p.loc[(data_p.avg_logit.isnull()) & \n",
    "                                  (data_p.category == \"place\") &\n",
    "                                  (data_p.condition.isin(['sourcehit-2', 'sourcehit-4']))].subid.value_counts().rename('art_num'))).reset_index()\n",
    "\n",
    "# Number of good trials/subject\n",
    "trial_num = pd.DataFrame(data_p.loc[(data_p.category == \"place\") &\n",
    "                                    (data_p.condition.isin(['sourcehit-2', 'sourcehit-4']))].subid.value_counts().rename('trial_num')).reset_index()"
   ]
  },
  {
   "cell_type": "code",
   "execution_count": 109,
   "metadata": {
    "collapsed": false
   },
   "outputs": [],
   "source": [
    "art_prop = art_num.merge(trial_num, how='outer')\n",
    "art_prop.fillna(0, inplace=True)\n",
    "art_prop['prop'] = art_prop.art_num / art_prop.trial_num"
   ]
  },
  {
   "cell_type": "code",
   "execution_count": 114,
   "metadata": {
    "collapsed": false
   },
   "outputs": [
    {
     "data": {
      "text/html": [
       "<div>\n",
       "<style>\n",
       "    .dataframe thead tr:only-child th {\n",
       "        text-align: right;\n",
       "    }\n",
       "\n",
       "    .dataframe thead th {\n",
       "        text-align: left;\n",
       "    }\n",
       "\n",
       "    .dataframe tbody tr th {\n",
       "        vertical-align: top;\n",
       "    }\n",
       "</style>\n",
       "<table border=\"1\" class=\"dataframe\">\n",
       "  <thead>\n",
       "    <tr style=\"text-align: right;\">\n",
       "      <th></th>\n",
       "      <th>art_num</th>\n",
       "      <th>trial_num</th>\n",
       "      <th>prop</th>\n",
       "    </tr>\n",
       "  </thead>\n",
       "  <tbody>\n",
       "    <tr>\n",
       "      <th>count</th>\n",
       "      <td>44.000000</td>\n",
       "      <td>44.000000</td>\n",
       "      <td>44.000000</td>\n",
       "    </tr>\n",
       "    <tr>\n",
       "      <th>mean</th>\n",
       "      <td>1.386364</td>\n",
       "      <td>67.909091</td>\n",
       "      <td>0.021701</td>\n",
       "    </tr>\n",
       "    <tr>\n",
       "      <th>std</th>\n",
       "      <td>1.279824</td>\n",
       "      <td>34.785601</td>\n",
       "      <td>0.023067</td>\n",
       "    </tr>\n",
       "    <tr>\n",
       "      <th>min</th>\n",
       "      <td>0.000000</td>\n",
       "      <td>8.000000</td>\n",
       "      <td>0.000000</td>\n",
       "    </tr>\n",
       "    <tr>\n",
       "      <th>25%</th>\n",
       "      <td>0.000000</td>\n",
       "      <td>42.750000</td>\n",
       "      <td>0.000000</td>\n",
       "    </tr>\n",
       "    <tr>\n",
       "      <th>50%</th>\n",
       "      <td>1.000000</td>\n",
       "      <td>67.000000</td>\n",
       "      <td>0.016340</td>\n",
       "    </tr>\n",
       "    <tr>\n",
       "      <th>75%</th>\n",
       "      <td>2.000000</td>\n",
       "      <td>86.000000</td>\n",
       "      <td>0.028782</td>\n",
       "    </tr>\n",
       "    <tr>\n",
       "      <th>max</th>\n",
       "      <td>4.000000</td>\n",
       "      <td>148.000000</td>\n",
       "      <td>0.090909</td>\n",
       "    </tr>\n",
       "  </tbody>\n",
       "</table>\n",
       "</div>"
      ],
      "text/plain": [
       "         art_num   trial_num       prop\n",
       "count  44.000000   44.000000  44.000000\n",
       "mean    1.386364   67.909091   0.021701\n",
       "std     1.279824   34.785601   0.023067\n",
       "min     0.000000    8.000000   0.000000\n",
       "25%     0.000000   42.750000   0.000000\n",
       "50%     1.000000   67.000000   0.016340\n",
       "75%     2.000000   86.000000   0.028782\n",
       "max     4.000000  148.000000   0.090909"
      ]
     },
     "execution_count": 114,
     "metadata": {},
     "output_type": "execute_result"
    }
   ],
   "source": [
    "art_prop.describe()"
   ]
  },
  {
   "cell_type": "code",
   "execution_count": 115,
   "metadata": {
    "collapsed": false
   },
   "outputs": [
    {
     "data": {
      "text/html": [
       "<div>\n",
       "<style>\n",
       "    .dataframe thead tr:only-child th {\n",
       "        text-align: right;\n",
       "    }\n",
       "\n",
       "    .dataframe thead th {\n",
       "        text-align: left;\n",
       "    }\n",
       "\n",
       "    .dataframe tbody tr th {\n",
       "        vertical-align: top;\n",
       "    }\n",
       "</style>\n",
       "<table border=\"1\" class=\"dataframe\">\n",
       "  <thead>\n",
       "    <tr style=\"text-align: right;\">\n",
       "      <th></th>\n",
       "      <th>count</th>\n",
       "      <th>mean</th>\n",
       "      <th>std</th>\n",
       "      <th>min</th>\n",
       "      <th>25%</th>\n",
       "      <th>50%</th>\n",
       "      <th>75%</th>\n",
       "      <th>max</th>\n",
       "    </tr>\n",
       "    <tr>\n",
       "      <th>group</th>\n",
       "      <th></th>\n",
       "      <th></th>\n",
       "      <th></th>\n",
       "      <th></th>\n",
       "      <th></th>\n",
       "      <th></th>\n",
       "      <th></th>\n",
       "      <th></th>\n",
       "    </tr>\n",
       "  </thead>\n",
       "  <tbody>\n",
       "    <tr>\n",
       "      <th>control</th>\n",
       "      <td>22.0</td>\n",
       "      <td>242.181818</td>\n",
       "      <td>7.63224</td>\n",
       "      <td>218.0</td>\n",
       "      <td>239.50</td>\n",
       "      <td>244.5</td>\n",
       "      <td>247.0</td>\n",
       "      <td>250.0</td>\n",
       "    </tr>\n",
       "    <tr>\n",
       "      <th>stress</th>\n",
       "      <td>22.0</td>\n",
       "      <td>231.000000</td>\n",
       "      <td>12.09880</td>\n",
       "      <td>196.0</td>\n",
       "      <td>230.25</td>\n",
       "      <td>233.5</td>\n",
       "      <td>239.5</td>\n",
       "      <td>244.0</td>\n",
       "    </tr>\n",
       "  </tbody>\n",
       "</table>\n",
       "</div>"
      ],
      "text/plain": [
       "         count        mean       std    min     25%    50%    75%    max\n",
       "group                                                                   \n",
       "control   22.0  242.181818   7.63224  218.0  239.50  244.5  247.0  250.0\n",
       "stress    22.0  231.000000  12.09880  196.0  230.25  233.5  239.5  244.0"
      ]
     },
     "execution_count": 115,
     "metadata": {},
     "output_type": "execute_result"
    }
   ],
   "source": [
    "# remaining trials\n",
    "data = df_logit.query('category == \"place\"')\n",
    "counts = data.groupby(['subid', 'group']).count().reset_index()\n",
    "counts.groupby(['group']).index.describe()"
   ]
  },
  {
   "cell_type": "code",
   "execution_count": 75,
   "metadata": {
    "collapsed": false
   },
   "outputs": [
    {
     "data": {
      "text/html": [
       "<div>\n",
       "<style>\n",
       "    .dataframe thead tr:only-child th {\n",
       "        text-align: right;\n",
       "    }\n",
       "\n",
       "    .dataframe thead th {\n",
       "        text-align: left;\n",
       "    }\n",
       "\n",
       "    .dataframe tbody tr th {\n",
       "        vertical-align: top;\n",
       "    }\n",
       "</style>\n",
       "<table border=\"1\" class=\"dataframe\">\n",
       "  <thead>\n",
       "    <tr style=\"text-align: right;\">\n",
       "      <th>time</th>\n",
       "      <th>index</th>\n",
       "      <th>group</th>\n",
       "      <th>subid</th>\n",
       "      <th>run</th>\n",
       "      <th>onset</th>\n",
       "      <th>condition</th>\n",
       "      <th>category</th>\n",
       "      <th>0</th>\n",
       "      <th>2</th>\n",
       "      <th>4</th>\n",
       "      <th>6</th>\n",
       "      <th>8</th>\n",
       "      <th>10</th>\n",
       "      <th>12</th>\n",
       "      <th>avg_logit</th>\n",
       "    </tr>\n",
       "  </thead>\n",
       "  <tbody>\n",
       "    <tr>\n",
       "      <th>0</th>\n",
       "      <td>0</td>\n",
       "      <td>control</td>\n",
       "      <td>ap100</td>\n",
       "      <td>1.0</td>\n",
       "      <td>0.0191</td>\n",
       "      <td>sourcemiss_hi-4</td>\n",
       "      <td>face</td>\n",
       "      <td>-2.423333</td>\n",
       "      <td>-0.385312</td>\n",
       "      <td>-1.657511</td>\n",
       "      <td>-0.461869</td>\n",
       "      <td>3.046599</td>\n",
       "      <td>4.391805</td>\n",
       "      <td>1.240766</td>\n",
       "      <td>1.329756</td>\n",
       "    </tr>\n",
       "    <tr>\n",
       "      <th>1</th>\n",
       "      <td>1</td>\n",
       "      <td>control</td>\n",
       "      <td>ap100</td>\n",
       "      <td>1.0</td>\n",
       "      <td>0.0191</td>\n",
       "      <td>sourcemiss_hi-4</td>\n",
       "      <td>object</td>\n",
       "      <td>6.498398</td>\n",
       "      <td>5.214719</td>\n",
       "      <td>2.106095</td>\n",
       "      <td>-4.898674</td>\n",
       "      <td>-3.753721</td>\n",
       "      <td>-3.559239</td>\n",
       "      <td>-1.991269</td>\n",
       "      <td>-2.526385</td>\n",
       "    </tr>\n",
       "    <tr>\n",
       "      <th>2</th>\n",
       "      <td>2</td>\n",
       "      <td>control</td>\n",
       "      <td>ap100</td>\n",
       "      <td>1.0</td>\n",
       "      <td>0.0191</td>\n",
       "      <td>sourcemiss_hi-4</td>\n",
       "      <td>place</td>\n",
       "      <td>-6.634973</td>\n",
       "      <td>-6.316287</td>\n",
       "      <td>-1.492246</td>\n",
       "      <td>2.588891</td>\n",
       "      <td>-1.034470</td>\n",
       "      <td>-0.641691</td>\n",
       "      <td>-1.102607</td>\n",
       "      <td>-0.144879</td>\n",
       "    </tr>\n",
       "    <tr>\n",
       "      <th>3</th>\n",
       "      <td>3</td>\n",
       "      <td>control</td>\n",
       "      <td>ap100</td>\n",
       "      <td>1.0</td>\n",
       "      <td>10.7129</td>\n",
       "      <td>CR-0</td>\n",
       "      <td>face</td>\n",
       "      <td>3.903201</td>\n",
       "      <td>1.295241</td>\n",
       "      <td>1.546018</td>\n",
       "      <td>4.994777</td>\n",
       "      <td>6.359166</td>\n",
       "      <td>2.788228</td>\n",
       "      <td>-3.314593</td>\n",
       "      <td>3.922047</td>\n",
       "    </tr>\n",
       "    <tr>\n",
       "      <th>4</th>\n",
       "      <td>4</td>\n",
       "      <td>control</td>\n",
       "      <td>ap100</td>\n",
       "      <td>1.0</td>\n",
       "      <td>10.7129</td>\n",
       "      <td>CR-0</td>\n",
       "      <td>object</td>\n",
       "      <td>-3.432970</td>\n",
       "      <td>-2.109885</td>\n",
       "      <td>-0.627178</td>\n",
       "      <td>0.647714</td>\n",
       "      <td>1.071187</td>\n",
       "      <td>1.822644</td>\n",
       "      <td>-1.811745</td>\n",
       "      <td>0.728592</td>\n",
       "    </tr>\n",
       "  </tbody>\n",
       "</table>\n",
       "</div>"
      ],
      "text/plain": [
       "time  index    group  subid  run    onset        condition category         0  \\\n",
       "0         0  control  ap100  1.0   0.0191  sourcemiss_hi-4     face -2.423333   \n",
       "1         1  control  ap100  1.0   0.0191  sourcemiss_hi-4   object  6.498398   \n",
       "2         2  control  ap100  1.0   0.0191  sourcemiss_hi-4    place -6.634973   \n",
       "3         3  control  ap100  1.0  10.7129             CR-0     face  3.903201   \n",
       "4         4  control  ap100  1.0  10.7129             CR-0   object -3.432970   \n",
       "\n",
       "time         2         4         6         8        10        12  avg_logit  \n",
       "0    -0.385312 -1.657511 -0.461869  3.046599  4.391805  1.240766   1.329756  \n",
       "1     5.214719  2.106095 -4.898674 -3.753721 -3.559239 -1.991269  -2.526385  \n",
       "2    -6.316287 -1.492246  2.588891 -1.034470 -0.641691 -1.102607  -0.144879  \n",
       "3     1.295241  1.546018  4.994777  6.359166  2.788228 -3.314593   3.922047  \n",
       "4    -2.109885 -0.627178  0.647714  1.071187  1.822644 -1.811745   0.728592  "
      ]
     },
     "execution_count": 75,
     "metadata": {},
     "output_type": "execute_result"
    }
   ],
   "source": [
    "df_logit.head()"
   ]
  },
  {
   "cell_type": "code",
   "execution_count": 419,
   "metadata": {
    "collapsed": true
   },
   "outputs": [],
   "source": [
    "data = df_logit\n",
    "data.to_csv('/Users/steph-backup/Dropbox/Stanford/Presentations/AP/mvpa_logit_bilat-parahipp_fusi_inftemp_allcat_byreps_avg_'+avg_interval_lab+'_filtartloc_equalizetrials.csv')\n",
    "\n",
    "# data.to_csv('/Users/steph-backup/Dropbox/Stanford/Presentations/AP/mvpa_logit_bilat-fusi_inftemp_nohipp_allcat_byreps_avg_'+avg_interval_lab+'_filtartloc_scalewithinrun.csv')\n",
    "# data.to_csv('/Users/steph-backup/Dropbox/Stanford/Presentations/AP/mvpa_logit_bilat-hippocampus_allcat_byreps_avg_'+avg_interval_lab+'_filtartloc_scalewithinrun.csv')\n",
    "# data.to_csv('/Users/steph-backup/Dropbox/Stanford/Presentations/AP/mvpa_logit_inferiorparietal_allcat_byreps_avg_'+avg_interval_lab+'_filtartloc_scalewithinrun.csv')\n",
    "# data.to_csv('/Users/steph-backup/Dropbox/Stanford/Presentations/AP/mvpa_logit_allcat_byreps_avg_'+avg_interval_lab+'_filtartloc_scalewithinrun.csv')"
   ]
  },
  {
   "cell_type": "code",
   "execution_count": 144,
   "metadata": {
    "collapsed": true
   },
   "outputs": [],
   "source": [
    "data = df_logit.query('category == \"place\"')\n",
    "data.to_csv('/Users/steph-backup/Dropbox/Stanford/Presentations/AP/mvpa_logit_bilat-fusi_inftemp_place_byreps_avg_'+avg_interval_lab+'_filtartloc_scalewithinrun.csv')\n",
    "# data.to_csv('/Users/steph-backup/Dropbox/Stanford/Presentations/AP/mvpa_logit_bilat-hippocampus_place_byreps_avg_'+avg_interval_lab+'_filtartloc_scalewithinrun.csv')\n",
    "# data.to_csv('/Users/steph-backup/Dropbox/Stanford/Presentations/AP/mvpa_logit_inferiorparietal_place_byreps_avg_'+avg_interval_lab+'_filtartloc_scalewithinrun.csv')\n",
    "# data.to_csv('/Users/steph-backup/Dropbox/Stanford/Presentations/AP/mvpa_logit_place_byreps_avg_'+avg_interval_lab+'_filtartloc_scalewithinrun.csv')"
   ]
  },
  {
   "cell_type": "code",
   "execution_count": 227,
   "metadata": {
    "collapsed": false
   },
   "outputs": [
    {
     "ename": "UndefinedVariableError",
     "evalue": "name 'cond' is not defined",
     "output_type": "error",
     "traceback": [
      "\u001b[0;31m---------------------------------------------------------------------------\u001b[0m",
      "\u001b[0;31mUndefinedVariableError\u001b[0m                    Traceback (most recent call last)",
      "\u001b[0;32m<ipython-input-227-5cf307184961>\u001b[0m in \u001b[0;36m<module>\u001b[0;34m()\u001b[0m\n\u001b[0;32m----> 1\u001b[0;31m \u001b[0mdata\u001b[0m \u001b[0;34m=\u001b[0m \u001b[0mdf_logit\u001b[0m\u001b[0;34m.\u001b[0m\u001b[0mquery\u001b[0m\u001b[0;34m(\u001b[0m\u001b[0;34m'cond == \"sourcehit\" & category == \"place\"'\u001b[0m\u001b[0;34m)\u001b[0m\u001b[0;34m\u001b[0m\u001b[0m\n\u001b[0m\u001b[1;32m      2\u001b[0m \u001b[0mdata_grouped\u001b[0m \u001b[0;34m=\u001b[0m \u001b[0mdata\u001b[0m\u001b[0;34m.\u001b[0m\u001b[0mgroupby\u001b[0m\u001b[0;34m(\u001b[0m\u001b[0;34m[\u001b[0m\u001b[0;34m'subid'\u001b[0m\u001b[0;34m,\u001b[0m \u001b[0;34m'group'\u001b[0m\u001b[0;34m]\u001b[0m\u001b[0;34m)\u001b[0m\u001b[0;34m.\u001b[0m\u001b[0mmean\u001b[0m\u001b[0;34m(\u001b[0m\u001b[0;34m)\u001b[0m\u001b[0;34m.\u001b[0m\u001b[0mreset_index\u001b[0m\u001b[0;34m(\u001b[0m\u001b[0;34m)\u001b[0m\u001b[0;34m\u001b[0m\u001b[0m\n\u001b[1;32m      3\u001b[0m \u001b[0;34m\u001b[0m\u001b[0m\n\u001b[1;32m      4\u001b[0m g = sns.factorplot(x='group', y='avg_logit', \n\u001b[1;32m      5\u001b[0m                \u001b[0munits\u001b[0m\u001b[0;34m=\u001b[0m\u001b[0;34m'subid'\u001b[0m\u001b[0;34m,\u001b[0m \u001b[0mci\u001b[0m\u001b[0;34m=\u001b[0m\u001b[0;36m68\u001b[0m\u001b[0;34m,\u001b[0m \u001b[0mkind\u001b[0m\u001b[0;34m=\u001b[0m\u001b[0;34m'bar'\u001b[0m\u001b[0;34m,\u001b[0m\u001b[0;34m\u001b[0m\u001b[0m\n",
      "\u001b[0;32m/Users/steph-backup/anaconda/lib/python2.7/site-packages/pandas/core/frame.pyc\u001b[0m in \u001b[0;36mquery\u001b[0;34m(self, expr, **kwargs)\u001b[0m\n\u001b[1;32m   2105\u001b[0m         \"\"\"\n\u001b[1;32m   2106\u001b[0m         \u001b[0mkwargs\u001b[0m\u001b[0;34m[\u001b[0m\u001b[0;34m'level'\u001b[0m\u001b[0;34m]\u001b[0m \u001b[0;34m=\u001b[0m \u001b[0mkwargs\u001b[0m\u001b[0;34m.\u001b[0m\u001b[0mpop\u001b[0m\u001b[0;34m(\u001b[0m\u001b[0;34m'level'\u001b[0m\u001b[0;34m,\u001b[0m \u001b[0;36m0\u001b[0m\u001b[0;34m)\u001b[0m \u001b[0;34m+\u001b[0m \u001b[0;36m1\u001b[0m\u001b[0;34m\u001b[0m\u001b[0m\n\u001b[0;32m-> 2107\u001b[0;31m         \u001b[0mres\u001b[0m \u001b[0;34m=\u001b[0m \u001b[0mself\u001b[0m\u001b[0;34m.\u001b[0m\u001b[0meval\u001b[0m\u001b[0;34m(\u001b[0m\u001b[0mexpr\u001b[0m\u001b[0;34m,\u001b[0m \u001b[0;34m**\u001b[0m\u001b[0mkwargs\u001b[0m\u001b[0;34m)\u001b[0m\u001b[0;34m\u001b[0m\u001b[0m\n\u001b[0m\u001b[1;32m   2108\u001b[0m \u001b[0;34m\u001b[0m\u001b[0m\n\u001b[1;32m   2109\u001b[0m         \u001b[0;32mtry\u001b[0m\u001b[0;34m:\u001b[0m\u001b[0;34m\u001b[0m\u001b[0m\n",
      "\u001b[0;32m/Users/steph-backup/anaconda/lib/python2.7/site-packages/pandas/core/frame.pyc\u001b[0m in \u001b[0;36meval\u001b[0;34m(self, expr, **kwargs)\u001b[0m\n\u001b[1;32m   2157\u001b[0m         \u001b[0mkwargs\u001b[0m\u001b[0;34m[\u001b[0m\u001b[0;34m'target'\u001b[0m\u001b[0;34m]\u001b[0m \u001b[0;34m=\u001b[0m \u001b[0mself\u001b[0m\u001b[0;34m\u001b[0m\u001b[0m\n\u001b[1;32m   2158\u001b[0m         \u001b[0mkwargs\u001b[0m\u001b[0;34m[\u001b[0m\u001b[0;34m'resolvers'\u001b[0m\u001b[0;34m]\u001b[0m \u001b[0;34m=\u001b[0m \u001b[0mkwargs\u001b[0m\u001b[0;34m.\u001b[0m\u001b[0mget\u001b[0m\u001b[0;34m(\u001b[0m\u001b[0;34m'resolvers'\u001b[0m\u001b[0;34m,\u001b[0m \u001b[0;34m(\u001b[0m\u001b[0;34m)\u001b[0m\u001b[0;34m)\u001b[0m \u001b[0;34m+\u001b[0m \u001b[0mresolvers\u001b[0m\u001b[0;34m\u001b[0m\u001b[0m\n\u001b[0;32m-> 2159\u001b[0;31m         \u001b[0;32mreturn\u001b[0m \u001b[0m_eval\u001b[0m\u001b[0;34m(\u001b[0m\u001b[0mexpr\u001b[0m\u001b[0;34m,\u001b[0m \u001b[0;34m**\u001b[0m\u001b[0mkwargs\u001b[0m\u001b[0;34m)\u001b[0m\u001b[0;34m\u001b[0m\u001b[0m\n\u001b[0m\u001b[1;32m   2160\u001b[0m \u001b[0;34m\u001b[0m\u001b[0m\n\u001b[1;32m   2161\u001b[0m     \u001b[0;32mdef\u001b[0m \u001b[0mselect_dtypes\u001b[0m\u001b[0;34m(\u001b[0m\u001b[0mself\u001b[0m\u001b[0;34m,\u001b[0m \u001b[0minclude\u001b[0m\u001b[0;34m=\u001b[0m\u001b[0mNone\u001b[0m\u001b[0;34m,\u001b[0m \u001b[0mexclude\u001b[0m\u001b[0;34m=\u001b[0m\u001b[0mNone\u001b[0m\u001b[0;34m)\u001b[0m\u001b[0;34m:\u001b[0m\u001b[0;34m\u001b[0m\u001b[0m\n",
      "\u001b[0;32m/Users/steph-backup/anaconda/lib/python2.7/site-packages/pandas/computation/eval.pyc\u001b[0m in \u001b[0;36meval\u001b[0;34m(expr, parser, engine, truediv, local_dict, global_dict, resolvers, level, target)\u001b[0m\n\u001b[1;32m    228\u001b[0m \u001b[0;34m\u001b[0m\u001b[0m\n\u001b[1;32m    229\u001b[0m     parsed_expr = Expr(expr, engine=engine, parser=parser, env=env,\n\u001b[0;32m--> 230\u001b[0;31m                        truediv=truediv)\n\u001b[0m\u001b[1;32m    231\u001b[0m \u001b[0;34m\u001b[0m\u001b[0m\n\u001b[1;32m    232\u001b[0m     \u001b[0;31m# construct the engine and evaluate the parsed expression\u001b[0m\u001b[0;34m\u001b[0m\u001b[0;34m\u001b[0m\u001b[0m\n",
      "\u001b[0;32m/Users/steph-backup/anaconda/lib/python2.7/site-packages/pandas/computation/expr.pyc\u001b[0m in \u001b[0;36m__init__\u001b[0;34m(self, expr, engine, parser, env, truediv, level)\u001b[0m\n\u001b[1;32m    708\u001b[0m         \u001b[0mself\u001b[0m\u001b[0;34m.\u001b[0m\u001b[0menv\u001b[0m\u001b[0;34m.\u001b[0m\u001b[0mscope\u001b[0m\u001b[0;34m[\u001b[0m\u001b[0;34m'truediv'\u001b[0m\u001b[0;34m]\u001b[0m \u001b[0;34m=\u001b[0m \u001b[0mtruediv\u001b[0m\u001b[0;34m\u001b[0m\u001b[0m\n\u001b[1;32m    709\u001b[0m         \u001b[0mself\u001b[0m\u001b[0;34m.\u001b[0m\u001b[0m_visitor\u001b[0m \u001b[0;34m=\u001b[0m \u001b[0m_parsers\u001b[0m\u001b[0;34m[\u001b[0m\u001b[0mparser\u001b[0m\u001b[0;34m]\u001b[0m\u001b[0;34m(\u001b[0m\u001b[0mself\u001b[0m\u001b[0;34m.\u001b[0m\u001b[0menv\u001b[0m\u001b[0;34m,\u001b[0m \u001b[0mself\u001b[0m\u001b[0;34m.\u001b[0m\u001b[0mengine\u001b[0m\u001b[0;34m,\u001b[0m \u001b[0mself\u001b[0m\u001b[0;34m.\u001b[0m\u001b[0mparser\u001b[0m\u001b[0;34m)\u001b[0m\u001b[0;34m\u001b[0m\u001b[0m\n\u001b[0;32m--> 710\u001b[0;31m         \u001b[0mself\u001b[0m\u001b[0;34m.\u001b[0m\u001b[0mterms\u001b[0m \u001b[0;34m=\u001b[0m \u001b[0mself\u001b[0m\u001b[0;34m.\u001b[0m\u001b[0mparse\u001b[0m\u001b[0;34m(\u001b[0m\u001b[0;34m)\u001b[0m\u001b[0;34m\u001b[0m\u001b[0m\n\u001b[0m\u001b[1;32m    711\u001b[0m \u001b[0;34m\u001b[0m\u001b[0m\n\u001b[1;32m    712\u001b[0m     \u001b[0;34m@\u001b[0m\u001b[0mproperty\u001b[0m\u001b[0;34m\u001b[0m\u001b[0m\n",
      "\u001b[0;32m/Users/steph-backup/anaconda/lib/python2.7/site-packages/pandas/computation/expr.pyc\u001b[0m in \u001b[0;36mparse\u001b[0;34m(self)\u001b[0m\n\u001b[1;32m    725\u001b[0m     \u001b[0;32mdef\u001b[0m \u001b[0mparse\u001b[0m\u001b[0;34m(\u001b[0m\u001b[0mself\u001b[0m\u001b[0;34m)\u001b[0m\u001b[0;34m:\u001b[0m\u001b[0;34m\u001b[0m\u001b[0m\n\u001b[1;32m    726\u001b[0m         \u001b[0;34m\"\"\"Parse an expression\"\"\"\u001b[0m\u001b[0;34m\u001b[0m\u001b[0m\n\u001b[0;32m--> 727\u001b[0;31m         \u001b[0;32mreturn\u001b[0m \u001b[0mself\u001b[0m\u001b[0;34m.\u001b[0m\u001b[0m_visitor\u001b[0m\u001b[0;34m.\u001b[0m\u001b[0mvisit\u001b[0m\u001b[0;34m(\u001b[0m\u001b[0mself\u001b[0m\u001b[0;34m.\u001b[0m\u001b[0mexpr\u001b[0m\u001b[0;34m)\u001b[0m\u001b[0;34m\u001b[0m\u001b[0m\n\u001b[0m\u001b[1;32m    728\u001b[0m \u001b[0;34m\u001b[0m\u001b[0m\n\u001b[1;32m    729\u001b[0m     \u001b[0;34m@\u001b[0m\u001b[0mproperty\u001b[0m\u001b[0;34m\u001b[0m\u001b[0m\n",
      "\u001b[0;32m/Users/steph-backup/anaconda/lib/python2.7/site-packages/pandas/computation/expr.pyc\u001b[0m in \u001b[0;36mvisit\u001b[0;34m(self, node, **kwargs)\u001b[0m\n\u001b[1;32m    312\u001b[0m         \u001b[0mmethod\u001b[0m \u001b[0;34m=\u001b[0m \u001b[0;34m'visit_'\u001b[0m \u001b[0;34m+\u001b[0m \u001b[0mnode\u001b[0m\u001b[0;34m.\u001b[0m\u001b[0m__class__\u001b[0m\u001b[0;34m.\u001b[0m\u001b[0m__name__\u001b[0m\u001b[0;34m\u001b[0m\u001b[0m\n\u001b[1;32m    313\u001b[0m         \u001b[0mvisitor\u001b[0m \u001b[0;34m=\u001b[0m \u001b[0mgetattr\u001b[0m\u001b[0;34m(\u001b[0m\u001b[0mself\u001b[0m\u001b[0;34m,\u001b[0m \u001b[0mmethod\u001b[0m\u001b[0;34m)\u001b[0m\u001b[0;34m\u001b[0m\u001b[0m\n\u001b[0;32m--> 314\u001b[0;31m         \u001b[0;32mreturn\u001b[0m \u001b[0mvisitor\u001b[0m\u001b[0;34m(\u001b[0m\u001b[0mnode\u001b[0m\u001b[0;34m,\u001b[0m \u001b[0;34m**\u001b[0m\u001b[0mkwargs\u001b[0m\u001b[0;34m)\u001b[0m\u001b[0;34m\u001b[0m\u001b[0m\n\u001b[0m\u001b[1;32m    315\u001b[0m \u001b[0;34m\u001b[0m\u001b[0m\n\u001b[1;32m    316\u001b[0m     \u001b[0;32mdef\u001b[0m \u001b[0mvisit_Module\u001b[0m\u001b[0;34m(\u001b[0m\u001b[0mself\u001b[0m\u001b[0;34m,\u001b[0m \u001b[0mnode\u001b[0m\u001b[0;34m,\u001b[0m \u001b[0;34m**\u001b[0m\u001b[0mkwargs\u001b[0m\u001b[0;34m)\u001b[0m\u001b[0;34m:\u001b[0m\u001b[0;34m\u001b[0m\u001b[0m\n",
      "\u001b[0;32m/Users/steph-backup/anaconda/lib/python2.7/site-packages/pandas/computation/expr.pyc\u001b[0m in \u001b[0;36mvisit_Module\u001b[0;34m(self, node, **kwargs)\u001b[0m\n\u001b[1;32m    318\u001b[0m             \u001b[0;32mraise\u001b[0m \u001b[0mSyntaxError\u001b[0m\u001b[0;34m(\u001b[0m\u001b[0;34m'only a single expression is allowed'\u001b[0m\u001b[0;34m)\u001b[0m\u001b[0;34m\u001b[0m\u001b[0m\n\u001b[1;32m    319\u001b[0m         \u001b[0mexpr\u001b[0m \u001b[0;34m=\u001b[0m \u001b[0mnode\u001b[0m\u001b[0;34m.\u001b[0m\u001b[0mbody\u001b[0m\u001b[0;34m[\u001b[0m\u001b[0;36m0\u001b[0m\u001b[0;34m]\u001b[0m\u001b[0;34m\u001b[0m\u001b[0m\n\u001b[0;32m--> 320\u001b[0;31m         \u001b[0;32mreturn\u001b[0m \u001b[0mself\u001b[0m\u001b[0;34m.\u001b[0m\u001b[0mvisit\u001b[0m\u001b[0;34m(\u001b[0m\u001b[0mexpr\u001b[0m\u001b[0;34m,\u001b[0m \u001b[0;34m**\u001b[0m\u001b[0mkwargs\u001b[0m\u001b[0;34m)\u001b[0m\u001b[0;34m\u001b[0m\u001b[0m\n\u001b[0m\u001b[1;32m    321\u001b[0m \u001b[0;34m\u001b[0m\u001b[0m\n\u001b[1;32m    322\u001b[0m     \u001b[0;32mdef\u001b[0m \u001b[0mvisit_Expr\u001b[0m\u001b[0;34m(\u001b[0m\u001b[0mself\u001b[0m\u001b[0;34m,\u001b[0m \u001b[0mnode\u001b[0m\u001b[0;34m,\u001b[0m \u001b[0;34m**\u001b[0m\u001b[0mkwargs\u001b[0m\u001b[0;34m)\u001b[0m\u001b[0;34m:\u001b[0m\u001b[0;34m\u001b[0m\u001b[0m\n",
      "\u001b[0;32m/Users/steph-backup/anaconda/lib/python2.7/site-packages/pandas/computation/expr.pyc\u001b[0m in \u001b[0;36mvisit\u001b[0;34m(self, node, **kwargs)\u001b[0m\n\u001b[1;32m    312\u001b[0m         \u001b[0mmethod\u001b[0m \u001b[0;34m=\u001b[0m \u001b[0;34m'visit_'\u001b[0m \u001b[0;34m+\u001b[0m \u001b[0mnode\u001b[0m\u001b[0;34m.\u001b[0m\u001b[0m__class__\u001b[0m\u001b[0;34m.\u001b[0m\u001b[0m__name__\u001b[0m\u001b[0;34m\u001b[0m\u001b[0m\n\u001b[1;32m    313\u001b[0m         \u001b[0mvisitor\u001b[0m \u001b[0;34m=\u001b[0m \u001b[0mgetattr\u001b[0m\u001b[0;34m(\u001b[0m\u001b[0mself\u001b[0m\u001b[0;34m,\u001b[0m \u001b[0mmethod\u001b[0m\u001b[0;34m)\u001b[0m\u001b[0;34m\u001b[0m\u001b[0m\n\u001b[0;32m--> 314\u001b[0;31m         \u001b[0;32mreturn\u001b[0m \u001b[0mvisitor\u001b[0m\u001b[0;34m(\u001b[0m\u001b[0mnode\u001b[0m\u001b[0;34m,\u001b[0m \u001b[0;34m**\u001b[0m\u001b[0mkwargs\u001b[0m\u001b[0;34m)\u001b[0m\u001b[0;34m\u001b[0m\u001b[0m\n\u001b[0m\u001b[1;32m    315\u001b[0m \u001b[0;34m\u001b[0m\u001b[0m\n\u001b[1;32m    316\u001b[0m     \u001b[0;32mdef\u001b[0m \u001b[0mvisit_Module\u001b[0m\u001b[0;34m(\u001b[0m\u001b[0mself\u001b[0m\u001b[0;34m,\u001b[0m \u001b[0mnode\u001b[0m\u001b[0;34m,\u001b[0m \u001b[0;34m**\u001b[0m\u001b[0mkwargs\u001b[0m\u001b[0;34m)\u001b[0m\u001b[0;34m:\u001b[0m\u001b[0;34m\u001b[0m\u001b[0m\n",
      "\u001b[0;32m/Users/steph-backup/anaconda/lib/python2.7/site-packages/pandas/computation/expr.pyc\u001b[0m in \u001b[0;36mvisit_Expr\u001b[0;34m(self, node, **kwargs)\u001b[0m\n\u001b[1;32m    321\u001b[0m \u001b[0;34m\u001b[0m\u001b[0m\n\u001b[1;32m    322\u001b[0m     \u001b[0;32mdef\u001b[0m \u001b[0mvisit_Expr\u001b[0m\u001b[0;34m(\u001b[0m\u001b[0mself\u001b[0m\u001b[0;34m,\u001b[0m \u001b[0mnode\u001b[0m\u001b[0;34m,\u001b[0m \u001b[0;34m**\u001b[0m\u001b[0mkwargs\u001b[0m\u001b[0;34m)\u001b[0m\u001b[0;34m:\u001b[0m\u001b[0;34m\u001b[0m\u001b[0m\n\u001b[0;32m--> 323\u001b[0;31m         \u001b[0;32mreturn\u001b[0m \u001b[0mself\u001b[0m\u001b[0;34m.\u001b[0m\u001b[0mvisit\u001b[0m\u001b[0;34m(\u001b[0m\u001b[0mnode\u001b[0m\u001b[0;34m.\u001b[0m\u001b[0mvalue\u001b[0m\u001b[0;34m,\u001b[0m \u001b[0;34m**\u001b[0m\u001b[0mkwargs\u001b[0m\u001b[0;34m)\u001b[0m\u001b[0;34m\u001b[0m\u001b[0m\n\u001b[0m\u001b[1;32m    324\u001b[0m \u001b[0;34m\u001b[0m\u001b[0m\n\u001b[1;32m    325\u001b[0m     \u001b[0;32mdef\u001b[0m \u001b[0m_rewrite_membership_op\u001b[0m\u001b[0;34m(\u001b[0m\u001b[0mself\u001b[0m\u001b[0;34m,\u001b[0m \u001b[0mnode\u001b[0m\u001b[0;34m,\u001b[0m \u001b[0mleft\u001b[0m\u001b[0;34m,\u001b[0m \u001b[0mright\u001b[0m\u001b[0;34m)\u001b[0m\u001b[0;34m:\u001b[0m\u001b[0;34m\u001b[0m\u001b[0m\n",
      "\u001b[0;32m/Users/steph-backup/anaconda/lib/python2.7/site-packages/pandas/computation/expr.pyc\u001b[0m in \u001b[0;36mvisit\u001b[0;34m(self, node, **kwargs)\u001b[0m\n\u001b[1;32m    312\u001b[0m         \u001b[0mmethod\u001b[0m \u001b[0;34m=\u001b[0m \u001b[0;34m'visit_'\u001b[0m \u001b[0;34m+\u001b[0m \u001b[0mnode\u001b[0m\u001b[0;34m.\u001b[0m\u001b[0m__class__\u001b[0m\u001b[0;34m.\u001b[0m\u001b[0m__name__\u001b[0m\u001b[0;34m\u001b[0m\u001b[0m\n\u001b[1;32m    313\u001b[0m         \u001b[0mvisitor\u001b[0m \u001b[0;34m=\u001b[0m \u001b[0mgetattr\u001b[0m\u001b[0;34m(\u001b[0m\u001b[0mself\u001b[0m\u001b[0;34m,\u001b[0m \u001b[0mmethod\u001b[0m\u001b[0;34m)\u001b[0m\u001b[0;34m\u001b[0m\u001b[0m\n\u001b[0;32m--> 314\u001b[0;31m         \u001b[0;32mreturn\u001b[0m \u001b[0mvisitor\u001b[0m\u001b[0;34m(\u001b[0m\u001b[0mnode\u001b[0m\u001b[0;34m,\u001b[0m \u001b[0;34m**\u001b[0m\u001b[0mkwargs\u001b[0m\u001b[0;34m)\u001b[0m\u001b[0;34m\u001b[0m\u001b[0m\n\u001b[0m\u001b[1;32m    315\u001b[0m \u001b[0;34m\u001b[0m\u001b[0m\n\u001b[1;32m    316\u001b[0m     \u001b[0;32mdef\u001b[0m \u001b[0mvisit_Module\u001b[0m\u001b[0;34m(\u001b[0m\u001b[0mself\u001b[0m\u001b[0;34m,\u001b[0m \u001b[0mnode\u001b[0m\u001b[0;34m,\u001b[0m \u001b[0;34m**\u001b[0m\u001b[0mkwargs\u001b[0m\u001b[0;34m)\u001b[0m\u001b[0;34m:\u001b[0m\u001b[0;34m\u001b[0m\u001b[0m\n",
      "\u001b[0;32m/Users/steph-backup/anaconda/lib/python2.7/site-packages/pandas/computation/expr.pyc\u001b[0m in \u001b[0;36mvisit_BoolOp\u001b[0;34m(self, node, **kwargs)\u001b[0m\n\u001b[1;32m    653\u001b[0m \u001b[0;34m\u001b[0m\u001b[0m\n\u001b[1;32m    654\u001b[0m         \u001b[0moperands\u001b[0m \u001b[0;34m=\u001b[0m \u001b[0mnode\u001b[0m\u001b[0;34m.\u001b[0m\u001b[0mvalues\u001b[0m\u001b[0;34m\u001b[0m\u001b[0m\n\u001b[0;32m--> 655\u001b[0;31m         \u001b[0;32mreturn\u001b[0m \u001b[0mreduce\u001b[0m\u001b[0;34m(\u001b[0m\u001b[0mvisitor\u001b[0m\u001b[0;34m,\u001b[0m \u001b[0moperands\u001b[0m\u001b[0;34m)\u001b[0m\u001b[0;34m\u001b[0m\u001b[0m\n\u001b[0m\u001b[1;32m    656\u001b[0m \u001b[0;34m\u001b[0m\u001b[0m\n\u001b[1;32m    657\u001b[0m \u001b[0;31m# ast.Call signature changed on 3.5,\u001b[0m\u001b[0;34m\u001b[0m\u001b[0;34m\u001b[0m\u001b[0m\n",
      "\u001b[0;32m/Users/steph-backup/anaconda/lib/python2.7/site-packages/pandas/computation/expr.pyc\u001b[0m in \u001b[0;36mvisitor\u001b[0;34m(x, y)\u001b[0m\n\u001b[1;32m    645\u001b[0m     \u001b[0;32mdef\u001b[0m \u001b[0mvisit_BoolOp\u001b[0m\u001b[0;34m(\u001b[0m\u001b[0mself\u001b[0m\u001b[0;34m,\u001b[0m \u001b[0mnode\u001b[0m\u001b[0;34m,\u001b[0m \u001b[0;34m**\u001b[0m\u001b[0mkwargs\u001b[0m\u001b[0;34m)\u001b[0m\u001b[0;34m:\u001b[0m\u001b[0;34m\u001b[0m\u001b[0m\n\u001b[1;32m    646\u001b[0m         \u001b[0;32mdef\u001b[0m \u001b[0mvisitor\u001b[0m\u001b[0;34m(\u001b[0m\u001b[0mx\u001b[0m\u001b[0;34m,\u001b[0m \u001b[0my\u001b[0m\u001b[0;34m)\u001b[0m\u001b[0;34m:\u001b[0m\u001b[0;34m\u001b[0m\u001b[0m\n\u001b[0;32m--> 647\u001b[0;31m             \u001b[0mlhs\u001b[0m \u001b[0;34m=\u001b[0m \u001b[0mself\u001b[0m\u001b[0;34m.\u001b[0m\u001b[0m_try_visit_binop\u001b[0m\u001b[0;34m(\u001b[0m\u001b[0mx\u001b[0m\u001b[0;34m)\u001b[0m\u001b[0;34m\u001b[0m\u001b[0m\n\u001b[0m\u001b[1;32m    648\u001b[0m             \u001b[0mrhs\u001b[0m \u001b[0;34m=\u001b[0m \u001b[0mself\u001b[0m\u001b[0;34m.\u001b[0m\u001b[0m_try_visit_binop\u001b[0m\u001b[0;34m(\u001b[0m\u001b[0my\u001b[0m\u001b[0;34m)\u001b[0m\u001b[0;34m\u001b[0m\u001b[0m\n\u001b[1;32m    649\u001b[0m \u001b[0;34m\u001b[0m\u001b[0m\n",
      "\u001b[0;32m/Users/steph-backup/anaconda/lib/python2.7/site-packages/pandas/computation/expr.pyc\u001b[0m in \u001b[0;36m_try_visit_binop\u001b[0;34m(self, bop)\u001b[0m\n\u001b[1;32m    641\u001b[0m         \u001b[0;32mif\u001b[0m \u001b[0misinstance\u001b[0m\u001b[0;34m(\u001b[0m\u001b[0mbop\u001b[0m\u001b[0;34m,\u001b[0m \u001b[0;34m(\u001b[0m\u001b[0mOp\u001b[0m\u001b[0;34m,\u001b[0m \u001b[0mTerm\u001b[0m\u001b[0;34m)\u001b[0m\u001b[0;34m)\u001b[0m\u001b[0;34m:\u001b[0m\u001b[0;34m\u001b[0m\u001b[0m\n\u001b[1;32m    642\u001b[0m             \u001b[0;32mreturn\u001b[0m \u001b[0mbop\u001b[0m\u001b[0;34m\u001b[0m\u001b[0m\n\u001b[0;32m--> 643\u001b[0;31m         \u001b[0;32mreturn\u001b[0m \u001b[0mself\u001b[0m\u001b[0;34m.\u001b[0m\u001b[0mvisit\u001b[0m\u001b[0;34m(\u001b[0m\u001b[0mbop\u001b[0m\u001b[0;34m)\u001b[0m\u001b[0;34m\u001b[0m\u001b[0m\n\u001b[0m\u001b[1;32m    644\u001b[0m \u001b[0;34m\u001b[0m\u001b[0m\n\u001b[1;32m    645\u001b[0m     \u001b[0;32mdef\u001b[0m \u001b[0mvisit_BoolOp\u001b[0m\u001b[0;34m(\u001b[0m\u001b[0mself\u001b[0m\u001b[0;34m,\u001b[0m \u001b[0mnode\u001b[0m\u001b[0;34m,\u001b[0m \u001b[0;34m**\u001b[0m\u001b[0mkwargs\u001b[0m\u001b[0;34m)\u001b[0m\u001b[0;34m:\u001b[0m\u001b[0;34m\u001b[0m\u001b[0m\n",
      "\u001b[0;32m/Users/steph-backup/anaconda/lib/python2.7/site-packages/pandas/computation/expr.pyc\u001b[0m in \u001b[0;36mvisit\u001b[0;34m(self, node, **kwargs)\u001b[0m\n\u001b[1;32m    312\u001b[0m         \u001b[0mmethod\u001b[0m \u001b[0;34m=\u001b[0m \u001b[0;34m'visit_'\u001b[0m \u001b[0;34m+\u001b[0m \u001b[0mnode\u001b[0m\u001b[0;34m.\u001b[0m\u001b[0m__class__\u001b[0m\u001b[0;34m.\u001b[0m\u001b[0m__name__\u001b[0m\u001b[0;34m\u001b[0m\u001b[0m\n\u001b[1;32m    313\u001b[0m         \u001b[0mvisitor\u001b[0m \u001b[0;34m=\u001b[0m \u001b[0mgetattr\u001b[0m\u001b[0;34m(\u001b[0m\u001b[0mself\u001b[0m\u001b[0;34m,\u001b[0m \u001b[0mmethod\u001b[0m\u001b[0;34m)\u001b[0m\u001b[0;34m\u001b[0m\u001b[0m\n\u001b[0;32m--> 314\u001b[0;31m         \u001b[0;32mreturn\u001b[0m \u001b[0mvisitor\u001b[0m\u001b[0;34m(\u001b[0m\u001b[0mnode\u001b[0m\u001b[0;34m,\u001b[0m \u001b[0;34m**\u001b[0m\u001b[0mkwargs\u001b[0m\u001b[0;34m)\u001b[0m\u001b[0;34m\u001b[0m\u001b[0m\n\u001b[0m\u001b[1;32m    315\u001b[0m \u001b[0;34m\u001b[0m\u001b[0m\n\u001b[1;32m    316\u001b[0m     \u001b[0;32mdef\u001b[0m \u001b[0mvisit_Module\u001b[0m\u001b[0;34m(\u001b[0m\u001b[0mself\u001b[0m\u001b[0;34m,\u001b[0m \u001b[0mnode\u001b[0m\u001b[0;34m,\u001b[0m \u001b[0;34m**\u001b[0m\u001b[0mkwargs\u001b[0m\u001b[0;34m)\u001b[0m\u001b[0;34m:\u001b[0m\u001b[0;34m\u001b[0m\u001b[0m\n",
      "\u001b[0;32m/Users/steph-backup/anaconda/lib/python2.7/site-packages/pandas/computation/expr.pyc\u001b[0m in \u001b[0;36mvisit_Compare\u001b[0;34m(self, node, **kwargs)\u001b[0m\n\u001b[1;32m    626\u001b[0m             \u001b[0mop\u001b[0m \u001b[0;34m=\u001b[0m \u001b[0mself\u001b[0m\u001b[0;34m.\u001b[0m\u001b[0mtranslate_In\u001b[0m\u001b[0;34m(\u001b[0m\u001b[0mops\u001b[0m\u001b[0;34m[\u001b[0m\u001b[0;36m0\u001b[0m\u001b[0;34m]\u001b[0m\u001b[0;34m)\u001b[0m\u001b[0;34m\u001b[0m\u001b[0m\n\u001b[1;32m    627\u001b[0m             \u001b[0mbinop\u001b[0m \u001b[0;34m=\u001b[0m \u001b[0mast\u001b[0m\u001b[0;34m.\u001b[0m\u001b[0mBinOp\u001b[0m\u001b[0;34m(\u001b[0m\u001b[0mop\u001b[0m\u001b[0;34m=\u001b[0m\u001b[0mop\u001b[0m\u001b[0;34m,\u001b[0m \u001b[0mleft\u001b[0m\u001b[0;34m=\u001b[0m\u001b[0mnode\u001b[0m\u001b[0;34m.\u001b[0m\u001b[0mleft\u001b[0m\u001b[0;34m,\u001b[0m \u001b[0mright\u001b[0m\u001b[0;34m=\u001b[0m\u001b[0mcomps\u001b[0m\u001b[0;34m[\u001b[0m\u001b[0;36m0\u001b[0m\u001b[0;34m]\u001b[0m\u001b[0;34m)\u001b[0m\u001b[0;34m\u001b[0m\u001b[0m\n\u001b[0;32m--> 628\u001b[0;31m             \u001b[0;32mreturn\u001b[0m \u001b[0mself\u001b[0m\u001b[0;34m.\u001b[0m\u001b[0mvisit\u001b[0m\u001b[0;34m(\u001b[0m\u001b[0mbinop\u001b[0m\u001b[0;34m)\u001b[0m\u001b[0;34m\u001b[0m\u001b[0m\n\u001b[0m\u001b[1;32m    629\u001b[0m \u001b[0;34m\u001b[0m\u001b[0m\n\u001b[1;32m    630\u001b[0m         \u001b[0;31m# recursive case: we have a chained comparison, a CMP b CMP c, etc.\u001b[0m\u001b[0;34m\u001b[0m\u001b[0;34m\u001b[0m\u001b[0m\n",
      "\u001b[0;32m/Users/steph-backup/anaconda/lib/python2.7/site-packages/pandas/computation/expr.pyc\u001b[0m in \u001b[0;36mvisit\u001b[0;34m(self, node, **kwargs)\u001b[0m\n\u001b[1;32m    312\u001b[0m         \u001b[0mmethod\u001b[0m \u001b[0;34m=\u001b[0m \u001b[0;34m'visit_'\u001b[0m \u001b[0;34m+\u001b[0m \u001b[0mnode\u001b[0m\u001b[0;34m.\u001b[0m\u001b[0m__class__\u001b[0m\u001b[0;34m.\u001b[0m\u001b[0m__name__\u001b[0m\u001b[0;34m\u001b[0m\u001b[0m\n\u001b[1;32m    313\u001b[0m         \u001b[0mvisitor\u001b[0m \u001b[0;34m=\u001b[0m \u001b[0mgetattr\u001b[0m\u001b[0;34m(\u001b[0m\u001b[0mself\u001b[0m\u001b[0;34m,\u001b[0m \u001b[0mmethod\u001b[0m\u001b[0;34m)\u001b[0m\u001b[0;34m\u001b[0m\u001b[0m\n\u001b[0;32m--> 314\u001b[0;31m         \u001b[0;32mreturn\u001b[0m \u001b[0mvisitor\u001b[0m\u001b[0;34m(\u001b[0m\u001b[0mnode\u001b[0m\u001b[0;34m,\u001b[0m \u001b[0;34m**\u001b[0m\u001b[0mkwargs\u001b[0m\u001b[0;34m)\u001b[0m\u001b[0;34m\u001b[0m\u001b[0m\n\u001b[0m\u001b[1;32m    315\u001b[0m \u001b[0;34m\u001b[0m\u001b[0m\n\u001b[1;32m    316\u001b[0m     \u001b[0;32mdef\u001b[0m \u001b[0mvisit_Module\u001b[0m\u001b[0;34m(\u001b[0m\u001b[0mself\u001b[0m\u001b[0;34m,\u001b[0m \u001b[0mnode\u001b[0m\u001b[0;34m,\u001b[0m \u001b[0;34m**\u001b[0m\u001b[0mkwargs\u001b[0m\u001b[0;34m)\u001b[0m\u001b[0;34m:\u001b[0m\u001b[0;34m\u001b[0m\u001b[0m\n",
      "\u001b[0;32m/Users/steph-backup/anaconda/lib/python2.7/site-packages/pandas/computation/expr.pyc\u001b[0m in \u001b[0;36mvisit_BinOp\u001b[0;34m(self, node, **kwargs)\u001b[0m\n\u001b[1;32m    402\u001b[0m \u001b[0;34m\u001b[0m\u001b[0m\n\u001b[1;32m    403\u001b[0m     \u001b[0;32mdef\u001b[0m \u001b[0mvisit_BinOp\u001b[0m\u001b[0;34m(\u001b[0m\u001b[0mself\u001b[0m\u001b[0;34m,\u001b[0m \u001b[0mnode\u001b[0m\u001b[0;34m,\u001b[0m \u001b[0;34m**\u001b[0m\u001b[0mkwargs\u001b[0m\u001b[0;34m)\u001b[0m\u001b[0;34m:\u001b[0m\u001b[0;34m\u001b[0m\u001b[0m\n\u001b[0;32m--> 404\u001b[0;31m         \u001b[0mop\u001b[0m\u001b[0;34m,\u001b[0m \u001b[0mop_class\u001b[0m\u001b[0;34m,\u001b[0m \u001b[0mleft\u001b[0m\u001b[0;34m,\u001b[0m \u001b[0mright\u001b[0m \u001b[0;34m=\u001b[0m \u001b[0mself\u001b[0m\u001b[0;34m.\u001b[0m\u001b[0m_possibly_transform_eq_ne\u001b[0m\u001b[0;34m(\u001b[0m\u001b[0mnode\u001b[0m\u001b[0;34m)\u001b[0m\u001b[0;34m\u001b[0m\u001b[0m\n\u001b[0m\u001b[1;32m    405\u001b[0m         \u001b[0;32mreturn\u001b[0m \u001b[0mself\u001b[0m\u001b[0;34m.\u001b[0m\u001b[0m_possibly_evaluate_binop\u001b[0m\u001b[0;34m(\u001b[0m\u001b[0mop\u001b[0m\u001b[0;34m,\u001b[0m \u001b[0mop_class\u001b[0m\u001b[0;34m,\u001b[0m \u001b[0mleft\u001b[0m\u001b[0;34m,\u001b[0m \u001b[0mright\u001b[0m\u001b[0;34m)\u001b[0m\u001b[0;34m\u001b[0m\u001b[0m\n\u001b[1;32m    406\u001b[0m \u001b[0;34m\u001b[0m\u001b[0m\n",
      "\u001b[0;32m/Users/steph-backup/anaconda/lib/python2.7/site-packages/pandas/computation/expr.pyc\u001b[0m in \u001b[0;36m_possibly_transform_eq_ne\u001b[0;34m(self, node, left, right)\u001b[0m\n\u001b[1;32m    353\u001b[0m     \u001b[0;32mdef\u001b[0m \u001b[0m_possibly_transform_eq_ne\u001b[0m\u001b[0;34m(\u001b[0m\u001b[0mself\u001b[0m\u001b[0;34m,\u001b[0m \u001b[0mnode\u001b[0m\u001b[0;34m,\u001b[0m \u001b[0mleft\u001b[0m\u001b[0;34m=\u001b[0m\u001b[0mNone\u001b[0m\u001b[0;34m,\u001b[0m \u001b[0mright\u001b[0m\u001b[0;34m=\u001b[0m\u001b[0mNone\u001b[0m\u001b[0;34m)\u001b[0m\u001b[0;34m:\u001b[0m\u001b[0;34m\u001b[0m\u001b[0m\n\u001b[1;32m    354\u001b[0m         \u001b[0;32mif\u001b[0m \u001b[0mleft\u001b[0m \u001b[0;32mis\u001b[0m \u001b[0mNone\u001b[0m\u001b[0;34m:\u001b[0m\u001b[0;34m\u001b[0m\u001b[0m\n\u001b[0;32m--> 355\u001b[0;31m             \u001b[0mleft\u001b[0m \u001b[0;34m=\u001b[0m \u001b[0mself\u001b[0m\u001b[0;34m.\u001b[0m\u001b[0mvisit\u001b[0m\u001b[0;34m(\u001b[0m\u001b[0mnode\u001b[0m\u001b[0;34m.\u001b[0m\u001b[0mleft\u001b[0m\u001b[0;34m,\u001b[0m \u001b[0mside\u001b[0m\u001b[0;34m=\u001b[0m\u001b[0;34m'left'\u001b[0m\u001b[0;34m)\u001b[0m\u001b[0;34m\u001b[0m\u001b[0m\n\u001b[0m\u001b[1;32m    356\u001b[0m         \u001b[0;32mif\u001b[0m \u001b[0mright\u001b[0m \u001b[0;32mis\u001b[0m \u001b[0mNone\u001b[0m\u001b[0;34m:\u001b[0m\u001b[0;34m\u001b[0m\u001b[0m\n\u001b[1;32m    357\u001b[0m             \u001b[0mright\u001b[0m \u001b[0;34m=\u001b[0m \u001b[0mself\u001b[0m\u001b[0;34m.\u001b[0m\u001b[0mvisit\u001b[0m\u001b[0;34m(\u001b[0m\u001b[0mnode\u001b[0m\u001b[0;34m.\u001b[0m\u001b[0mright\u001b[0m\u001b[0;34m,\u001b[0m \u001b[0mside\u001b[0m\u001b[0;34m=\u001b[0m\u001b[0;34m'right'\u001b[0m\u001b[0;34m)\u001b[0m\u001b[0;34m\u001b[0m\u001b[0m\n",
      "\u001b[0;32m/Users/steph-backup/anaconda/lib/python2.7/site-packages/pandas/computation/expr.pyc\u001b[0m in \u001b[0;36mvisit\u001b[0;34m(self, node, **kwargs)\u001b[0m\n\u001b[1;32m    312\u001b[0m         \u001b[0mmethod\u001b[0m \u001b[0;34m=\u001b[0m \u001b[0;34m'visit_'\u001b[0m \u001b[0;34m+\u001b[0m \u001b[0mnode\u001b[0m\u001b[0;34m.\u001b[0m\u001b[0m__class__\u001b[0m\u001b[0;34m.\u001b[0m\u001b[0m__name__\u001b[0m\u001b[0;34m\u001b[0m\u001b[0m\n\u001b[1;32m    313\u001b[0m         \u001b[0mvisitor\u001b[0m \u001b[0;34m=\u001b[0m \u001b[0mgetattr\u001b[0m\u001b[0;34m(\u001b[0m\u001b[0mself\u001b[0m\u001b[0;34m,\u001b[0m \u001b[0mmethod\u001b[0m\u001b[0;34m)\u001b[0m\u001b[0;34m\u001b[0m\u001b[0m\n\u001b[0;32m--> 314\u001b[0;31m         \u001b[0;32mreturn\u001b[0m \u001b[0mvisitor\u001b[0m\u001b[0;34m(\u001b[0m\u001b[0mnode\u001b[0m\u001b[0;34m,\u001b[0m \u001b[0;34m**\u001b[0m\u001b[0mkwargs\u001b[0m\u001b[0;34m)\u001b[0m\u001b[0;34m\u001b[0m\u001b[0m\n\u001b[0m\u001b[1;32m    315\u001b[0m \u001b[0;34m\u001b[0m\u001b[0m\n\u001b[1;32m    316\u001b[0m     \u001b[0;32mdef\u001b[0m \u001b[0mvisit_Module\u001b[0m\u001b[0;34m(\u001b[0m\u001b[0mself\u001b[0m\u001b[0;34m,\u001b[0m \u001b[0mnode\u001b[0m\u001b[0;34m,\u001b[0m \u001b[0;34m**\u001b[0m\u001b[0mkwargs\u001b[0m\u001b[0;34m)\u001b[0m\u001b[0;34m:\u001b[0m\u001b[0;34m\u001b[0m\u001b[0m\n",
      "\u001b[0;32m/Users/steph-backup/anaconda/lib/python2.7/site-packages/pandas/computation/expr.pyc\u001b[0m in \u001b[0;36mvisit_Name\u001b[0;34m(self, node, **kwargs)\u001b[0m\n\u001b[1;32m    415\u001b[0m \u001b[0;34m\u001b[0m\u001b[0m\n\u001b[1;32m    416\u001b[0m     \u001b[0;32mdef\u001b[0m \u001b[0mvisit_Name\u001b[0m\u001b[0;34m(\u001b[0m\u001b[0mself\u001b[0m\u001b[0;34m,\u001b[0m \u001b[0mnode\u001b[0m\u001b[0;34m,\u001b[0m \u001b[0;34m**\u001b[0m\u001b[0mkwargs\u001b[0m\u001b[0;34m)\u001b[0m\u001b[0;34m:\u001b[0m\u001b[0;34m\u001b[0m\u001b[0m\n\u001b[0;32m--> 417\u001b[0;31m         \u001b[0;32mreturn\u001b[0m \u001b[0mself\u001b[0m\u001b[0;34m.\u001b[0m\u001b[0mterm_type\u001b[0m\u001b[0;34m(\u001b[0m\u001b[0mnode\u001b[0m\u001b[0;34m.\u001b[0m\u001b[0mid\u001b[0m\u001b[0;34m,\u001b[0m \u001b[0mself\u001b[0m\u001b[0;34m.\u001b[0m\u001b[0menv\u001b[0m\u001b[0;34m,\u001b[0m \u001b[0;34m**\u001b[0m\u001b[0mkwargs\u001b[0m\u001b[0;34m)\u001b[0m\u001b[0;34m\u001b[0m\u001b[0m\n\u001b[0m\u001b[1;32m    418\u001b[0m \u001b[0;34m\u001b[0m\u001b[0m\n\u001b[1;32m    419\u001b[0m     \u001b[0;32mdef\u001b[0m \u001b[0mvisit_NameConstant\u001b[0m\u001b[0;34m(\u001b[0m\u001b[0mself\u001b[0m\u001b[0;34m,\u001b[0m \u001b[0mnode\u001b[0m\u001b[0;34m,\u001b[0m \u001b[0;34m**\u001b[0m\u001b[0mkwargs\u001b[0m\u001b[0;34m)\u001b[0m\u001b[0;34m:\u001b[0m\u001b[0;34m\u001b[0m\u001b[0m\n",
      "\u001b[0;32m/Users/steph-backup/anaconda/lib/python2.7/site-packages/pandas/computation/ops.pyc\u001b[0m in \u001b[0;36m__init__\u001b[0;34m(self, name, env, side, encoding)\u001b[0m\n\u001b[1;32m     54\u001b[0m         self.is_local = (tname.startswith(_LOCAL_TAG) or\n\u001b[1;32m     55\u001b[0m                          tname in _DEFAULT_GLOBALS)\n\u001b[0;32m---> 56\u001b[0;31m         \u001b[0mself\u001b[0m\u001b[0;34m.\u001b[0m\u001b[0m_value\u001b[0m \u001b[0;34m=\u001b[0m \u001b[0mself\u001b[0m\u001b[0;34m.\u001b[0m\u001b[0m_resolve_name\u001b[0m\u001b[0;34m(\u001b[0m\u001b[0;34m)\u001b[0m\u001b[0;34m\u001b[0m\u001b[0m\n\u001b[0m\u001b[1;32m     57\u001b[0m         \u001b[0mself\u001b[0m\u001b[0;34m.\u001b[0m\u001b[0mencoding\u001b[0m \u001b[0;34m=\u001b[0m \u001b[0mencoding\u001b[0m\u001b[0;34m\u001b[0m\u001b[0m\n\u001b[1;32m     58\u001b[0m \u001b[0;34m\u001b[0m\u001b[0m\n",
      "\u001b[0;32m/Users/steph-backup/anaconda/lib/python2.7/site-packages/pandas/computation/ops.pyc\u001b[0m in \u001b[0;36m_resolve_name\u001b[0;34m(self)\u001b[0m\n\u001b[1;32m     71\u001b[0m \u001b[0;34m\u001b[0m\u001b[0m\n\u001b[1;32m     72\u001b[0m     \u001b[0;32mdef\u001b[0m \u001b[0m_resolve_name\u001b[0m\u001b[0;34m(\u001b[0m\u001b[0mself\u001b[0m\u001b[0;34m)\u001b[0m\u001b[0;34m:\u001b[0m\u001b[0;34m\u001b[0m\u001b[0m\n\u001b[0;32m---> 73\u001b[0;31m         \u001b[0mres\u001b[0m \u001b[0;34m=\u001b[0m \u001b[0mself\u001b[0m\u001b[0;34m.\u001b[0m\u001b[0menv\u001b[0m\u001b[0;34m.\u001b[0m\u001b[0mresolve\u001b[0m\u001b[0;34m(\u001b[0m\u001b[0mself\u001b[0m\u001b[0;34m.\u001b[0m\u001b[0mlocal_name\u001b[0m\u001b[0;34m,\u001b[0m \u001b[0mis_local\u001b[0m\u001b[0;34m=\u001b[0m\u001b[0mself\u001b[0m\u001b[0;34m.\u001b[0m\u001b[0mis_local\u001b[0m\u001b[0;34m)\u001b[0m\u001b[0;34m\u001b[0m\u001b[0m\n\u001b[0m\u001b[1;32m     74\u001b[0m         \u001b[0mself\u001b[0m\u001b[0;34m.\u001b[0m\u001b[0mupdate\u001b[0m\u001b[0;34m(\u001b[0m\u001b[0mres\u001b[0m\u001b[0;34m)\u001b[0m\u001b[0;34m\u001b[0m\u001b[0m\n\u001b[1;32m     75\u001b[0m \u001b[0;34m\u001b[0m\u001b[0m\n",
      "\u001b[0;32m/Users/steph-backup/anaconda/lib/python2.7/site-packages/pandas/computation/scope.pyc\u001b[0m in \u001b[0;36mresolve\u001b[0;34m(self, key, is_local)\u001b[0m\n\u001b[1;32m    188\u001b[0m                 \u001b[0;32mreturn\u001b[0m \u001b[0mself\u001b[0m\u001b[0;34m.\u001b[0m\u001b[0mtemps\u001b[0m\u001b[0;34m[\u001b[0m\u001b[0mkey\u001b[0m\u001b[0;34m]\u001b[0m\u001b[0;34m\u001b[0m\u001b[0m\n\u001b[1;32m    189\u001b[0m             \u001b[0;32mexcept\u001b[0m \u001b[0mKeyError\u001b[0m\u001b[0;34m:\u001b[0m\u001b[0;34m\u001b[0m\u001b[0m\n\u001b[0;32m--> 190\u001b[0;31m                 \u001b[0;32mraise\u001b[0m \u001b[0mcompu\u001b[0m\u001b[0;34m.\u001b[0m\u001b[0mops\u001b[0m\u001b[0;34m.\u001b[0m\u001b[0mUndefinedVariableError\u001b[0m\u001b[0;34m(\u001b[0m\u001b[0mkey\u001b[0m\u001b[0;34m,\u001b[0m \u001b[0mis_local\u001b[0m\u001b[0;34m)\u001b[0m\u001b[0;34m\u001b[0m\u001b[0m\n\u001b[0m\u001b[1;32m    191\u001b[0m \u001b[0;34m\u001b[0m\u001b[0m\n\u001b[1;32m    192\u001b[0m     \u001b[0;32mdef\u001b[0m \u001b[0mswapkey\u001b[0m\u001b[0;34m(\u001b[0m\u001b[0mself\u001b[0m\u001b[0;34m,\u001b[0m \u001b[0mold_key\u001b[0m\u001b[0;34m,\u001b[0m \u001b[0mnew_key\u001b[0m\u001b[0;34m,\u001b[0m \u001b[0mnew_value\u001b[0m\u001b[0;34m=\u001b[0m\u001b[0mNone\u001b[0m\u001b[0;34m)\u001b[0m\u001b[0;34m:\u001b[0m\u001b[0;34m\u001b[0m\u001b[0m\n",
      "\u001b[0;31mUndefinedVariableError\u001b[0m: name 'cond' is not defined"
     ]
    }
   ],
   "source": [
    "data = df_logit.query('cond == \"sourcehit\" & category == \"place\"')\n",
    "data_grouped = data.groupby(['subid', 'group']).mean().reset_index()\n",
    "\n",
    "g = sns.factorplot(x='group', y='avg_logit', \n",
    "               units='subid', ci=68, kind='bar', \n",
    "               palette=['dodgerblue', 'orange'], \n",
    "               data=data_grouped)\n",
    "g.set_ylabels('Reinstatement strength (logit)')\n",
    "\n",
    "# plt.savefig('/Users/steph-backup/Dropbox/Stanford/Presentations/AP/mvpa_logit_bilat-fusi_inftemp_sourcehit_place_avg_filtartloc_scalewithinrun.png')\n",
    "# data.to_csv('/Users/steph-backup/Dropbox/Stanford/Presentations/AP/mvpa_logit_bilat-fusi_inftemp_sourcehit_place_byreps_avg_'+avg_interval_lab+'_filtartloc_scalewithinrun.csv')\n",
    "# plt.savefig('/Users/steph-backup/Dropbox/Stanford/Presentations/AP/mvpa_logit_bilat-hippocampus_sourcehit_place_avg_filtartloc_scalewithinrun.png')\n",
    "# data.to_csv('/Users/steph-backup/Dropbox/Stanford/Presentations/AP/mvpa_logit_bilat-hippocampus_sourcehit_place_byreps_avg_'+avg_interval_lab+'_filtartloc_scalewithinrun.csv')\n",
    "# plt.savefig('/Users/steph-backup/Dropbox/Stanford/Presentations/AP/mvpa_logit_inferiorparietal_sourcehit_place_avg_filtartloc_scalewithinrun.png')\n",
    "# data.to_csv('/Users/steph-backup/Dropbox/Stanford/Presentations/AP/mvpa_logit_inferiorparietal_sourcehit_place_byreps_avg_'+avg_interval_lab+'_filtartloc_scalewithinrun.csv')\n",
    "# plt.savefig('/Users/steph-backup/Dropbox/Stanford/Presentations/AP/mvpa_logit_sourcehit_place_avg_filtartloc_scalewithinrun.png')\n",
    "# data.to_csv('/Users/steph-backup/Dropbox/Stanford/Presentations/AP/mvpa_logit_sourcehit_place_byreps_avg_'+avg_interval_lab+'_filtartloc_scalewithinrun.csv')"
   ]
  },
  {
   "cell_type": "markdown",
   "metadata": {},
   "source": [
    "### Is place evidence for source hits reduced if only 2 study repetitions?"
   ]
  },
  {
   "cell_type": "markdown",
   "metadata": {},
   "source": [
    "#### Average some columns"
   ]
  },
  {
   "cell_type": "code",
   "execution_count": 139,
   "metadata": {
    "collapsed": false
   },
   "outputs": [
    {
     "name": "stderr",
     "output_type": "stream",
     "text": [
      "/Users/steph-backup/anaconda/lib/python2.7/site-packages/ipykernel/__main__.py:2: SettingWithCopyWarning: \n",
      "A value is trying to be set on a copy of a slice from a DataFrame.\n",
      "Try using .loc[row_indexer,col_indexer] = value instead\n",
      "\n",
      "See the caveats in the documentation: http://pandas.pydata.org/pandas-docs/stable/indexing.html#indexing-view-versus-copy\n",
      "  from ipykernel import kernelapp as app\n"
     ]
    },
    {
     "data": {
      "image/png": "[encoded data removed]",
      "text/plain": [
       "<matplotlib.figure.Figure at 0x12984e8d0>"
      ]
     },
     "metadata": {},
     "output_type": "display_data"
    }
   ],
   "source": [
    "data = df_logit.query('cond == \"sourcehit\" & category == \"place\"')\n",
    "data['strength'] = 'nan'\n",
    "data.ix[data.reps == '2', 'strength'] = 'weak'\n",
    "data.ix[data.reps == '4', 'strength'] = 'strong'\n",
    "\n",
    "data_grouped = data.groupby(['subid', 'strength', 'group']).mean().reset_index()\n",
    "\n",
    "g = sns.factorplot(x='strength', y='avg_logit', hue='group', \n",
    "               units='subid', ci=68, kind='bar', order = ['weak', 'strong'],\n",
    "               palette=['dodgerblue', 'orange'], aspect=1.2,\n",
    "               data=data_grouped)\n",
    "g.set_ylabels('Reinstatement strength (logit)')\n",
    "g.set_xlabels('Encoding strength')\n",
    "plt.locator_params('y', nbins=5)\n",
    "sns.despine()\n",
    "\n",
    "plt.savefig('/Users/steph-backup/Dropbox/Stanford/Presentations/AP/mvpa_logit_bilat-hippocampus_sourcehit_place_byreps_avg_'+avg_interval_lab+'_filtartloc_scalewithinrun.png')\n",
    "data.to_csv('/Users/steph-backup/Dropbox/Stanford/Presentations/AP/mvpa_logit_bilat-hippocampus_sourcehit_place_byreps_avg_'+avg_interval_lab+'_filtartloc_scalewithinrun.csv')\n",
    "\n",
    "# plt.savefig('/Users/steph-backup/Dropbox/Stanford/Presentations/AP/mvpa_logit_inferiorparietal_sourcehit_place_byreps_avg_'+avg_interval_lab+'_filtartloc_scalewithinrun.png')\n",
    "# data.to_csv('/Users/steph-backup/Dropbox/Stanford/Presentations/AP/mvpa_logit_inferiorparietal_sourcehit_place_byreps_avg_'+avg_interval_lab+'_filtartloc_scalewithinrun.csv')\n",
    "\n",
    "# plt.savefig('/Users/steph-backup/Dropbox/Stanford/Presentations/AP/mvpa_logit_sourcehit_place_byreps_avg_'+avg_interval_lab+'_filtartloc_scalewithinrun.png')\n",
    "# data.to_csv('/Users/steph-backup/Dropbox/Stanford/Presentations/AP/mvpa_logit_sourcehit_place_byreps_avg_'+avg_interval_lab+'_filtartloc_scalewithinrun.csv')\n"
   ]
  }
 ],
 "metadata": {
  "kernelspec": {
   "display_name": "Python 2",
   "language": "python",
   "name": "python2"
  },
  "language_info": {
   "codemirror_mode": {
    "name": "ipython",
    "version": 2
   },
   "file_extension": ".py",
   "mimetype": "text/x-python",
   "name": "python",
   "nbconvert_exporter": "python",
   "pygments_lexer": "ipython2",
   "version": "2.7.12"
  }
 },
 "nbformat": 4,
 "nbformat_minor": 0
}
