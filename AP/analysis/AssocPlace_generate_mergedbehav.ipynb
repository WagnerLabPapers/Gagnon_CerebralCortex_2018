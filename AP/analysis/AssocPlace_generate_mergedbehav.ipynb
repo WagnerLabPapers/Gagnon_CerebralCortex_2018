{
 "cells": [
  {
   "cell_type": "markdown",
   "metadata": {},
   "source": [
    "# AssocPlace"
   ]
  },
  {
   "cell_type": "markdown",
   "metadata": {},
   "source": [
    "# Set up Analysis"
   ]
  },
  {
   "cell_type": "markdown",
   "metadata": {},
   "source": [
    "### Initial Imports"
   ]
  },
  {
   "cell_type": "code",
   "execution_count": 3,
   "metadata": {
    "collapsed": false
   },
   "outputs": [
    {
     "data": {
      "text/plain": [
       "'/Users/sgagnon/anaconda'"
      ]
     },
     "execution_count": 3,
     "metadata": {},
     "output_type": "execute_result"
    }
   ],
   "source": [
    "import sys; sys.prefix"
   ]
  },
  {
   "cell_type": "code",
   "execution_count": 4,
   "metadata": {
    "collapsed": false
   },
   "outputs": [
    {
     "name": "stderr",
     "output_type": "stream",
     "text": [
      "/Users/sgagnon/anaconda/lib/python2.7/site-packages/statsmodels/compat/pandas.py:56: FutureWarning: The pandas.core.datetools module is deprecated and will be removed in a future version. Please use the pandas.tseries module instead.\n",
      "  from pandas.core import datetools\n"
     ]
    }
   ],
   "source": [
    "import pandas as pd\n",
    "import moss\n",
    "from scipy import stats\n",
    "import scipy as sp\n",
    "import seaborn as sns\n",
    "import numpy as np\n",
    "import matplotlib\n",
    "import matplotlib.pyplot as plt\n",
    "import os.path as op\n",
    "\n",
    "# Gather project info & functions\n",
    "from ap_setup_project import *\n",
    "\n",
    "# for plotting\n",
    "sns.set(style='ticks', context='poster', font_scale=1.3)\n",
    "%matplotlib inline\n",
    "\n",
    "# R for stats\n",
    "# %load_ext rpy2.ipython\n",
    "# %R require(lme4)\n",
    "# %R require(lmerTest)"
   ]
  },
  {
   "cell_type": "code",
   "execution_count": 5,
   "metadata": {
    "collapsed": false
   },
   "outputs": [
    {
     "data": {
      "text/plain": [
       "['/Users/sgagnon/anaconda/lib/python2.7/site-packages/seaborn']"
      ]
     },
     "execution_count": 5,
     "metadata": {},
     "output_type": "execute_result"
    }
   ],
   "source": [
    "sns.__path__"
   ]
  },
  {
   "cell_type": "markdown",
   "metadata": {},
   "source": [
    "### Gather experiment info"
   ]
  },
  {
   "cell_type": "code",
   "execution_count": 6,
   "metadata": {
    "collapsed": false
   },
   "outputs": [],
   "source": [
    "dirs = dict()\n",
    "dirs['basedir'] = op.join(op.expanduser('~'), 'Experiments/AssocPlace')\n",
    "dirs['datadir'] = op.join(dirs['basedir'], 'data')\n",
    "dirs['analydir'] = op.join(dirs['basedir'], 'analysis')\n",
    "dirs['subj_info_file'] = op.join(dirs['datadir'], 'group_info.csv')"
   ]
  },
  {
   "cell_type": "code",
   "execution_count": 7,
   "metadata": {
    "collapsed": false
   },
   "outputs": [],
   "source": [
    "exp = gather_experiment_info(exp_name='AP', dirs=dirs)"
   ]
  },
  {
   "cell_type": "code",
   "execution_count": 8,
   "metadata": {
    "collapsed": false
   },
   "outputs": [
    {
     "data": {
      "text/html": [
       "<div>\n",
       "<style>\n",
       "    .dataframe thead tr:only-child th {\n",
       "        text-align: right;\n",
       "    }\n",
       "\n",
       "    .dataframe thead th {\n",
       "        text-align: left;\n",
       "    }\n",
       "\n",
       "    .dataframe tbody tr th {\n",
       "        vertical-align: top;\n",
       "    }\n",
       "</style>\n",
       "<table border=\"1\" class=\"dataframe\">\n",
       "  <thead>\n",
       "    <tr style=\"text-align: right;\">\n",
       "      <th></th>\n",
       "      <th>subid</th>\n",
       "      <th>group</th>\n",
       "      <th>gender</th>\n",
       "      <th>remove</th>\n",
       "      <th>anxious</th>\n",
       "      <th>happy</th>\n",
       "      <th>safe</th>\n",
       "      <th>stressed</th>\n",
       "      <th>life_stress</th>\n",
       "      <th>sleep</th>\n",
       "      <th>net_neg</th>\n",
       "      <th>neg</th>\n",
       "      <th>pos</th>\n",
       "      <th>negative</th>\n",
       "      <th>positive</th>\n",
       "    </tr>\n",
       "  </thead>\n",
       "  <tbody>\n",
       "    <tr>\n",
       "      <th>0</th>\n",
       "      <td>ap100</td>\n",
       "      <td>control-fmri</td>\n",
       "      <td>male</td>\n",
       "      <td>NaN</td>\n",
       "      <td>3</td>\n",
       "      <td>2</td>\n",
       "      <td>3</td>\n",
       "      <td>3</td>\n",
       "      <td>4</td>\n",
       "      <td>4.5</td>\n",
       "      <td>1</td>\n",
       "      <td>3.0</td>\n",
       "      <td>2.5</td>\n",
       "      <td>3.0</td>\n",
       "      <td>2.5</td>\n",
       "    </tr>\n",
       "    <tr>\n",
       "      <th>1</th>\n",
       "      <td>ap101</td>\n",
       "      <td>control-fmri</td>\n",
       "      <td>male</td>\n",
       "      <td>NaN</td>\n",
       "      <td>2</td>\n",
       "      <td>5</td>\n",
       "      <td>6</td>\n",
       "      <td>2</td>\n",
       "      <td>2</td>\n",
       "      <td>8.5</td>\n",
       "      <td>-7</td>\n",
       "      <td>2.0</td>\n",
       "      <td>5.5</td>\n",
       "      <td>2.0</td>\n",
       "      <td>5.5</td>\n",
       "    </tr>\n",
       "    <tr>\n",
       "      <th>2</th>\n",
       "      <td>ap102</td>\n",
       "      <td>control-fmri</td>\n",
       "      <td>male</td>\n",
       "      <td>NaN</td>\n",
       "      <td>4</td>\n",
       "      <td>2</td>\n",
       "      <td>5</td>\n",
       "      <td>5</td>\n",
       "      <td>4</td>\n",
       "      <td>9.0</td>\n",
       "      <td>2</td>\n",
       "      <td>4.5</td>\n",
       "      <td>3.5</td>\n",
       "      <td>4.5</td>\n",
       "      <td>3.5</td>\n",
       "    </tr>\n",
       "    <tr>\n",
       "      <th>3</th>\n",
       "      <td>ap103</td>\n",
       "      <td>control-fmri</td>\n",
       "      <td>male</td>\n",
       "      <td>NaN</td>\n",
       "      <td>2</td>\n",
       "      <td>3</td>\n",
       "      <td>5</td>\n",
       "      <td>2</td>\n",
       "      <td>2</td>\n",
       "      <td>6.5</td>\n",
       "      <td>-4</td>\n",
       "      <td>2.0</td>\n",
       "      <td>4.0</td>\n",
       "      <td>2.0</td>\n",
       "      <td>4.0</td>\n",
       "    </tr>\n",
       "    <tr>\n",
       "      <th>4</th>\n",
       "      <td>ap104</td>\n",
       "      <td>control-fmri</td>\n",
       "      <td>male</td>\n",
       "      <td>NaN</td>\n",
       "      <td>3</td>\n",
       "      <td>5</td>\n",
       "      <td>6</td>\n",
       "      <td>3</td>\n",
       "      <td>4</td>\n",
       "      <td>8.0</td>\n",
       "      <td>-5</td>\n",
       "      <td>3.0</td>\n",
       "      <td>5.5</td>\n",
       "      <td>3.0</td>\n",
       "      <td>5.5</td>\n",
       "    </tr>\n",
       "  </tbody>\n",
       "</table>\n",
       "</div>"
      ],
      "text/plain": [
       "   subid         group gender  remove  anxious  happy  safe  stressed  \\\n",
       "0  ap100  control-fmri   male     NaN        3      2     3         3   \n",
       "1  ap101  control-fmri   male     NaN        2      5     6         2   \n",
       "2  ap102  control-fmri   male     NaN        4      2     5         5   \n",
       "3  ap103  control-fmri   male     NaN        2      3     5         2   \n",
       "4  ap104  control-fmri   male     NaN        3      5     6         3   \n",
       "\n",
       "   life_stress  sleep  net_neg  neg  pos  negative  positive  \n",
       "0            4    4.5        1  3.0  2.5       3.0       2.5  \n",
       "1            2    8.5       -7  2.0  5.5       2.0       5.5  \n",
       "2            4    9.0        2  4.5  3.5       4.5       3.5  \n",
       "3            2    6.5       -4  2.0  4.0       2.0       4.0  \n",
       "4            4    8.0       -5  3.0  5.5       3.0       5.5  "
      ]
     },
     "execution_count": 8,
     "metadata": {},
     "output_type": "execute_result"
    }
   ],
   "source": [
    "subj_info = pd.read_csv(dirs['subj_info_file'])\n",
    "subj_info.head()"
   ]
  },
  {
   "cell_type": "markdown",
   "metadata": {},
   "source": [
    "### Subj info"
   ]
  },
  {
   "cell_type": "code",
   "execution_count": 9,
   "metadata": {
    "collapsed": false
   },
   "outputs": [
    {
     "data": {
      "text/html": [
       "<div>\n",
       "<style>\n",
       "    .dataframe thead tr:only-child th {\n",
       "        text-align: right;\n",
       "    }\n",
       "\n",
       "    .dataframe thead th {\n",
       "        text-align: left;\n",
       "    }\n",
       "\n",
       "    .dataframe tbody tr th {\n",
       "        vertical-align: top;\n",
       "    }\n",
       "</style>\n",
       "<table border=\"1\" class=\"dataframe\">\n",
       "  <thead>\n",
       "    <tr style=\"text-align: right;\">\n",
       "      <th></th>\n",
       "      <th>subid</th>\n",
       "      <th>group</th>\n",
       "      <th>gender</th>\n",
       "      <th>remove</th>\n",
       "      <th>anxious</th>\n",
       "      <th>happy</th>\n",
       "      <th>safe</th>\n",
       "      <th>stressed</th>\n",
       "      <th>life_stress</th>\n",
       "      <th>sleep</th>\n",
       "      <th>net_neg</th>\n",
       "      <th>neg</th>\n",
       "      <th>pos</th>\n",
       "      <th>negative</th>\n",
       "      <th>positive</th>\n",
       "    </tr>\n",
       "  </thead>\n",
       "  <tbody>\n",
       "    <tr>\n",
       "      <th>0</th>\n",
       "      <td>ap100</td>\n",
       "      <td>control-fmri</td>\n",
       "      <td>male</td>\n",
       "      <td>NaN</td>\n",
       "      <td>3</td>\n",
       "      <td>2</td>\n",
       "      <td>3</td>\n",
       "      <td>3</td>\n",
       "      <td>4</td>\n",
       "      <td>4.5000</td>\n",
       "      <td>1</td>\n",
       "      <td>3.0</td>\n",
       "      <td>2.5</td>\n",
       "      <td>3.0</td>\n",
       "      <td>2.5</td>\n",
       "    </tr>\n",
       "    <tr>\n",
       "      <th>1</th>\n",
       "      <td>ap101</td>\n",
       "      <td>control-fmri</td>\n",
       "      <td>male</td>\n",
       "      <td>NaN</td>\n",
       "      <td>2</td>\n",
       "      <td>5</td>\n",
       "      <td>6</td>\n",
       "      <td>2</td>\n",
       "      <td>2</td>\n",
       "      <td>8.5000</td>\n",
       "      <td>-7</td>\n",
       "      <td>2.0</td>\n",
       "      <td>5.5</td>\n",
       "      <td>2.0</td>\n",
       "      <td>5.5</td>\n",
       "    </tr>\n",
       "    <tr>\n",
       "      <th>2</th>\n",
       "      <td>ap102</td>\n",
       "      <td>control-fmri</td>\n",
       "      <td>male</td>\n",
       "      <td>NaN</td>\n",
       "      <td>4</td>\n",
       "      <td>2</td>\n",
       "      <td>5</td>\n",
       "      <td>5</td>\n",
       "      <td>4</td>\n",
       "      <td>9.0000</td>\n",
       "      <td>2</td>\n",
       "      <td>4.5</td>\n",
       "      <td>3.5</td>\n",
       "      <td>4.5</td>\n",
       "      <td>3.5</td>\n",
       "    </tr>\n",
       "    <tr>\n",
       "      <th>3</th>\n",
       "      <td>ap103</td>\n",
       "      <td>control-fmri</td>\n",
       "      <td>male</td>\n",
       "      <td>NaN</td>\n",
       "      <td>2</td>\n",
       "      <td>3</td>\n",
       "      <td>5</td>\n",
       "      <td>2</td>\n",
       "      <td>2</td>\n",
       "      <td>6.5000</td>\n",
       "      <td>-4</td>\n",
       "      <td>2.0</td>\n",
       "      <td>4.0</td>\n",
       "      <td>2.0</td>\n",
       "      <td>4.0</td>\n",
       "    </tr>\n",
       "    <tr>\n",
       "      <th>4</th>\n",
       "      <td>ap104</td>\n",
       "      <td>control-fmri</td>\n",
       "      <td>male</td>\n",
       "      <td>NaN</td>\n",
       "      <td>3</td>\n",
       "      <td>5</td>\n",
       "      <td>6</td>\n",
       "      <td>3</td>\n",
       "      <td>4</td>\n",
       "      <td>8.0000</td>\n",
       "      <td>-5</td>\n",
       "      <td>3.0</td>\n",
       "      <td>5.5</td>\n",
       "      <td>3.0</td>\n",
       "      <td>5.5</td>\n",
       "    </tr>\n",
       "    <tr>\n",
       "      <th>5</th>\n",
       "      <td>ap105</td>\n",
       "      <td>control-fmri</td>\n",
       "      <td>male</td>\n",
       "      <td>NaN</td>\n",
       "      <td>6</td>\n",
       "      <td>2</td>\n",
       "      <td>5</td>\n",
       "      <td>6</td>\n",
       "      <td>3</td>\n",
       "      <td>8.0000</td>\n",
       "      <td>5</td>\n",
       "      <td>6.0</td>\n",
       "      <td>3.5</td>\n",
       "      <td>6.0</td>\n",
       "      <td>3.5</td>\n",
       "    </tr>\n",
       "    <tr>\n",
       "      <th>6</th>\n",
       "      <td>ap106</td>\n",
       "      <td>control-fmri</td>\n",
       "      <td>male</td>\n",
       "      <td>NaN</td>\n",
       "      <td>3</td>\n",
       "      <td>2</td>\n",
       "      <td>3</td>\n",
       "      <td>3</td>\n",
       "      <td>2</td>\n",
       "      <td>8.0000</td>\n",
       "      <td>1</td>\n",
       "      <td>3.0</td>\n",
       "      <td>2.5</td>\n",
       "      <td>3.0</td>\n",
       "      <td>2.5</td>\n",
       "    </tr>\n",
       "    <tr>\n",
       "      <th>7</th>\n",
       "      <td>ap107</td>\n",
       "      <td>control-fmri</td>\n",
       "      <td>male</td>\n",
       "      <td>NaN</td>\n",
       "      <td>5</td>\n",
       "      <td>3</td>\n",
       "      <td>3</td>\n",
       "      <td>5</td>\n",
       "      <td>4</td>\n",
       "      <td>6.0000</td>\n",
       "      <td>4</td>\n",
       "      <td>5.0</td>\n",
       "      <td>3.0</td>\n",
       "      <td>5.0</td>\n",
       "      <td>3.0</td>\n",
       "    </tr>\n",
       "    <tr>\n",
       "      <th>8</th>\n",
       "      <td>ap108</td>\n",
       "      <td>control-fmri</td>\n",
       "      <td>male</td>\n",
       "      <td>NaN</td>\n",
       "      <td>3</td>\n",
       "      <td>2</td>\n",
       "      <td>3</td>\n",
       "      <td>3</td>\n",
       "      <td>3</td>\n",
       "      <td>7.0000</td>\n",
       "      <td>1</td>\n",
       "      <td>3.0</td>\n",
       "      <td>2.5</td>\n",
       "      <td>3.0</td>\n",
       "      <td>2.5</td>\n",
       "    </tr>\n",
       "    <tr>\n",
       "      <th>9</th>\n",
       "      <td>ap109</td>\n",
       "      <td>control-fmri</td>\n",
       "      <td>male</td>\n",
       "      <td>NaN</td>\n",
       "      <td>5</td>\n",
       "      <td>2</td>\n",
       "      <td>7</td>\n",
       "      <td>5</td>\n",
       "      <td>4</td>\n",
       "      <td>10.0000</td>\n",
       "      <td>1</td>\n",
       "      <td>5.0</td>\n",
       "      <td>4.5</td>\n",
       "      <td>5.0</td>\n",
       "      <td>4.5</td>\n",
       "    </tr>\n",
       "    <tr>\n",
       "      <th>10</th>\n",
       "      <td>ap110</td>\n",
       "      <td>control-fmri</td>\n",
       "      <td>male</td>\n",
       "      <td>NaN</td>\n",
       "      <td>1</td>\n",
       "      <td>1</td>\n",
       "      <td>7</td>\n",
       "      <td>2</td>\n",
       "      <td>1</td>\n",
       "      <td>8.5000</td>\n",
       "      <td>-5</td>\n",
       "      <td>1.5</td>\n",
       "      <td>4.0</td>\n",
       "      <td>1.5</td>\n",
       "      <td>4.0</td>\n",
       "    </tr>\n",
       "    <tr>\n",
       "      <th>11</th>\n",
       "      <td>ap111</td>\n",
       "      <td>control-fmri</td>\n",
       "      <td>male</td>\n",
       "      <td>NaN</td>\n",
       "      <td>3</td>\n",
       "      <td>3</td>\n",
       "      <td>6</td>\n",
       "      <td>4</td>\n",
       "      <td>3</td>\n",
       "      <td>8.5000</td>\n",
       "      <td>-2</td>\n",
       "      <td>3.5</td>\n",
       "      <td>4.5</td>\n",
       "      <td>3.5</td>\n",
       "      <td>4.5</td>\n",
       "    </tr>\n",
       "    <tr>\n",
       "      <th>12</th>\n",
       "      <td>ap113</td>\n",
       "      <td>control-fmri</td>\n",
       "      <td>male</td>\n",
       "      <td>NaN</td>\n",
       "      <td>3</td>\n",
       "      <td>1</td>\n",
       "      <td>6</td>\n",
       "      <td>6</td>\n",
       "      <td>4</td>\n",
       "      <td>8.0000</td>\n",
       "      <td>2</td>\n",
       "      <td>4.5</td>\n",
       "      <td>3.5</td>\n",
       "      <td>4.5</td>\n",
       "      <td>3.5</td>\n",
       "    </tr>\n",
       "    <tr>\n",
       "      <th>13</th>\n",
       "      <td>ap114</td>\n",
       "      <td>control-fmri</td>\n",
       "      <td>male</td>\n",
       "      <td>NaN</td>\n",
       "      <td>3</td>\n",
       "      <td>3</td>\n",
       "      <td>4</td>\n",
       "      <td>3</td>\n",
       "      <td>3</td>\n",
       "      <td>8.0000</td>\n",
       "      <td>-1</td>\n",
       "      <td>3.0</td>\n",
       "      <td>3.5</td>\n",
       "      <td>3.0</td>\n",
       "      <td>3.5</td>\n",
       "    </tr>\n",
       "    <tr>\n",
       "      <th>14</th>\n",
       "      <td>ap115</td>\n",
       "      <td>control-fmri</td>\n",
       "      <td>male</td>\n",
       "      <td>NaN</td>\n",
       "      <td>2</td>\n",
       "      <td>5</td>\n",
       "      <td>7</td>\n",
       "      <td>2</td>\n",
       "      <td>6</td>\n",
       "      <td>7.0000</td>\n",
       "      <td>-8</td>\n",
       "      <td>2.0</td>\n",
       "      <td>6.0</td>\n",
       "      <td>2.0</td>\n",
       "      <td>6.0</td>\n",
       "    </tr>\n",
       "    <tr>\n",
       "      <th>15</th>\n",
       "      <td>ap116</td>\n",
       "      <td>control-fmri</td>\n",
       "      <td>male</td>\n",
       "      <td>NaN</td>\n",
       "      <td>2</td>\n",
       "      <td>5</td>\n",
       "      <td>7</td>\n",
       "      <td>3</td>\n",
       "      <td>5</td>\n",
       "      <td>8.5000</td>\n",
       "      <td>-7</td>\n",
       "      <td>2.5</td>\n",
       "      <td>6.0</td>\n",
       "      <td>2.5</td>\n",
       "      <td>6.0</td>\n",
       "    </tr>\n",
       "    <tr>\n",
       "      <th>16</th>\n",
       "      <td>ap117</td>\n",
       "      <td>control-fmri</td>\n",
       "      <td>male</td>\n",
       "      <td>NaN</td>\n",
       "      <td>1</td>\n",
       "      <td>5</td>\n",
       "      <td>7</td>\n",
       "      <td>1</td>\n",
       "      <td>4</td>\n",
       "      <td>6.5000</td>\n",
       "      <td>-10</td>\n",
       "      <td>1.0</td>\n",
       "      <td>6.0</td>\n",
       "      <td>1.0</td>\n",
       "      <td>6.0</td>\n",
       "    </tr>\n",
       "    <tr>\n",
       "      <th>17</th>\n",
       "      <td>ap150</td>\n",
       "      <td>stress-fmri</td>\n",
       "      <td>male</td>\n",
       "      <td>NaN</td>\n",
       "      <td>4</td>\n",
       "      <td>2</td>\n",
       "      <td>4</td>\n",
       "      <td>5</td>\n",
       "      <td>3</td>\n",
       "      <td>7.5000</td>\n",
       "      <td>3</td>\n",
       "      <td>4.5</td>\n",
       "      <td>3.0</td>\n",
       "      <td>4.5</td>\n",
       "      <td>3.0</td>\n",
       "    </tr>\n",
       "    <tr>\n",
       "      <th>18</th>\n",
       "      <td>ap151</td>\n",
       "      <td>stress-fmri</td>\n",
       "      <td>male</td>\n",
       "      <td>NaN</td>\n",
       "      <td>6</td>\n",
       "      <td>1</td>\n",
       "      <td>3</td>\n",
       "      <td>5</td>\n",
       "      <td>4</td>\n",
       "      <td>9.0000</td>\n",
       "      <td>7</td>\n",
       "      <td>5.5</td>\n",
       "      <td>2.0</td>\n",
       "      <td>5.5</td>\n",
       "      <td>2.0</td>\n",
       "    </tr>\n",
       "    <tr>\n",
       "      <th>19</th>\n",
       "      <td>ap152</td>\n",
       "      <td>stress-fmri</td>\n",
       "      <td>male</td>\n",
       "      <td>NaN</td>\n",
       "      <td>3</td>\n",
       "      <td>4</td>\n",
       "      <td>5</td>\n",
       "      <td>6</td>\n",
       "      <td>3</td>\n",
       "      <td>9.0000</td>\n",
       "      <td>0</td>\n",
       "      <td>4.5</td>\n",
       "      <td>4.5</td>\n",
       "      <td>4.5</td>\n",
       "      <td>4.5</td>\n",
       "    </tr>\n",
       "    <tr>\n",
       "      <th>20</th>\n",
       "      <td>ap153</td>\n",
       "      <td>stress-fmri</td>\n",
       "      <td>male</td>\n",
       "      <td>NaN</td>\n",
       "      <td>2</td>\n",
       "      <td>5</td>\n",
       "      <td>5</td>\n",
       "      <td>2</td>\n",
       "      <td>4</td>\n",
       "      <td>7.0000</td>\n",
       "      <td>-6</td>\n",
       "      <td>2.0</td>\n",
       "      <td>5.0</td>\n",
       "      <td>2.0</td>\n",
       "      <td>5.0</td>\n",
       "    </tr>\n",
       "    <tr>\n",
       "      <th>21</th>\n",
       "      <td>ap154</td>\n",
       "      <td>stress-fmri</td>\n",
       "      <td>male</td>\n",
       "      <td>NaN</td>\n",
       "      <td>5</td>\n",
       "      <td>4</td>\n",
       "      <td>4</td>\n",
       "      <td>5</td>\n",
       "      <td>4</td>\n",
       "      <td>8.0000</td>\n",
       "      <td>2</td>\n",
       "      <td>5.0</td>\n",
       "      <td>4.0</td>\n",
       "      <td>5.0</td>\n",
       "      <td>4.0</td>\n",
       "    </tr>\n",
       "    <tr>\n",
       "      <th>22</th>\n",
       "      <td>ap155</td>\n",
       "      <td>stress-fmri</td>\n",
       "      <td>male</td>\n",
       "      <td>NaN</td>\n",
       "      <td>3</td>\n",
       "      <td>5</td>\n",
       "      <td>6</td>\n",
       "      <td>2</td>\n",
       "      <td>2</td>\n",
       "      <td>8.0000</td>\n",
       "      <td>-6</td>\n",
       "      <td>2.5</td>\n",
       "      <td>5.5</td>\n",
       "      <td>2.5</td>\n",
       "      <td>5.5</td>\n",
       "    </tr>\n",
       "    <tr>\n",
       "      <th>23</th>\n",
       "      <td>ap156</td>\n",
       "      <td>stress-fmri</td>\n",
       "      <td>male</td>\n",
       "      <td>NaN</td>\n",
       "      <td>3</td>\n",
       "      <td>2</td>\n",
       "      <td>7</td>\n",
       "      <td>3</td>\n",
       "      <td>2</td>\n",
       "      <td>9.0000</td>\n",
       "      <td>-3</td>\n",
       "      <td>3.0</td>\n",
       "      <td>4.5</td>\n",
       "      <td>3.0</td>\n",
       "      <td>4.5</td>\n",
       "    </tr>\n",
       "    <tr>\n",
       "      <th>24</th>\n",
       "      <td>ap157</td>\n",
       "      <td>stress-fmri</td>\n",
       "      <td>male</td>\n",
       "      <td>NaN</td>\n",
       "      <td>3</td>\n",
       "      <td>2</td>\n",
       "      <td>5</td>\n",
       "      <td>3</td>\n",
       "      <td>3</td>\n",
       "      <td>8.0000</td>\n",
       "      <td>-1</td>\n",
       "      <td>3.0</td>\n",
       "      <td>3.5</td>\n",
       "      <td>3.0</td>\n",
       "      <td>3.5</td>\n",
       "    </tr>\n",
       "    <tr>\n",
       "      <th>25</th>\n",
       "      <td>ap159</td>\n",
       "      <td>stress-fmri</td>\n",
       "      <td>male</td>\n",
       "      <td>NaN</td>\n",
       "      <td>5</td>\n",
       "      <td>3</td>\n",
       "      <td>5</td>\n",
       "      <td>4</td>\n",
       "      <td>6</td>\n",
       "      <td>12.0000</td>\n",
       "      <td>1</td>\n",
       "      <td>4.5</td>\n",
       "      <td>4.0</td>\n",
       "      <td>4.5</td>\n",
       "      <td>4.0</td>\n",
       "    </tr>\n",
       "    <tr>\n",
       "      <th>26</th>\n",
       "      <td>ap160</td>\n",
       "      <td>stress-fmri</td>\n",
       "      <td>male</td>\n",
       "      <td>NaN</td>\n",
       "      <td>4</td>\n",
       "      <td>3</td>\n",
       "      <td>6</td>\n",
       "      <td>5</td>\n",
       "      <td>3</td>\n",
       "      <td>4.5000</td>\n",
       "      <td>0</td>\n",
       "      <td>4.5</td>\n",
       "      <td>4.5</td>\n",
       "      <td>4.5</td>\n",
       "      <td>4.5</td>\n",
       "    </tr>\n",
       "    <tr>\n",
       "      <th>27</th>\n",
       "      <td>ap161</td>\n",
       "      <td>stress-fmri</td>\n",
       "      <td>male</td>\n",
       "      <td>NaN</td>\n",
       "      <td>3</td>\n",
       "      <td>3</td>\n",
       "      <td>7</td>\n",
       "      <td>6</td>\n",
       "      <td>5</td>\n",
       "      <td>6.0000</td>\n",
       "      <td>-1</td>\n",
       "      <td>4.5</td>\n",
       "      <td>5.0</td>\n",
       "      <td>4.5</td>\n",
       "      <td>5.0</td>\n",
       "    </tr>\n",
       "    <tr>\n",
       "      <th>28</th>\n",
       "      <td>ap162</td>\n",
       "      <td>stress-fmri</td>\n",
       "      <td>male</td>\n",
       "      <td>NaN</td>\n",
       "      <td>3</td>\n",
       "      <td>2</td>\n",
       "      <td>4</td>\n",
       "      <td>5</td>\n",
       "      <td>3</td>\n",
       "      <td>7.0000</td>\n",
       "      <td>2</td>\n",
       "      <td>4.0</td>\n",
       "      <td>3.0</td>\n",
       "      <td>4.0</td>\n",
       "      <td>3.0</td>\n",
       "    </tr>\n",
       "    <tr>\n",
       "      <th>29</th>\n",
       "      <td>ap163</td>\n",
       "      <td>stress-fmri</td>\n",
       "      <td>male</td>\n",
       "      <td>NaN</td>\n",
       "      <td>3</td>\n",
       "      <td>2</td>\n",
       "      <td>4</td>\n",
       "      <td>3</td>\n",
       "      <td>4</td>\n",
       "      <td>8.0000</td>\n",
       "      <td>0</td>\n",
       "      <td>3.0</td>\n",
       "      <td>3.0</td>\n",
       "      <td>3.0</td>\n",
       "      <td>3.0</td>\n",
       "    </tr>\n",
       "    <tr>\n",
       "      <th>30</th>\n",
       "      <td>ap165</td>\n",
       "      <td>stress-fmri</td>\n",
       "      <td>male</td>\n",
       "      <td>NaN</td>\n",
       "      <td>5</td>\n",
       "      <td>2</td>\n",
       "      <td>5</td>\n",
       "      <td>5</td>\n",
       "      <td>2</td>\n",
       "      <td>7.5000</td>\n",
       "      <td>3</td>\n",
       "      <td>5.0</td>\n",
       "      <td>3.5</td>\n",
       "      <td>5.0</td>\n",
       "      <td>3.5</td>\n",
       "    </tr>\n",
       "    <tr>\n",
       "      <th>31</th>\n",
       "      <td>ap166</td>\n",
       "      <td>stress-fmri</td>\n",
       "      <td>male</td>\n",
       "      <td>NaN</td>\n",
       "      <td>5</td>\n",
       "      <td>2</td>\n",
       "      <td>5</td>\n",
       "      <td>4</td>\n",
       "      <td>4</td>\n",
       "      <td>6.0000</td>\n",
       "      <td>2</td>\n",
       "      <td>4.5</td>\n",
       "      <td>3.5</td>\n",
       "      <td>4.5</td>\n",
       "      <td>3.5</td>\n",
       "    </tr>\n",
       "    <tr>\n",
       "      <th>32</th>\n",
       "      <td>ap167</td>\n",
       "      <td>stress-fmri</td>\n",
       "      <td>male</td>\n",
       "      <td>NaN</td>\n",
       "      <td>6</td>\n",
       "      <td>2</td>\n",
       "      <td>3</td>\n",
       "      <td>6</td>\n",
       "      <td>3</td>\n",
       "      <td>9.0000</td>\n",
       "      <td>7</td>\n",
       "      <td>6.0</td>\n",
       "      <td>2.5</td>\n",
       "      <td>6.0</td>\n",
       "      <td>2.5</td>\n",
       "    </tr>\n",
       "    <tr>\n",
       "      <th>33</th>\n",
       "      <td>ap118</td>\n",
       "      <td>control-fmri</td>\n",
       "      <td>male</td>\n",
       "      <td>NaN</td>\n",
       "      <td>2</td>\n",
       "      <td>3</td>\n",
       "      <td>5</td>\n",
       "      <td>2</td>\n",
       "      <td>2</td>\n",
       "      <td>5.0000</td>\n",
       "      <td>-4</td>\n",
       "      <td>2.0</td>\n",
       "      <td>4.0</td>\n",
       "      <td>2.0</td>\n",
       "      <td>4.0</td>\n",
       "    </tr>\n",
       "    <tr>\n",
       "      <th>34</th>\n",
       "      <td>ap119</td>\n",
       "      <td>control-fmri</td>\n",
       "      <td>male</td>\n",
       "      <td>NaN</td>\n",
       "      <td>3</td>\n",
       "      <td>3</td>\n",
       "      <td>7</td>\n",
       "      <td>4</td>\n",
       "      <td>2</td>\n",
       "      <td>8.5000</td>\n",
       "      <td>-3</td>\n",
       "      <td>3.5</td>\n",
       "      <td>5.0</td>\n",
       "      <td>3.5</td>\n",
       "      <td>5.0</td>\n",
       "    </tr>\n",
       "    <tr>\n",
       "      <th>35</th>\n",
       "      <td>ap120</td>\n",
       "      <td>control-fmri</td>\n",
       "      <td>male</td>\n",
       "      <td>NaN</td>\n",
       "      <td>3</td>\n",
       "      <td>5</td>\n",
       "      <td>4</td>\n",
       "      <td>2</td>\n",
       "      <td>3</td>\n",
       "      <td>7.0000</td>\n",
       "      <td>-4</td>\n",
       "      <td>2.5</td>\n",
       "      <td>4.5</td>\n",
       "      <td>2.5</td>\n",
       "      <td>4.5</td>\n",
       "    </tr>\n",
       "    <tr>\n",
       "      <th>36</th>\n",
       "      <td>ap121</td>\n",
       "      <td>control-fmri</td>\n",
       "      <td>male</td>\n",
       "      <td>NaN</td>\n",
       "      <td>3</td>\n",
       "      <td>4</td>\n",
       "      <td>4</td>\n",
       "      <td>3</td>\n",
       "      <td>3</td>\n",
       "      <td>9.0000</td>\n",
       "      <td>-2</td>\n",
       "      <td>3.0</td>\n",
       "      <td>4.0</td>\n",
       "      <td>3.0</td>\n",
       "      <td>4.0</td>\n",
       "    </tr>\n",
       "    <tr>\n",
       "      <th>37</th>\n",
       "      <td>ap122</td>\n",
       "      <td>control-fmri</td>\n",
       "      <td>male</td>\n",
       "      <td>NaN</td>\n",
       "      <td>2</td>\n",
       "      <td>3</td>\n",
       "      <td>6</td>\n",
       "      <td>2</td>\n",
       "      <td>3</td>\n",
       "      <td>6.0000</td>\n",
       "      <td>-5</td>\n",
       "      <td>2.0</td>\n",
       "      <td>4.5</td>\n",
       "      <td>2.0</td>\n",
       "      <td>4.5</td>\n",
       "    </tr>\n",
       "    <tr>\n",
       "      <th>38</th>\n",
       "      <td>ap169</td>\n",
       "      <td>stress-fmri</td>\n",
       "      <td>male</td>\n",
       "      <td>NaN</td>\n",
       "      <td>5</td>\n",
       "      <td>2</td>\n",
       "      <td>5</td>\n",
       "      <td>4</td>\n",
       "      <td>4</td>\n",
       "      <td>7.5000</td>\n",
       "      <td>2</td>\n",
       "      <td>4.5</td>\n",
       "      <td>3.5</td>\n",
       "      <td>4.5</td>\n",
       "      <td>3.5</td>\n",
       "    </tr>\n",
       "    <tr>\n",
       "      <th>39</th>\n",
       "      <td>ap170</td>\n",
       "      <td>stress-fmri</td>\n",
       "      <td>male</td>\n",
       "      <td>NaN</td>\n",
       "      <td>2</td>\n",
       "      <td>1</td>\n",
       "      <td>7</td>\n",
       "      <td>3</td>\n",
       "      <td>5</td>\n",
       "      <td>6.0000</td>\n",
       "      <td>-3</td>\n",
       "      <td>2.5</td>\n",
       "      <td>4.0</td>\n",
       "      <td>2.5</td>\n",
       "      <td>4.0</td>\n",
       "    </tr>\n",
       "    <tr>\n",
       "      <th>40</th>\n",
       "      <td>ap172</td>\n",
       "      <td>stress-fmri</td>\n",
       "      <td>male</td>\n",
       "      <td>NaN</td>\n",
       "      <td>4</td>\n",
       "      <td>2</td>\n",
       "      <td>4</td>\n",
       "      <td>5</td>\n",
       "      <td>6</td>\n",
       "      <td>6.0000</td>\n",
       "      <td>3</td>\n",
       "      <td>4.5</td>\n",
       "      <td>3.0</td>\n",
       "      <td>4.5</td>\n",
       "      <td>3.0</td>\n",
       "    </tr>\n",
       "    <tr>\n",
       "      <th>41</th>\n",
       "      <td>ap173</td>\n",
       "      <td>stress-fmri</td>\n",
       "      <td>male</td>\n",
       "      <td>NaN</td>\n",
       "      <td>6</td>\n",
       "      <td>2</td>\n",
       "      <td>3</td>\n",
       "      <td>5</td>\n",
       "      <td>4</td>\n",
       "      <td>9.5000</td>\n",
       "      <td>6</td>\n",
       "      <td>5.5</td>\n",
       "      <td>2.5</td>\n",
       "      <td>5.5</td>\n",
       "      <td>2.5</td>\n",
       "    </tr>\n",
       "    <tr>\n",
       "      <th>42</th>\n",
       "      <td>ap171</td>\n",
       "      <td>stress-fmri</td>\n",
       "      <td>male</td>\n",
       "      <td>NaN</td>\n",
       "      <td>3</td>\n",
       "      <td>3</td>\n",
       "      <td>3</td>\n",
       "      <td>4</td>\n",
       "      <td>3</td>\n",
       "      <td>7.5000</td>\n",
       "      <td>1</td>\n",
       "      <td>3.5</td>\n",
       "      <td>3.0</td>\n",
       "      <td>3.5</td>\n",
       "      <td>3.0</td>\n",
       "    </tr>\n",
       "    <tr>\n",
       "      <th>43</th>\n",
       "      <td>ap158</td>\n",
       "      <td>control-fmri</td>\n",
       "      <td>male</td>\n",
       "      <td>NaN</td>\n",
       "      <td>1</td>\n",
       "      <td>3</td>\n",
       "      <td>7</td>\n",
       "      <td>1</td>\n",
       "      <td>3</td>\n",
       "      <td>8.8333</td>\n",
       "      <td>-8</td>\n",
       "      <td>1.0</td>\n",
       "      <td>5.0</td>\n",
       "      <td>1.0</td>\n",
       "      <td>5.0</td>\n",
       "    </tr>\n",
       "    <tr>\n",
       "      <th>44</th>\n",
       "      <td>ap168</td>\n",
       "      <td>stress-fmri</td>\n",
       "      <td>male</td>\n",
       "      <td>NaN</td>\n",
       "      <td>7</td>\n",
       "      <td>2</td>\n",
       "      <td>5</td>\n",
       "      <td>7</td>\n",
       "      <td>6</td>\n",
       "      <td>8.0000</td>\n",
       "      <td>7</td>\n",
       "      <td>7.0</td>\n",
       "      <td>3.5</td>\n",
       "      <td>7.0</td>\n",
       "      <td>3.5</td>\n",
       "    </tr>\n",
       "    <tr>\n",
       "      <th>45</th>\n",
       "      <td>ap164</td>\n",
       "      <td>stress-fmri</td>\n",
       "      <td>male</td>\n",
       "      <td>NaN</td>\n",
       "      <td>6</td>\n",
       "      <td>2</td>\n",
       "      <td>3</td>\n",
       "      <td>6</td>\n",
       "      <td>5</td>\n",
       "      <td>9.0000</td>\n",
       "      <td>7</td>\n",
       "      <td>6.0</td>\n",
       "      <td>2.5</td>\n",
       "      <td>6.0</td>\n",
       "      <td>2.5</td>\n",
       "    </tr>\n",
       "    <tr>\n",
       "      <th>46</th>\n",
       "      <td>ap174</td>\n",
       "      <td>stress-fmri</td>\n",
       "      <td>male</td>\n",
       "      <td>NaN</td>\n",
       "      <td>2</td>\n",
       "      <td>6</td>\n",
       "      <td>7</td>\n",
       "      <td>2</td>\n",
       "      <td>3</td>\n",
       "      <td>9.0000</td>\n",
       "      <td>-9</td>\n",
       "      <td>2.0</td>\n",
       "      <td>6.5</td>\n",
       "      <td>2.0</td>\n",
       "      <td>6.5</td>\n",
       "    </tr>\n",
       "  </tbody>\n",
       "</table>\n",
       "</div>"
      ],
      "text/plain": [
       "    subid         group gender  remove  anxious  happy  safe  stressed  \\\n",
       "0   ap100  control-fmri   male     NaN        3      2     3         3   \n",
       "1   ap101  control-fmri   male     NaN        2      5     6         2   \n",
       "2   ap102  control-fmri   male     NaN        4      2     5         5   \n",
       "3   ap103  control-fmri   male     NaN        2      3     5         2   \n",
       "4   ap104  control-fmri   male     NaN        3      5     6         3   \n",
       "5   ap105  control-fmri   male     NaN        6      2     5         6   \n",
       "6   ap106  control-fmri   male     NaN        3      2     3         3   \n",
       "7   ap107  control-fmri   male     NaN        5      3     3         5   \n",
       "8   ap108  control-fmri   male     NaN        3      2     3         3   \n",
       "9   ap109  control-fmri   male     NaN        5      2     7         5   \n",
       "10  ap110  control-fmri   male     NaN        1      1     7         2   \n",
       "11  ap111  control-fmri   male     NaN        3      3     6         4   \n",
       "12  ap113  control-fmri   male     NaN        3      1     6         6   \n",
       "13  ap114  control-fmri   male     NaN        3      3     4         3   \n",
       "14  ap115  control-fmri   male     NaN        2      5     7         2   \n",
       "15  ap116  control-fmri   male     NaN        2      5     7         3   \n",
       "16  ap117  control-fmri   male     NaN        1      5     7         1   \n",
       "17  ap150   stress-fmri   male     NaN        4      2     4         5   \n",
       "18  ap151   stress-fmri   male     NaN        6      1     3         5   \n",
       "19  ap152   stress-fmri   male     NaN        3      4     5         6   \n",
       "20  ap153   stress-fmri   male     NaN        2      5     5         2   \n",
       "21  ap154   stress-fmri   male     NaN        5      4     4         5   \n",
       "22  ap155   stress-fmri   male     NaN        3      5     6         2   \n",
       "23  ap156   stress-fmri   male     NaN        3      2     7         3   \n",
       "24  ap157   stress-fmri   male     NaN        3      2     5         3   \n",
       "25  ap159   stress-fmri   male     NaN        5      3     5         4   \n",
       "26  ap160   stress-fmri   male     NaN        4      3     6         5   \n",
       "27  ap161   stress-fmri   male     NaN        3      3     7         6   \n",
       "28  ap162   stress-fmri   male     NaN        3      2     4         5   \n",
       "29  ap163   stress-fmri   male     NaN        3      2     4         3   \n",
       "30  ap165   stress-fmri   male     NaN        5      2     5         5   \n",
       "31  ap166   stress-fmri   male     NaN        5      2     5         4   \n",
       "32  ap167   stress-fmri   male     NaN        6      2     3         6   \n",
       "33  ap118  control-fmri   male     NaN        2      3     5         2   \n",
       "34  ap119  control-fmri   male     NaN        3      3     7         4   \n",
       "35  ap120  control-fmri   male     NaN        3      5     4         2   \n",
       "36  ap121  control-fmri   male     NaN        3      4     4         3   \n",
       "37  ap122  control-fmri   male     NaN        2      3     6         2   \n",
       "38  ap169   stress-fmri   male     NaN        5      2     5         4   \n",
       "39  ap170   stress-fmri   male     NaN        2      1     7         3   \n",
       "40  ap172   stress-fmri   male     NaN        4      2     4         5   \n",
       "41  ap173   stress-fmri   male     NaN        6      2     3         5   \n",
       "42  ap171   stress-fmri   male     NaN        3      3     3         4   \n",
       "43  ap158  control-fmri   male     NaN        1      3     7         1   \n",
       "44  ap168   stress-fmri   male     NaN        7      2     5         7   \n",
       "45  ap164   stress-fmri   male     NaN        6      2     3         6   \n",
       "46  ap174   stress-fmri   male     NaN        2      6     7         2   \n",
       "\n",
       "    life_stress    sleep  net_neg  neg  pos  negative  positive  \n",
       "0             4   4.5000        1  3.0  2.5       3.0       2.5  \n",
       "1             2   8.5000       -7  2.0  5.5       2.0       5.5  \n",
       "2             4   9.0000        2  4.5  3.5       4.5       3.5  \n",
       "3             2   6.5000       -4  2.0  4.0       2.0       4.0  \n",
       "4             4   8.0000       -5  3.0  5.5       3.0       5.5  \n",
       "5             3   8.0000        5  6.0  3.5       6.0       3.5  \n",
       "6             2   8.0000        1  3.0  2.5       3.0       2.5  \n",
       "7             4   6.0000        4  5.0  3.0       5.0       3.0  \n",
       "8             3   7.0000        1  3.0  2.5       3.0       2.5  \n",
       "9             4  10.0000        1  5.0  4.5       5.0       4.5  \n",
       "10            1   8.5000       -5  1.5  4.0       1.5       4.0  \n",
       "11            3   8.5000       -2  3.5  4.5       3.5       4.5  \n",
       "12            4   8.0000        2  4.5  3.5       4.5       3.5  \n",
       "13            3   8.0000       -1  3.0  3.5       3.0       3.5  \n",
       "14            6   7.0000       -8  2.0  6.0       2.0       6.0  \n",
       "15            5   8.5000       -7  2.5  6.0       2.5       6.0  \n",
       "16            4   6.5000      -10  1.0  6.0       1.0       6.0  \n",
       "17            3   7.5000        3  4.5  3.0       4.5       3.0  \n",
       "18            4   9.0000        7  5.5  2.0       5.5       2.0  \n",
       "19            3   9.0000        0  4.5  4.5       4.5       4.5  \n",
       "20            4   7.0000       -6  2.0  5.0       2.0       5.0  \n",
       "21            4   8.0000        2  5.0  4.0       5.0       4.0  \n",
       "22            2   8.0000       -6  2.5  5.5       2.5       5.5  \n",
       "23            2   9.0000       -3  3.0  4.5       3.0       4.5  \n",
       "24            3   8.0000       -1  3.0  3.5       3.0       3.5  \n",
       "25            6  12.0000        1  4.5  4.0       4.5       4.0  \n",
       "26            3   4.5000        0  4.5  4.5       4.5       4.5  \n",
       "27            5   6.0000       -1  4.5  5.0       4.5       5.0  \n",
       "28            3   7.0000        2  4.0  3.0       4.0       3.0  \n",
       "29            4   8.0000        0  3.0  3.0       3.0       3.0  \n",
       "30            2   7.5000        3  5.0  3.5       5.0       3.5  \n",
       "31            4   6.0000        2  4.5  3.5       4.5       3.5  \n",
       "32            3   9.0000        7  6.0  2.5       6.0       2.5  \n",
       "33            2   5.0000       -4  2.0  4.0       2.0       4.0  \n",
       "34            2   8.5000       -3  3.5  5.0       3.5       5.0  \n",
       "35            3   7.0000       -4  2.5  4.5       2.5       4.5  \n",
       "36            3   9.0000       -2  3.0  4.0       3.0       4.0  \n",
       "37            3   6.0000       -5  2.0  4.5       2.0       4.5  \n",
       "38            4   7.5000        2  4.5  3.5       4.5       3.5  \n",
       "39            5   6.0000       -3  2.5  4.0       2.5       4.0  \n",
       "40            6   6.0000        3  4.5  3.0       4.5       3.0  \n",
       "41            4   9.5000        6  5.5  2.5       5.5       2.5  \n",
       "42            3   7.5000        1  3.5  3.0       3.5       3.0  \n",
       "43            3   8.8333       -8  1.0  5.0       1.0       5.0  \n",
       "44            6   8.0000        7  7.0  3.5       7.0       3.5  \n",
       "45            5   9.0000        7  6.0  2.5       6.0       2.5  \n",
       "46            3   9.0000       -9  2.0  6.5       2.0       6.5  "
      ]
     },
     "execution_count": 9,
     "metadata": {},
     "output_type": "execute_result"
    }
   ],
   "source": [
    "subj_info = subj_info[pd.isnull(subj_info.remove)]\n",
    "subj_info"
   ]
  },
  {
   "cell_type": "markdown",
   "metadata": {},
   "source": [
    "### Set up filepaths & load in data"
   ]
  },
  {
   "cell_type": "code",
   "execution_count": 10,
   "metadata": {
    "collapsed": false
   },
   "outputs": [
    {
     "name": "stdout",
     "output_type": "stream",
     "text": [
      "ap100\n",
      "ap101\n",
      "ap102\n",
      "ap103\n",
      "ap104\n",
      "ap105\n",
      "ap106\n",
      "ap107\n",
      "ap108\n",
      "ap109\n",
      "ap110\n",
      "ap111\n",
      "ap113\n",
      "ap114\n",
      "ap115\n",
      "ap116\n",
      "ap117\n",
      "ap150\n",
      "ap151\n",
      "ap152\n",
      "ap153\n",
      "ap154\n",
      "ap155\n",
      "ap156\n",
      "ap157\n",
      "ap159\n",
      "ap160\n",
      "ap161\n",
      "ap162\n",
      "ap163\n",
      "ap165\n",
      "ap166\n",
      "ap167\n",
      "ap118\n",
      "ap119\n",
      "ap120\n",
      "ap121\n",
      "ap122\n",
      "ap169\n",
      "ap170\n",
      "ap172\n",
      "ap173\n",
      "ap171\n",
      "ap158\n",
      "ap168\n",
      "ap164\n",
      "ap174\n"
     ]
    }
   ],
   "source": [
    "ds = pd.DataFrame() # study\n",
    "dt = pd.DataFrame() # test\n",
    "study = True\n",
    "test = True\n",
    "questionnaires_shock  = True\n",
    "questionnaires_post  = True\n",
    "\n",
    "for subid in subj_info.subid:\n",
    "    print subid\n",
    "    \n",
    "    if study:\n",
    "        # add study file\n",
    "        study_file = op.join(dirs['datadir'], subid, subid + '_behav_study.csv')\n",
    "        d = pd.read_csv(study_file)\n",
    "        d['subid'] = subid\n",
    "        ds = ds.append(d, ignore_index=True)\n",
    "    \n",
    "    if test:\n",
    "        # add test file\n",
    "        test_file = op.join(dirs['datadir'], subid, subid + '_behav_freeresp.csv')\n",
    "        d2 = pd.read_csv(test_file)\n",
    "#         print d2.head()\n",
    "        d2['subid'] = subid\n",
    "        \n",
    "        dt = dt.append(d2, ignore_index=True)\n",
    "        \n",
    "# Compiled group data\n",
    "if questionnaires_shock:\n",
    "    q_file = op.join(dirs['basedir'], 'data/Quest/Questionnaires_shockblock_group.csv')\n",
    "    dq_shock = pd.read_csv(q_file, index_col=0)\n",
    "\n",
    "if questionnaires_post:\n",
    "    q_file = op.join(dirs['basedir'], 'data/Quest/Questionnaires_group.csv')\n",
    "    dq_post = pd.read_csv(q_file, index_col=0)\n"
   ]
  },
  {
   "cell_type": "markdown",
   "metadata": {},
   "source": [
    "#### Remove runs for some subjects"
   ]
  },
  {
   "cell_type": "code",
   "execution_count": 11,
   "metadata": {
    "collapsed": false
   },
   "outputs": [
    {
     "data": {
      "text/plain": [
       "(11789, 19)"
      ]
     },
     "execution_count": 11,
     "metadata": {},
     "output_type": "execute_result"
    }
   ],
   "source": [
    "dt.shape"
   ]
  },
  {
   "cell_type": "code",
   "execution_count": 12,
   "metadata": {
    "collapsed": true
   },
   "outputs": [],
   "source": [
    "subj106_run1 = (dt.subid == 'ap106') & (dt.run == 1) # this subj said they likely reversed responses for run 1, so remove\n",
    "dt = dt.loc[np.invert(subj106_run1),:]"
   ]
  },
  {
   "cell_type": "code",
   "execution_count": 13,
   "metadata": {
    "collapsed": false
   },
   "outputs": [
    {
     "data": {
      "text/plain": [
       "42"
      ]
     },
     "execution_count": 13,
     "metadata": {},
     "output_type": "execute_result"
    }
   ],
   "source": [
    "11789 - 11747"
   ]
  },
  {
   "cell_type": "code",
   "execution_count": 14,
   "metadata": {
    "collapsed": false
   },
   "outputs": [
    {
     "data": {
      "text/plain": [
       "(11747, 19)"
      ]
     },
     "execution_count": 14,
     "metadata": {},
     "output_type": "execute_result"
    }
   ],
   "source": [
    "dt.shape"
   ]
  },
  {
   "cell_type": "markdown",
   "metadata": {},
   "source": [
    "#### Remove some trials for beach repeats (48 trials total, 2 for 24 subs)"
   ]
  },
  {
   "cell_type": "code",
   "execution_count": 15,
   "metadata": {
    "collapsed": false
   },
   "outputs": [
    {
     "data": {
      "text/plain": [
       "(11699, 19)"
      ]
     },
     "execution_count": 15,
     "metadata": {},
     "output_type": "execute_result"
    }
   ],
   "source": [
    "data = dt.loc[dt.associate == 'beach'].groupby(['subid']).count().reset_index()\n",
    "beach_counts = dt.loc[dt.associate == 'beach'].groupby(['subid']).count().reset_index()\n",
    "sub_list = beach_counts[beach_counts.trial == 2].subid\n",
    "trials_remove = (dt.subid.isin(sub_list)) & (dt.associate == 'beach')\n",
    "dt = dt.loc[np.invert(trials_remove),:]\n",
    "dt.shape"
   ]
  },
  {
   "cell_type": "code",
   "execution_count": 16,
   "metadata": {
    "collapsed": false
   },
   "outputs": [
    {
     "data": {
      "text/plain": [
       "48"
      ]
     },
     "execution_count": 16,
     "metadata": {},
     "output_type": "execute_result"
    }
   ],
   "source": [
    "11747 - 11699"
   ]
  },
  {
   "cell_type": "markdown",
   "metadata": {},
   "source": [
    "#### Remove a couple trials from ap151 from when talking to him re: squeezeball"
   ]
  },
  {
   "cell_type": "markdown",
   "metadata": {},
   "source": [
    "Note that two preceding trials are removed for shock and shock + 1"
   ]
  },
  {
   "cell_type": "code",
   "execution_count": 17,
   "metadata": {
    "collapsed": false
   },
   "outputs": [
    {
     "data": {
      "text/plain": [
       "(11697, 19)"
      ]
     },
     "execution_count": 17,
     "metadata": {},
     "output_type": "execute_result"
    }
   ],
   "source": [
    "trials_remove = (dt.subid == 'ap151') & (dt.target.isin(['OLIVE', 'CRAB']))\n",
    "dt = dt.loc[np.invert(trials_remove),:]\n",
    "dt.shape"
   ]
  },
  {
   "cell_type": "markdown",
   "metadata": {},
   "source": [
    "#### Remove beach from ds too."
   ]
  },
  {
   "cell_type": "code",
   "execution_count": 18,
   "metadata": {
    "collapsed": false
   },
   "outputs": [
    {
     "data": {
      "text/html": [
       "<div>\n",
       "<style>\n",
       "    .dataframe thead tr:only-child th {\n",
       "        text-align: right;\n",
       "    }\n",
       "\n",
       "    .dataframe thead th {\n",
       "        text-align: left;\n",
       "    }\n",
       "\n",
       "    .dataframe tbody tr th {\n",
       "        vertical-align: top;\n",
       "    }\n",
       "</style>\n",
       "<table border=\"1\" class=\"dataframe\">\n",
       "  <thead>\n",
       "    <tr style=\"text-align: right;\">\n",
       "      <th></th>\n",
       "      <th>index</th>\n",
       "      <th>run</th>\n",
       "      <th>trial</th>\n",
       "      <th>onset</th>\n",
       "      <th>duration</th>\n",
       "      <th>cond</th>\n",
       "      <th>repType</th>\n",
       "      <th>repCount</th>\n",
       "      <th>word</th>\n",
       "      <th>pic</th>\n",
       "      <th>resp</th>\n",
       "      <th>respRT</th>\n",
       "      <th>ISIresp</th>\n",
       "      <th>ISIrespRT</th>\n",
       "      <th>subid</th>\n",
       "    </tr>\n",
       "  </thead>\n",
       "  <tbody>\n",
       "    <tr>\n",
       "      <th>0</th>\n",
       "      <td>1</td>\n",
       "      <td>1</td>\n",
       "      <td>1</td>\n",
       "      <td>10.0055</td>\n",
       "      <td>1.9951</td>\n",
       "      <td>WI</td>\n",
       "      <td>4</td>\n",
       "      <td>1</td>\n",
       "      <td>PASSPORT</td>\n",
       "      <td>dining_room</td>\n",
       "      <td>R</td>\n",
       "      <td>1.4675</td>\n",
       "      <td>NR</td>\n",
       "      <td>3.0</td>\n",
       "      <td>ap100</td>\n",
       "    </tr>\n",
       "    <tr>\n",
       "      <th>1</th>\n",
       "      <td>2</td>\n",
       "      <td>1</td>\n",
       "      <td>2</td>\n",
       "      <td>22.0640</td>\n",
       "      <td>-10.0630</td>\n",
       "      <td>WO</td>\n",
       "      <td>2</td>\n",
       "      <td>1</td>\n",
       "      <td>MANURE</td>\n",
       "      <td>canyon</td>\n",
       "      <td>R</td>\n",
       "      <td>2.2748</td>\n",
       "      <td>NR</td>\n",
       "      <td>3.0</td>\n",
       "      <td>ap100</td>\n",
       "    </tr>\n",
       "    <tr>\n",
       "      <th>2</th>\n",
       "      <td>3</td>\n",
       "      <td>1</td>\n",
       "      <td>3</td>\n",
       "      <td>34.1197</td>\n",
       "      <td>-22.1181</td>\n",
       "      <td>WI</td>\n",
       "      <td>2</td>\n",
       "      <td>1</td>\n",
       "      <td>POWDER</td>\n",
       "      <td>dentists_office</td>\n",
       "      <td>R</td>\n",
       "      <td>2.0843</td>\n",
       "      <td>NR</td>\n",
       "      <td>3.0</td>\n",
       "      <td>ap100</td>\n",
       "    </tr>\n",
       "    <tr>\n",
       "      <th>3</th>\n",
       "      <td>4</td>\n",
       "      <td>1</td>\n",
       "      <td>4</td>\n",
       "      <td>46.1764</td>\n",
       "      <td>-34.1748</td>\n",
       "      <td>WO</td>\n",
       "      <td>4</td>\n",
       "      <td>1</td>\n",
       "      <td>BANDIT</td>\n",
       "      <td>cemetery</td>\n",
       "      <td>R</td>\n",
       "      <td>1.7034</td>\n",
       "      <td>NR</td>\n",
       "      <td>3.0</td>\n",
       "      <td>ap100</td>\n",
       "    </tr>\n",
       "    <tr>\n",
       "      <th>4</th>\n",
       "      <td>5</td>\n",
       "      <td>1</td>\n",
       "      <td>5</td>\n",
       "      <td>58.2336</td>\n",
       "      <td>-46.2332</td>\n",
       "      <td>WO</td>\n",
       "      <td>4</td>\n",
       "      <td>2</td>\n",
       "      <td>BANDIT</td>\n",
       "      <td>cemetery</td>\n",
       "      <td>R</td>\n",
       "      <td>1.0503</td>\n",
       "      <td>NR</td>\n",
       "      <td>3.0</td>\n",
       "      <td>ap100</td>\n",
       "    </tr>\n",
       "  </tbody>\n",
       "</table>\n",
       "</div>"
      ],
      "text/plain": [
       "   index  run  trial    onset  duration cond  repType  repCount      word  \\\n",
       "0      1    1      1  10.0055    1.9951   WI        4         1  PASSPORT   \n",
       "1      2    1      2  22.0640  -10.0630   WO        2         1    MANURE   \n",
       "2      3    1      3  34.1197  -22.1181   WI        2         1    POWDER   \n",
       "3      4    1      4  46.1764  -34.1748   WO        4         1    BANDIT   \n",
       "4      5    1      5  58.2336  -46.2332   WO        4         2    BANDIT   \n",
       "\n",
       "               pic resp  respRT ISIresp  ISIrespRT  subid  \n",
       "0      dining_room    R  1.4675      NR        3.0  ap100  \n",
       "1           canyon    R  2.2748      NR        3.0  ap100  \n",
       "2  dentists_office    R  2.0843      NR        3.0  ap100  \n",
       "3         cemetery    R  1.7034      NR        3.0  ap100  \n",
       "4         cemetery    R  1.0503      NR        3.0  ap100  "
      ]
     },
     "execution_count": 18,
     "metadata": {},
     "output_type": "execute_result"
    }
   ],
   "source": [
    "ds.head()"
   ]
  },
  {
   "cell_type": "code",
   "execution_count": 19,
   "metadata": {
    "collapsed": false
   },
   "outputs": [
    {
     "name": "stdout",
     "output_type": "stream",
     "text": [
      "(23646, 15)\n",
      "(23502, 15)\n"
     ]
    }
   ],
   "source": [
    "print ds.shape\n",
    "sub_list = beach_counts[beach_counts.trial == 2].subid\n",
    "trials_remove = (ds.subid.isin(sub_list)) & (ds.pic == 'beach')\n",
    "ds = ds.loc[np.invert(trials_remove),:]\n",
    "print ds.shape"
   ]
  },
  {
   "cell_type": "code",
   "execution_count": 20,
   "metadata": {
    "collapsed": false
   },
   "outputs": [
    {
     "data": {
      "text/plain": [
       "144"
      ]
     },
     "execution_count": 20,
     "metadata": {},
     "output_type": "execute_result"
    }
   ],
   "source": [
    "23646 - 23502"
   ]
  },
  {
   "cell_type": "markdown",
   "metadata": {},
   "source": [
    "### Assign subid to group (pilot, control, stress) and gender (male, female)"
   ]
  },
  {
   "cell_type": "code",
   "execution_count": 21,
   "metadata": {
    "collapsed": false
   },
   "outputs": [],
   "source": [
    "ds = ds.merge(subj_info, on='subid', how='outer')\n",
    "dt = dt.merge(subj_info, on='subid', how='outer')"
   ]
  },
  {
   "cell_type": "markdown",
   "metadata": {},
   "source": [
    "### Number subjects per group"
   ]
  },
  {
   "cell_type": "code",
   "execution_count": 22,
   "metadata": {
    "collapsed": false
   },
   "outputs": [
    {
     "data": {
      "text/plain": [
       "group\n",
       "control-fmri    23\n",
       "stress-fmri     24\n",
       "Name: subid, dtype: int64"
      ]
     },
     "execution_count": 22,
     "metadata": {},
     "output_type": "execute_result"
    }
   ],
   "source": [
    "ds.groupby(['subid', 'group']).mean().reset_index().groupby('group').count().subid"
   ]
  },
  {
   "cell_type": "code",
   "execution_count": 23,
   "metadata": {
    "collapsed": false
   },
   "outputs": [
    {
     "data": {
      "text/plain": [
       "group\n",
       "control-fmri    23\n",
       "stress-fmri     24\n",
       "Name: subid, dtype: int64"
      ]
     },
     "execution_count": 23,
     "metadata": {},
     "output_type": "execute_result"
    }
   ],
   "source": [
    "dt.groupby(['subid', 'group']).mean().reset_index().groupby('group').count().subid"
   ]
  },
  {
   "cell_type": "markdown",
   "metadata": {},
   "source": [
    "#### Male counts"
   ]
  },
  {
   "cell_type": "code",
   "execution_count": 24,
   "metadata": {
    "collapsed": false
   },
   "outputs": [
    {
     "data": {
      "text/plain": [
       "group\n",
       "control-fmri    23\n",
       "stress-fmri     24\n",
       "Name: subid, dtype: int64"
      ]
     },
     "execution_count": 24,
     "metadata": {},
     "output_type": "execute_result"
    }
   ],
   "source": [
    "dt[dt.gender=='male'].groupby(['subid', 'group']).mean().reset_index().groupby('group').count().subid"
   ]
  },
  {
   "cell_type": "markdown",
   "metadata": {},
   "source": [
    "# Preprocessing"
   ]
  },
  {
   "cell_type": "markdown",
   "metadata": {},
   "source": [
    "## Study"
   ]
  },
  {
   "cell_type": "code",
   "execution_count": 25,
   "metadata": {
    "collapsed": false
   },
   "outputs": [
    {
     "data": {
      "text/html": [
       "<div>\n",
       "<style>\n",
       "    .dataframe thead tr:only-child th {\n",
       "        text-align: right;\n",
       "    }\n",
       "\n",
       "    .dataframe thead th {\n",
       "        text-align: left;\n",
       "    }\n",
       "\n",
       "    .dataframe tbody tr th {\n",
       "        vertical-align: top;\n",
       "    }\n",
       "</style>\n",
       "<table border=\"1\" class=\"dataframe\">\n",
       "  <thead>\n",
       "    <tr style=\"text-align: right;\">\n",
       "      <th></th>\n",
       "      <th>index</th>\n",
       "      <th>run</th>\n",
       "      <th>trial</th>\n",
       "      <th>onset</th>\n",
       "      <th>duration</th>\n",
       "      <th>cond</th>\n",
       "      <th>repType</th>\n",
       "      <th>repCount</th>\n",
       "      <th>word</th>\n",
       "      <th>pic</th>\n",
       "      <th>...</th>\n",
       "      <th>happy</th>\n",
       "      <th>safe</th>\n",
       "      <th>stressed</th>\n",
       "      <th>life_stress</th>\n",
       "      <th>sleep</th>\n",
       "      <th>net_neg</th>\n",
       "      <th>neg</th>\n",
       "      <th>pos</th>\n",
       "      <th>negative</th>\n",
       "      <th>positive</th>\n",
       "    </tr>\n",
       "  </thead>\n",
       "  <tbody>\n",
       "    <tr>\n",
       "      <th>0</th>\n",
       "      <td>1</td>\n",
       "      <td>1</td>\n",
       "      <td>1</td>\n",
       "      <td>10.0055</td>\n",
       "      <td>1.9951</td>\n",
       "      <td>WI</td>\n",
       "      <td>4</td>\n",
       "      <td>1</td>\n",
       "      <td>PASSPORT</td>\n",
       "      <td>dining_room</td>\n",
       "      <td>...</td>\n",
       "      <td>2</td>\n",
       "      <td>3</td>\n",
       "      <td>3</td>\n",
       "      <td>4</td>\n",
       "      <td>4.5</td>\n",
       "      <td>1</td>\n",
       "      <td>3.0</td>\n",
       "      <td>2.5</td>\n",
       "      <td>3.0</td>\n",
       "      <td>2.5</td>\n",
       "    </tr>\n",
       "    <tr>\n",
       "      <th>1</th>\n",
       "      <td>2</td>\n",
       "      <td>1</td>\n",
       "      <td>2</td>\n",
       "      <td>22.0640</td>\n",
       "      <td>-10.0630</td>\n",
       "      <td>WO</td>\n",
       "      <td>2</td>\n",
       "      <td>1</td>\n",
       "      <td>MANURE</td>\n",
       "      <td>canyon</td>\n",
       "      <td>...</td>\n",
       "      <td>2</td>\n",
       "      <td>3</td>\n",
       "      <td>3</td>\n",
       "      <td>4</td>\n",
       "      <td>4.5</td>\n",
       "      <td>1</td>\n",
       "      <td>3.0</td>\n",
       "      <td>2.5</td>\n",
       "      <td>3.0</td>\n",
       "      <td>2.5</td>\n",
       "    </tr>\n",
       "    <tr>\n",
       "      <th>2</th>\n",
       "      <td>3</td>\n",
       "      <td>1</td>\n",
       "      <td>3</td>\n",
       "      <td>34.1197</td>\n",
       "      <td>-22.1181</td>\n",
       "      <td>WI</td>\n",
       "      <td>2</td>\n",
       "      <td>1</td>\n",
       "      <td>POWDER</td>\n",
       "      <td>dentists_office</td>\n",
       "      <td>...</td>\n",
       "      <td>2</td>\n",
       "      <td>3</td>\n",
       "      <td>3</td>\n",
       "      <td>4</td>\n",
       "      <td>4.5</td>\n",
       "      <td>1</td>\n",
       "      <td>3.0</td>\n",
       "      <td>2.5</td>\n",
       "      <td>3.0</td>\n",
       "      <td>2.5</td>\n",
       "    </tr>\n",
       "    <tr>\n",
       "      <th>3</th>\n",
       "      <td>4</td>\n",
       "      <td>1</td>\n",
       "      <td>4</td>\n",
       "      <td>46.1764</td>\n",
       "      <td>-34.1748</td>\n",
       "      <td>WO</td>\n",
       "      <td>4</td>\n",
       "      <td>1</td>\n",
       "      <td>BANDIT</td>\n",
       "      <td>cemetery</td>\n",
       "      <td>...</td>\n",
       "      <td>2</td>\n",
       "      <td>3</td>\n",
       "      <td>3</td>\n",
       "      <td>4</td>\n",
       "      <td>4.5</td>\n",
       "      <td>1</td>\n",
       "      <td>3.0</td>\n",
       "      <td>2.5</td>\n",
       "      <td>3.0</td>\n",
       "      <td>2.5</td>\n",
       "    </tr>\n",
       "    <tr>\n",
       "      <th>4</th>\n",
       "      <td>5</td>\n",
       "      <td>1</td>\n",
       "      <td>5</td>\n",
       "      <td>58.2336</td>\n",
       "      <td>-46.2332</td>\n",
       "      <td>WO</td>\n",
       "      <td>4</td>\n",
       "      <td>2</td>\n",
       "      <td>BANDIT</td>\n",
       "      <td>cemetery</td>\n",
       "      <td>...</td>\n",
       "      <td>2</td>\n",
       "      <td>3</td>\n",
       "      <td>3</td>\n",
       "      <td>4</td>\n",
       "      <td>4.5</td>\n",
       "      <td>1</td>\n",
       "      <td>3.0</td>\n",
       "      <td>2.5</td>\n",
       "      <td>3.0</td>\n",
       "      <td>2.5</td>\n",
       "    </tr>\n",
       "  </tbody>\n",
       "</table>\n",
       "<p>5 rows × 29 columns</p>\n",
       "</div>"
      ],
      "text/plain": [
       "   index  run  trial    onset  duration cond  repType  repCount      word  \\\n",
       "0      1    1      1  10.0055    1.9951   WI        4         1  PASSPORT   \n",
       "1      2    1      2  22.0640  -10.0630   WO        2         1    MANURE   \n",
       "2      3    1      3  34.1197  -22.1181   WI        2         1    POWDER   \n",
       "3      4    1      4  46.1764  -34.1748   WO        4         1    BANDIT   \n",
       "4      5    1      5  58.2336  -46.2332   WO        4         2    BANDIT   \n",
       "\n",
       "               pic    ...    happy  safe stressed  life_stress sleep net_neg  \\\n",
       "0      dining_room    ...        2     3        3            4   4.5       1   \n",
       "1           canyon    ...        2     3        3            4   4.5       1   \n",
       "2  dentists_office    ...        2     3        3            4   4.5       1   \n",
       "3         cemetery    ...        2     3        3            4   4.5       1   \n",
       "4         cemetery    ...        2     3        3            4   4.5       1   \n",
       "\n",
       "   neg  pos  negative  positive  \n",
       "0  3.0  2.5       3.0       2.5  \n",
       "1  3.0  2.5       3.0       2.5  \n",
       "2  3.0  2.5       3.0       2.5  \n",
       "3  3.0  2.5       3.0       2.5  \n",
       "4  3.0  2.5       3.0       2.5  \n",
       "\n",
       "[5 rows x 29 columns]"
      ]
     },
     "execution_count": 25,
     "metadata": {},
     "output_type": "execute_result"
    }
   ],
   "source": [
    "ds.head()"
   ]
  },
  {
   "cell_type": "markdown",
   "metadata": {},
   "source": [
    "##### Deal with no responses (NR): Set ISI resp as resp, if ISI was within a second after stim-offset"
   ]
  },
  {
   "cell_type": "code",
   "execution_count": 26,
   "metadata": {
    "collapsed": false
   },
   "outputs": [
    {
     "data": {
      "text/plain": [
       "<matplotlib.axes._subplots.AxesSubplot at 0x10f67bb50>"
      ]
     },
     "execution_count": 26,
     "metadata": {},
     "output_type": "execute_result"
    },
    {
     "data": {
      "image/png": "[encoded data removed]",
      "text/plain": [
       "<matplotlib.figure.Figure at 0x10f67bcd0>"
      ]
     },
     "metadata": {},
     "output_type": "display_data"
    }
   ],
   "source": [
    "sns.distplot(ds.respRT[ds.resp != 'NR'])"
   ]
  },
  {
   "cell_type": "code",
   "execution_count": 27,
   "metadata": {
    "collapsed": false
   },
   "outputs": [
    {
     "data": {
      "text/plain": [
       "<matplotlib.axes._subplots.AxesSubplot at 0x10b5cea10>"
      ]
     },
     "execution_count": 27,
     "metadata": {},
     "output_type": "execute_result"
    },
    {
     "data": {
      "image/png": "[encoded data removed]",
      "text/plain": [
       "<matplotlib.figure.Figure at 0x10b7a9d90>"
      ]
     },
     "metadata": {},
     "output_type": "display_data"
    }
   ],
   "source": [
    "sns.distplot(ds.ISIrespRT[ds.resp == 'NR'])"
   ]
  },
  {
   "cell_type": "code",
   "execution_count": 28,
   "metadata": {
    "collapsed": false
   },
   "outputs": [
    {
     "name": "stderr",
     "output_type": "stream",
     "text": [
      "/Users/sgagnon/anaconda/lib/python2.7/site-packages/ipykernel/__main__.py:1: SettingWithCopyWarning: \n",
      "A value is trying to be set on a copy of a slice from a DataFrame\n",
      "\n",
      "See the caveats in the documentation: http://pandas.pydata.org/pandas-docs/stable/indexing.html#indexing-view-versus-copy\n",
      "  if __name__ == '__main__':\n",
      "/Users/sgagnon/anaconda/lib/python2.7/site-packages/ipykernel/__main__.py:2: SettingWithCopyWarning: \n",
      "A value is trying to be set on a copy of a slice from a DataFrame\n",
      "\n",
      "See the caveats in the documentation: http://pandas.pydata.org/pandas-docs/stable/indexing.html#indexing-view-versus-copy\n",
      "  from ipykernel import kernelapp as app\n"
     ]
    }
   ],
   "source": [
    "ds.respRT[(ds.resp == 'NR') & (ds.ISIrespRT < 4)] = ds.ISIrespRT[(ds.resp == 'NR') & (ds.ISIrespRT < 4)]\n",
    "ds.resp[(ds.resp == 'NR') & (ds.ISIrespRT < 4)] = ds.ISIresp[(ds.resp == 'NR') & (ds.ISIrespRT < 4)]"
   ]
  },
  {
   "cell_type": "code",
   "execution_count": 29,
   "metadata": {
    "collapsed": false
   },
   "outputs": [
    {
     "data": {
      "text/plain": [
       "<matplotlib.axes._subplots.AxesSubplot at 0x114cbc3d0>"
      ]
     },
     "execution_count": 29,
     "metadata": {},
     "output_type": "execute_result"
    },
    {
     "data": {
      "image/png": "[encoded data removed]",
      "text/plain": [
       "<matplotlib.figure.Figure at 0x113ede690>"
      ]
     },
     "metadata": {},
     "output_type": "display_data"
    }
   ],
   "source": [
    "sns.distplot(ds.respRT[ds.resp != 'NR'])"
   ]
  },
  {
   "cell_type": "code",
   "execution_count": 30,
   "metadata": {
    "collapsed": false
   },
   "outputs": [
    {
     "data": {
      "text/html": [
       "<div>\n",
       "<style>\n",
       "    .dataframe thead tr:only-child th {\n",
       "        text-align: right;\n",
       "    }\n",
       "\n",
       "    .dataframe thead th {\n",
       "        text-align: left;\n",
       "    }\n",
       "\n",
       "    .dataframe tbody tr th {\n",
       "        vertical-align: top;\n",
       "    }\n",
       "</style>\n",
       "<table border=\"1\" class=\"dataframe\">\n",
       "  <thead>\n",
       "    <tr style=\"text-align: right;\">\n",
       "      <th></th>\n",
       "      <th>index</th>\n",
       "      <th>run</th>\n",
       "      <th>trial</th>\n",
       "      <th>onset</th>\n",
       "      <th>duration</th>\n",
       "      <th>cond</th>\n",
       "      <th>repType</th>\n",
       "      <th>repCount</th>\n",
       "      <th>word</th>\n",
       "      <th>pic</th>\n",
       "      <th>...</th>\n",
       "      <th>happy</th>\n",
       "      <th>safe</th>\n",
       "      <th>stressed</th>\n",
       "      <th>life_stress</th>\n",
       "      <th>sleep</th>\n",
       "      <th>net_neg</th>\n",
       "      <th>neg</th>\n",
       "      <th>pos</th>\n",
       "      <th>negative</th>\n",
       "      <th>positive</th>\n",
       "    </tr>\n",
       "  </thead>\n",
       "  <tbody>\n",
       "    <tr>\n",
       "      <th>0</th>\n",
       "      <td>1</td>\n",
       "      <td>1</td>\n",
       "      <td>1</td>\n",
       "      <td>10.0055</td>\n",
       "      <td>1.9951</td>\n",
       "      <td>indoor</td>\n",
       "      <td>4</td>\n",
       "      <td>1</td>\n",
       "      <td>PASSPORT</td>\n",
       "      <td>dining_room</td>\n",
       "      <td>...</td>\n",
       "      <td>2</td>\n",
       "      <td>3</td>\n",
       "      <td>3</td>\n",
       "      <td>4</td>\n",
       "      <td>4.5</td>\n",
       "      <td>1</td>\n",
       "      <td>3.0</td>\n",
       "      <td>2.5</td>\n",
       "      <td>3.0</td>\n",
       "      <td>2.5</td>\n",
       "    </tr>\n",
       "    <tr>\n",
       "      <th>1</th>\n",
       "      <td>2</td>\n",
       "      <td>1</td>\n",
       "      <td>2</td>\n",
       "      <td>22.0640</td>\n",
       "      <td>-10.0630</td>\n",
       "      <td>outdoor</td>\n",
       "      <td>2</td>\n",
       "      <td>1</td>\n",
       "      <td>MANURE</td>\n",
       "      <td>canyon</td>\n",
       "      <td>...</td>\n",
       "      <td>2</td>\n",
       "      <td>3</td>\n",
       "      <td>3</td>\n",
       "      <td>4</td>\n",
       "      <td>4.5</td>\n",
       "      <td>1</td>\n",
       "      <td>3.0</td>\n",
       "      <td>2.5</td>\n",
       "      <td>3.0</td>\n",
       "      <td>2.5</td>\n",
       "    </tr>\n",
       "    <tr>\n",
       "      <th>2</th>\n",
       "      <td>3</td>\n",
       "      <td>1</td>\n",
       "      <td>3</td>\n",
       "      <td>34.1197</td>\n",
       "      <td>-22.1181</td>\n",
       "      <td>indoor</td>\n",
       "      <td>2</td>\n",
       "      <td>1</td>\n",
       "      <td>POWDER</td>\n",
       "      <td>dentists_office</td>\n",
       "      <td>...</td>\n",
       "      <td>2</td>\n",
       "      <td>3</td>\n",
       "      <td>3</td>\n",
       "      <td>4</td>\n",
       "      <td>4.5</td>\n",
       "      <td>1</td>\n",
       "      <td>3.0</td>\n",
       "      <td>2.5</td>\n",
       "      <td>3.0</td>\n",
       "      <td>2.5</td>\n",
       "    </tr>\n",
       "    <tr>\n",
       "      <th>3</th>\n",
       "      <td>4</td>\n",
       "      <td>1</td>\n",
       "      <td>4</td>\n",
       "      <td>46.1764</td>\n",
       "      <td>-34.1748</td>\n",
       "      <td>outdoor</td>\n",
       "      <td>4</td>\n",
       "      <td>1</td>\n",
       "      <td>BANDIT</td>\n",
       "      <td>cemetery</td>\n",
       "      <td>...</td>\n",
       "      <td>2</td>\n",
       "      <td>3</td>\n",
       "      <td>3</td>\n",
       "      <td>4</td>\n",
       "      <td>4.5</td>\n",
       "      <td>1</td>\n",
       "      <td>3.0</td>\n",
       "      <td>2.5</td>\n",
       "      <td>3.0</td>\n",
       "      <td>2.5</td>\n",
       "    </tr>\n",
       "    <tr>\n",
       "      <th>4</th>\n",
       "      <td>5</td>\n",
       "      <td>1</td>\n",
       "      <td>5</td>\n",
       "      <td>58.2336</td>\n",
       "      <td>-46.2332</td>\n",
       "      <td>outdoor</td>\n",
       "      <td>4</td>\n",
       "      <td>2</td>\n",
       "      <td>BANDIT</td>\n",
       "      <td>cemetery</td>\n",
       "      <td>...</td>\n",
       "      <td>2</td>\n",
       "      <td>3</td>\n",
       "      <td>3</td>\n",
       "      <td>4</td>\n",
       "      <td>4.5</td>\n",
       "      <td>1</td>\n",
       "      <td>3.0</td>\n",
       "      <td>2.5</td>\n",
       "      <td>3.0</td>\n",
       "      <td>2.5</td>\n",
       "    </tr>\n",
       "  </tbody>\n",
       "</table>\n",
       "<p>5 rows × 29 columns</p>\n",
       "</div>"
      ],
      "text/plain": [
       "   index  run  trial    onset  duration     cond  repType  repCount      word  \\\n",
       "0      1    1      1  10.0055    1.9951   indoor        4         1  PASSPORT   \n",
       "1      2    1      2  22.0640  -10.0630  outdoor        2         1    MANURE   \n",
       "2      3    1      3  34.1197  -22.1181   indoor        2         1    POWDER   \n",
       "3      4    1      4  46.1764  -34.1748  outdoor        4         1    BANDIT   \n",
       "4      5    1      5  58.2336  -46.2332  outdoor        4         2    BANDIT   \n",
       "\n",
       "               pic    ...    happy  safe stressed  life_stress sleep net_neg  \\\n",
       "0      dining_room    ...        2     3        3            4   4.5       1   \n",
       "1           canyon    ...        2     3        3            4   4.5       1   \n",
       "2  dentists_office    ...        2     3        3            4   4.5       1   \n",
       "3         cemetery    ...        2     3        3            4   4.5       1   \n",
       "4         cemetery    ...        2     3        3            4   4.5       1   \n",
       "\n",
       "   neg  pos  negative  positive  \n",
       "0  3.0  2.5       3.0       2.5  \n",
       "1  3.0  2.5       3.0       2.5  \n",
       "2  3.0  2.5       3.0       2.5  \n",
       "3  3.0  2.5       3.0       2.5  \n",
       "4  3.0  2.5       3.0       2.5  \n",
       "\n",
       "[5 rows x 29 columns]"
      ]
     },
     "execution_count": 30,
     "metadata": {},
     "output_type": "execute_result"
    }
   ],
   "source": [
    "ds = ds.replace(to_replace='WI', value='indoor')\n",
    "ds = ds.replace(to_replace='WO', value='outdoor')\n",
    "ds = ds.replace(to_replace='UR', value='unrelated')\n",
    "ds = ds.replace(to_replace='R', value='related')\n",
    "ds = ds.replace(to_replace='NR', value='no response')\n",
    "\n",
    "ds.head()"
   ]
  },
  {
   "cell_type": "markdown",
   "metadata": {},
   "source": [
    "## Test"
   ]
  },
  {
   "cell_type": "code",
   "execution_count": 31,
   "metadata": {
    "collapsed": false
   },
   "outputs": [
    {
     "data": {
      "text/html": [
       "<div>\n",
       "<style>\n",
       "    .dataframe thead tr:only-child th {\n",
       "        text-align: right;\n",
       "    }\n",
       "\n",
       "    .dataframe thead th {\n",
       "        text-align: left;\n",
       "    }\n",
       "\n",
       "    .dataframe tbody tr th {\n",
       "        vertical-align: top;\n",
       "    }\n",
       "</style>\n",
       "<table border=\"1\" class=\"dataframe\">\n",
       "  <thead>\n",
       "    <tr style=\"text-align: right;\">\n",
       "      <th></th>\n",
       "      <th>index</th>\n",
       "      <th>run</th>\n",
       "      <th>trial</th>\n",
       "      <th>onset</th>\n",
       "      <th>duration</th>\n",
       "      <th>cond</th>\n",
       "      <th>shockCond</th>\n",
       "      <th>shockTrial</th>\n",
       "      <th>target</th>\n",
       "      <th>associate</th>\n",
       "      <th>...</th>\n",
       "      <th>happy</th>\n",
       "      <th>safe</th>\n",
       "      <th>stressed</th>\n",
       "      <th>life_stress</th>\n",
       "      <th>sleep</th>\n",
       "      <th>net_neg</th>\n",
       "      <th>neg</th>\n",
       "      <th>pos</th>\n",
       "      <th>negative</th>\n",
       "      <th>positive</th>\n",
       "    </tr>\n",
       "  </thead>\n",
       "  <tbody>\n",
       "    <tr>\n",
       "      <th>0</th>\n",
       "      <td>1</td>\n",
       "      <td>1</td>\n",
       "      <td>1</td>\n",
       "      <td>12.0191</td>\n",
       "      <td>10.6661</td>\n",
       "      <td>TO_4</td>\n",
       "      <td>safe</td>\n",
       "      <td>0</td>\n",
       "      <td>BANDIT</td>\n",
       "      <td>cemetery</td>\n",
       "      <td>...</td>\n",
       "      <td>2</td>\n",
       "      <td>3</td>\n",
       "      <td>3</td>\n",
       "      <td>4</td>\n",
       "      <td>4.5</td>\n",
       "      <td>1</td>\n",
       "      <td>3.0</td>\n",
       "      <td>2.5</td>\n",
       "      <td>3.0</td>\n",
       "      <td>2.5</td>\n",
       "    </tr>\n",
       "    <tr>\n",
       "      <th>1</th>\n",
       "      <td>2</td>\n",
       "      <td>1</td>\n",
       "      <td>2</td>\n",
       "      <td>22.7129</td>\n",
       "      <td>9.1242</td>\n",
       "      <td>F</td>\n",
       "      <td>safe</td>\n",
       "      <td>0</td>\n",
       "      <td>WALRUS</td>\n",
       "      <td>foil</td>\n",
       "      <td>...</td>\n",
       "      <td>2</td>\n",
       "      <td>3</td>\n",
       "      <td>3</td>\n",
       "      <td>4</td>\n",
       "      <td>4.5</td>\n",
       "      <td>1</td>\n",
       "      <td>3.0</td>\n",
       "      <td>2.5</td>\n",
       "      <td>3.0</td>\n",
       "      <td>2.5</td>\n",
       "    </tr>\n",
       "    <tr>\n",
       "      <th>2</th>\n",
       "      <td>3</td>\n",
       "      <td>1</td>\n",
       "      <td>3</td>\n",
       "      <td>31.8642</td>\n",
       "      <td>9.4224</td>\n",
       "      <td>TI_2</td>\n",
       "      <td>safe</td>\n",
       "      <td>0</td>\n",
       "      <td>VIOLIN</td>\n",
       "      <td>throne_room</td>\n",
       "      <td>...</td>\n",
       "      <td>2</td>\n",
       "      <td>3</td>\n",
       "      <td>3</td>\n",
       "      <td>4</td>\n",
       "      <td>4.5</td>\n",
       "      <td>1</td>\n",
       "      <td>3.0</td>\n",
       "      <td>2.5</td>\n",
       "      <td>3.0</td>\n",
       "      <td>2.5</td>\n",
       "    </tr>\n",
       "    <tr>\n",
       "      <th>3</th>\n",
       "      <td>4</td>\n",
       "      <td>1</td>\n",
       "      <td>4</td>\n",
       "      <td>41.3132</td>\n",
       "      <td>11.3389</td>\n",
       "      <td>TO_2</td>\n",
       "      <td>safe</td>\n",
       "      <td>0</td>\n",
       "      <td>MEDAL</td>\n",
       "      <td>hayfield</td>\n",
       "      <td>...</td>\n",
       "      <td>2</td>\n",
       "      <td>3</td>\n",
       "      <td>3</td>\n",
       "      <td>4</td>\n",
       "      <td>4.5</td>\n",
       "      <td>1</td>\n",
       "      <td>3.0</td>\n",
       "      <td>2.5</td>\n",
       "      <td>3.0</td>\n",
       "      <td>2.5</td>\n",
       "    </tr>\n",
       "    <tr>\n",
       "      <th>4</th>\n",
       "      <td>5</td>\n",
       "      <td>1</td>\n",
       "      <td>5</td>\n",
       "      <td>52.6786</td>\n",
       "      <td>9.7644</td>\n",
       "      <td>TO_2</td>\n",
       "      <td>safe</td>\n",
       "      <td>0</td>\n",
       "      <td>MANURE</td>\n",
       "      <td>canyon</td>\n",
       "      <td>...</td>\n",
       "      <td>2</td>\n",
       "      <td>3</td>\n",
       "      <td>3</td>\n",
       "      <td>4</td>\n",
       "      <td>4.5</td>\n",
       "      <td>1</td>\n",
       "      <td>3.0</td>\n",
       "      <td>2.5</td>\n",
       "      <td>3.0</td>\n",
       "      <td>2.5</td>\n",
       "    </tr>\n",
       "  </tbody>\n",
       "</table>\n",
       "<p>5 rows × 33 columns</p>\n",
       "</div>"
      ],
      "text/plain": [
       "   index  run  trial    onset  duration  cond shockCond  shockTrial  target  \\\n",
       "0      1    1      1  12.0191   10.6661  TO_4      safe           0  BANDIT   \n",
       "1      2    1      2  22.7129    9.1242     F      safe           0  WALRUS   \n",
       "2      3    1      3  31.8642    9.4224  TI_2      safe           0  VIOLIN   \n",
       "3      4    1      4  41.3132   11.3389  TO_2      safe           0   MEDAL   \n",
       "4      5    1      5  52.6786    9.7644  TO_2      safe           0  MANURE   \n",
       "\n",
       "     associate   ...    happy safe stressed  life_stress sleep net_neg  neg  \\\n",
       "0     cemetery   ...        2    3        3            4   4.5       1  3.0   \n",
       "1         foil   ...        2    3        3            4   4.5       1  3.0   \n",
       "2  throne_room   ...        2    3        3            4   4.5       1  3.0   \n",
       "3     hayfield   ...        2    3        3            4   4.5       1  3.0   \n",
       "4       canyon   ...        2    3        3            4   4.5       1  3.0   \n",
       "\n",
       "   pos negative positive  \n",
       "0  2.5      3.0      2.5  \n",
       "1  2.5      3.0      2.5  \n",
       "2  2.5      3.0      2.5  \n",
       "3  2.5      3.0      2.5  \n",
       "4  2.5      3.0      2.5  \n",
       "\n",
       "[5 rows x 33 columns]"
      ]
     },
     "execution_count": 31,
     "metadata": {},
     "output_type": "execute_result"
    }
   ],
   "source": [
    "dt.head()"
   ]
  },
  {
   "cell_type": "markdown",
   "metadata": {},
   "source": [
    "#### Distribution of RTs during ITI"
   ]
  },
  {
   "cell_type": "code",
   "execution_count": 32,
   "metadata": {
    "collapsed": false
   },
   "outputs": [
    {
     "data": {
      "text/plain": [
       "<matplotlib.axes._subplots.AxesSubplot at 0x113e6c390>"
      ]
     },
     "execution_count": 32,
     "metadata": {},
     "output_type": "execute_result"
    },
    {
     "data": {
      "image/png": "[encoded data removed]",
      "text/plain": [
       "<matplotlib.figure.Figure at 0x113e36290>"
      ]
     },
     "metadata": {},
     "output_type": "display_data"
    }
   ],
   "source": [
    "sns.distplot(dt.ISIrespRT[(dt.ISIresp != 'NR')] + 4)"
   ]
  },
  {
   "cell_type": "code",
   "execution_count": 33,
   "metadata": {
    "collapsed": false
   },
   "outputs": [
    {
     "name": "stderr",
     "output_type": "stream",
     "text": [
      "/Users/sgagnon/anaconda/lib/python2.7/site-packages/ipykernel/__main__.py:7: SettingWithCopyWarning: \n",
      "A value is trying to be set on a copy of a slice from a DataFrame\n",
      "\n",
      "See the caveats in the documentation: http://pandas.pydata.org/pandas-docs/stable/indexing.html#indexing-view-versus-copy\n",
      "/Users/sgagnon/anaconda/lib/python2.7/site-packages/ipykernel/__main__.py:11: SettingWithCopyWarning: \n",
      "A value is trying to be set on a copy of a slice from a DataFrame\n",
      "\n",
      "See the caveats in the documentation: http://pandas.pydata.org/pandas-docs/stable/indexing.html#indexing-view-versus-copy\n",
      "/Users/sgagnon/anaconda/lib/python2.7/site-packages/ipykernel/__main__.py:12: SettingWithCopyWarning: \n",
      "A value is trying to be set on a copy of a slice from a DataFrame\n",
      "\n",
      "See the caveats in the documentation: http://pandas.pydata.org/pandas-docs/stable/indexing.html#indexing-view-versus-copy\n",
      "/Users/sgagnon/anaconda/lib/python2.7/site-packages/ipykernel/__main__.py:13: SettingWithCopyWarning: \n",
      "A value is trying to be set on a copy of a slice from a DataFrame\n",
      "\n",
      "See the caveats in the documentation: http://pandas.pydata.org/pandas-docs/stable/indexing.html#indexing-view-versus-copy\n"
     ]
    },
    {
     "name": "stdout",
     "output_type": "stream",
     "text": [
      "set([0, 1])\n"
     ]
    },
    {
     "name": "stderr",
     "output_type": "stream",
     "text": [
      "/Users/sgagnon/anaconda/lib/python2.7/site-packages/ipykernel/__main__.py:14: SettingWithCopyWarning: \n",
      "A value is trying to be set on a copy of a slice from a DataFrame\n",
      "\n",
      "See the caveats in the documentation: http://pandas.pydata.org/pandas-docs/stable/indexing.html#indexing-view-versus-copy\n",
      "/Users/sgagnon/anaconda/lib/python2.7/site-packages/ipykernel/__main__.py:26: SettingWithCopyWarning: \n",
      "A value is trying to be set on a copy of a slice from a DataFrame\n",
      "\n",
      "See the caveats in the documentation: http://pandas.pydata.org/pandas-docs/stable/indexing.html#indexing-view-versus-copy\n",
      "/Users/sgagnon/anaconda/lib/python2.7/site-packages/ipykernel/__main__.py:27: DeprecationWarning: \n",
      ".ix is deprecated. Please use\n",
      ".loc for label based indexing or\n",
      ".iloc for positional indexing\n",
      "\n",
      "See the documentation here:\n",
      "http://pandas.pydata.org/pandas-docs/stable/indexing.html#deprecate_ix\n"
     ]
    },
    {
     "data": {
      "text/html": [
       "<div>\n",
       "<style>\n",
       "    .dataframe thead tr:only-child th {\n",
       "        text-align: right;\n",
       "    }\n",
       "\n",
       "    .dataframe thead th {\n",
       "        text-align: left;\n",
       "    }\n",
       "\n",
       "    .dataframe tbody tr th {\n",
       "        vertical-align: top;\n",
       "    }\n",
       "</style>\n",
       "<table border=\"1\" class=\"dataframe\">\n",
       "  <thead>\n",
       "    <tr style=\"text-align: right;\">\n",
       "      <th></th>\n",
       "      <th>run</th>\n",
       "      <th>trial</th>\n",
       "      <th>onset</th>\n",
       "      <th>duration</th>\n",
       "      <th>shockCond</th>\n",
       "      <th>target</th>\n",
       "      <th>associate</th>\n",
       "      <th>resp</th>\n",
       "      <th>acc</th>\n",
       "      <th>accSpec</th>\n",
       "      <th>...</th>\n",
       "      <th>life_stress</th>\n",
       "      <th>sleep</th>\n",
       "      <th>net_neg</th>\n",
       "      <th>neg</th>\n",
       "      <th>pos</th>\n",
       "      <th>negative</th>\n",
       "      <th>positive</th>\n",
       "      <th>cond_orig</th>\n",
       "      <th>cond</th>\n",
       "      <th>reps</th>\n",
       "    </tr>\n",
       "  </thead>\n",
       "  <tbody>\n",
       "    <tr>\n",
       "      <th>0</th>\n",
       "      <td>1</td>\n",
       "      <td>1</td>\n",
       "      <td>12.0191</td>\n",
       "      <td>10.6661</td>\n",
       "      <td>safe</td>\n",
       "      <td>BANDIT</td>\n",
       "      <td>cemetery</td>\n",
       "      <td>TI</td>\n",
       "      <td>SM</td>\n",
       "      <td>SMO_Hi</td>\n",
       "      <td>...</td>\n",
       "      <td>4</td>\n",
       "      <td>4.5</td>\n",
       "      <td>1</td>\n",
       "      <td>3.0</td>\n",
       "      <td>2.5</td>\n",
       "      <td>3.0</td>\n",
       "      <td>2.5</td>\n",
       "      <td>TO_4</td>\n",
       "      <td>TO</td>\n",
       "      <td>4</td>\n",
       "    </tr>\n",
       "    <tr>\n",
       "      <th>1</th>\n",
       "      <td>1</td>\n",
       "      <td>2</td>\n",
       "      <td>22.7129</td>\n",
       "      <td>9.1242</td>\n",
       "      <td>safe</td>\n",
       "      <td>WALRUS</td>\n",
       "      <td>foil</td>\n",
       "      <td>F</td>\n",
       "      <td>CR</td>\n",
       "      <td>CR</td>\n",
       "      <td>...</td>\n",
       "      <td>4</td>\n",
       "      <td>4.5</td>\n",
       "      <td>1</td>\n",
       "      <td>3.0</td>\n",
       "      <td>2.5</td>\n",
       "      <td>3.0</td>\n",
       "      <td>2.5</td>\n",
       "      <td>F_0</td>\n",
       "      <td>F</td>\n",
       "      <td>0</td>\n",
       "    </tr>\n",
       "    <tr>\n",
       "      <th>2</th>\n",
       "      <td>1</td>\n",
       "      <td>3</td>\n",
       "      <td>31.8642</td>\n",
       "      <td>9.4224</td>\n",
       "      <td>safe</td>\n",
       "      <td>VIOLIN</td>\n",
       "      <td>throne_room</td>\n",
       "      <td>TI</td>\n",
       "      <td>H</td>\n",
       "      <td>HI_Hi</td>\n",
       "      <td>...</td>\n",
       "      <td>4</td>\n",
       "      <td>4.5</td>\n",
       "      <td>1</td>\n",
       "      <td>3.0</td>\n",
       "      <td>2.5</td>\n",
       "      <td>3.0</td>\n",
       "      <td>2.5</td>\n",
       "      <td>TI_2</td>\n",
       "      <td>TI</td>\n",
       "      <td>2</td>\n",
       "    </tr>\n",
       "    <tr>\n",
       "      <th>3</th>\n",
       "      <td>1</td>\n",
       "      <td>4</td>\n",
       "      <td>41.3132</td>\n",
       "      <td>11.3389</td>\n",
       "      <td>safe</td>\n",
       "      <td>MEDAL</td>\n",
       "      <td>hayfield</td>\n",
       "      <td>TO</td>\n",
       "      <td>H</td>\n",
       "      <td>HO_Hi</td>\n",
       "      <td>...</td>\n",
       "      <td>4</td>\n",
       "      <td>4.5</td>\n",
       "      <td>1</td>\n",
       "      <td>3.0</td>\n",
       "      <td>2.5</td>\n",
       "      <td>3.0</td>\n",
       "      <td>2.5</td>\n",
       "      <td>TO_2</td>\n",
       "      <td>TO</td>\n",
       "      <td>2</td>\n",
       "    </tr>\n",
       "    <tr>\n",
       "      <th>4</th>\n",
       "      <td>1</td>\n",
       "      <td>5</td>\n",
       "      <td>52.6786</td>\n",
       "      <td>9.7644</td>\n",
       "      <td>safe</td>\n",
       "      <td>MANURE</td>\n",
       "      <td>canyon</td>\n",
       "      <td>TO</td>\n",
       "      <td>H</td>\n",
       "      <td>HO_Hi</td>\n",
       "      <td>...</td>\n",
       "      <td>4</td>\n",
       "      <td>4.5</td>\n",
       "      <td>1</td>\n",
       "      <td>3.0</td>\n",
       "      <td>2.5</td>\n",
       "      <td>3.0</td>\n",
       "      <td>2.5</td>\n",
       "      <td>TO_2</td>\n",
       "      <td>TO</td>\n",
       "      <td>2</td>\n",
       "    </tr>\n",
       "  </tbody>\n",
       "</table>\n",
       "<p>5 rows × 29 columns</p>\n",
       "</div>"
      ],
      "text/plain": [
       "   run  trial    onset  duration shockCond  target    associate resp acc  \\\n",
       "0    1      1  12.0191   10.6661      safe  BANDIT     cemetery   TI  SM   \n",
       "1    1      2  22.7129    9.1242      safe  WALRUS         foil    F  CR   \n",
       "2    1      3  31.8642    9.4224      safe  VIOLIN  throne_room   TI   H   \n",
       "3    1      4  41.3132   11.3389      safe   MEDAL     hayfield   TO   H   \n",
       "4    1      5  52.6786    9.7644      safe  MANURE       canyon   TO   H   \n",
       "\n",
       "  accSpec  ...   life_stress sleep net_neg  neg  pos  negative  positive  \\\n",
       "0  SMO_Hi  ...             4   4.5       1  3.0  2.5       3.0       2.5   \n",
       "1      CR  ...             4   4.5       1  3.0  2.5       3.0       2.5   \n",
       "2   HI_Hi  ...             4   4.5       1  3.0  2.5       3.0       2.5   \n",
       "3   HO_Hi  ...             4   4.5       1  3.0  2.5       3.0       2.5   \n",
       "4   HO_Hi  ...             4   4.5       1  3.0  2.5       3.0       2.5   \n",
       "\n",
       "   cond_orig  cond  reps  \n",
       "0       TO_4    TO     4  \n",
       "1        F_0     F     0  \n",
       "2       TI_2    TI     2  \n",
       "3       TO_2    TO     2  \n",
       "4       TO_2    TO     2  \n",
       "\n",
       "[5 rows x 29 columns]"
      ]
     },
     "execution_count": 33,
     "metadata": {},
     "output_type": "execute_result"
    }
   ],
   "source": [
    "# drop this column so join function doesn't get confused\n",
    "dt = dt.drop('index',1)\n",
    "\n",
    "# Split cond to condition and reps\n",
    "dt['cond_orig'] = dt['cond']\n",
    "dt = dt.drop('cond', 1)\n",
    "dt.cond_orig[dt.cond_orig == 'F'] = 'F_0'\n",
    "dt = dt.join(pd.DataFrame(dt.cond_orig.str.split('_').tolist(), columns= ['cond', 'reps']))\n",
    "\n",
    "#Replace no responses with ISI responses, update RT (change resp last), but only if ISI within a sec after offset\n",
    "dt.respRT[(dt.resp == 'NR') & (dt.ISIrespRT < 1)] = dt.ISIrespRT[(dt.resp == 'NR') & (dt.ISIrespRT < 1)] + 4\n",
    "dt.acc[(dt.resp == 'NR') & (dt.ISIrespRT < 1)] = dt.ISIacc[(dt.resp == 'NR') & (dt.ISIrespRT < 1)]\n",
    "dt.accSpec[(dt.resp == 'NR') & (dt.ISIrespRT < 1)] = dt.ISIaccSpec[(dt.resp == 'NR') & (dt.ISIrespRT < 1)]\n",
    "dt.resp[(dt.resp == 'NR') & (dt.ISIrespRT < 1)] = dt.ISIresp[(dt.resp == 'NR') & (dt.ISIrespRT < 1)]\n",
    "\n",
    "drop_cols = ['ISIrespRT', 'ISIresp', 'ISIacc', 'ISIaccSpec']\n",
    "for drop_col in drop_cols:\n",
    "    dt = dt.drop(drop_col,1)\n",
    "\n",
    "# Remove shock and post shock trials\n",
    "shockTrials = pd.Series(dt.shockTrial)\n",
    "lagged = shockTrials.shift(1) # shift forward one\n",
    "combined = lagged + shockTrials\n",
    "\n",
    "dt['shock_and_post'] = combined # merged; shock and post shock = 1\n",
    "dt.shock_and_post[0] = dt.shockTrial[0] # first trial = first trial since no prev\n",
    "dt.ix[dt.group == 'control-fmri', 'shock_and_post'] = 0 # set controls to 0\n",
    "dt.ix[dt.shockCond == 'safe', 'shock_and_post'] = 0 # set safe cond to 0\n",
    "\n",
    "dt = dt.query('shock_and_post < 1') #remove trials\n",
    "print set(dt.shockTrial) # confirm that it worked; shockTrial = 0 only (1s for controls/safe)\n",
    "dt = dt.drop('shockTrial',1)\n",
    "dt = dt.drop('shock_and_post',1)\n",
    "\n",
    "# reset index post removing shock trials\n",
    "dt = dt.reset_index()\n",
    "dt = dt.drop('index',1)\n",
    "\n",
    "dt.head()"
   ]
  },
  {
   "cell_type": "code",
   "execution_count": 34,
   "metadata": {
    "collapsed": false
   },
   "outputs": [
    {
     "data": {
      "text/plain": [
       "<matplotlib.axes._subplots.AxesSubplot at 0x103a71a10>"
      ]
     },
     "execution_count": 34,
     "metadata": {},
     "output_type": "execute_result"
    },
    {
     "data": {
      "image/png": "[encoded data removed]",
      "text/plain": [
       "<matplotlib.figure.Figure at 0x10b668410>"
      ]
     },
     "metadata": {},
     "output_type": "display_data"
    }
   ],
   "source": [
    "sns.distplot(dt.respRT[(dt.resp != 'NR')])"
   ]
  },
  {
   "cell_type": "code",
   "execution_count": 35,
   "metadata": {
    "collapsed": false
   },
   "outputs": [],
   "source": [
    "dt = dt.replace(to_replace='TI', value='indoor')\n",
    "dt = dt.replace(to_replace='TO', value='outdoor')\n",
    "dt = dt.replace(to_replace='F', value='foil')\n",
    "dt = dt.replace(to_replace='NR', value='no response')"
   ]
  },
  {
   "cell_type": "code",
   "execution_count": 36,
   "metadata": {
    "collapsed": false
   },
   "outputs": [
    {
     "name": "stderr",
     "output_type": "stream",
     "text": [
      "/Users/sgagnon/anaconda/lib/python2.7/site-packages/ipykernel/__main__.py:3: SettingWithCopyWarning: \n",
      "A value is trying to be set on a copy of a slice from a DataFrame\n",
      "\n",
      "See the caveats in the documentation: http://pandas.pydata.org/pandas-docs/stable/indexing.html#indexing-view-versus-copy\n",
      "  app.launch_new_instance()\n",
      "/Users/sgagnon/anaconda/lib/python2.7/site-packages/ipykernel/__main__.py:4: SettingWithCopyWarning: \n",
      "A value is trying to be set on a copy of a slice from a DataFrame\n",
      "\n",
      "See the caveats in the documentation: http://pandas.pydata.org/pandas-docs/stable/indexing.html#indexing-view-versus-copy\n",
      "/Users/sgagnon/anaconda/lib/python2.7/site-packages/ipykernel/__main__.py:5: SettingWithCopyWarning: \n",
      "A value is trying to be set on a copy of a slice from a DataFrame\n",
      "\n",
      "See the caveats in the documentation: http://pandas.pydata.org/pandas-docs/stable/indexing.html#indexing-view-versus-copy\n"
     ]
    },
    {
     "data": {
      "text/html": [
       "<div>\n",
       "<style>\n",
       "    .dataframe thead tr:only-child th {\n",
       "        text-align: right;\n",
       "    }\n",
       "\n",
       "    .dataframe thead th {\n",
       "        text-align: left;\n",
       "    }\n",
       "\n",
       "    .dataframe tbody tr th {\n",
       "        vertical-align: top;\n",
       "    }\n",
       "</style>\n",
       "<table border=\"1\" class=\"dataframe\">\n",
       "  <thead>\n",
       "    <tr style=\"text-align: right;\">\n",
       "      <th></th>\n",
       "      <th>run</th>\n",
       "      <th>trial</th>\n",
       "      <th>onset</th>\n",
       "      <th>duration</th>\n",
       "      <th>shockCond</th>\n",
       "      <th>target</th>\n",
       "      <th>associate</th>\n",
       "      <th>resp</th>\n",
       "      <th>acc</th>\n",
       "      <th>accSpec</th>\n",
       "      <th>...</th>\n",
       "      <th>sleep</th>\n",
       "      <th>net_neg</th>\n",
       "      <th>neg</th>\n",
       "      <th>pos</th>\n",
       "      <th>negative</th>\n",
       "      <th>positive</th>\n",
       "      <th>cond_orig</th>\n",
       "      <th>cond</th>\n",
       "      <th>reps</th>\n",
       "      <th>conf</th>\n",
       "    </tr>\n",
       "  </thead>\n",
       "  <tbody>\n",
       "    <tr>\n",
       "      <th>0</th>\n",
       "      <td>1</td>\n",
       "      <td>1</td>\n",
       "      <td>12.0191</td>\n",
       "      <td>10.6661</td>\n",
       "      <td>safe</td>\n",
       "      <td>BANDIT</td>\n",
       "      <td>cemetery</td>\n",
       "      <td>indoor</td>\n",
       "      <td>SM</td>\n",
       "      <td>SMO_Hi</td>\n",
       "      <td>...</td>\n",
       "      <td>4.5</td>\n",
       "      <td>1</td>\n",
       "      <td>3.0</td>\n",
       "      <td>2.5</td>\n",
       "      <td>3.0</td>\n",
       "      <td>2.5</td>\n",
       "      <td>TO_4</td>\n",
       "      <td>outdoor</td>\n",
       "      <td>4</td>\n",
       "      <td>Hi</td>\n",
       "    </tr>\n",
       "    <tr>\n",
       "      <th>1</th>\n",
       "      <td>1</td>\n",
       "      <td>2</td>\n",
       "      <td>22.7129</td>\n",
       "      <td>9.1242</td>\n",
       "      <td>safe</td>\n",
       "      <td>WALRUS</td>\n",
       "      <td>foil</td>\n",
       "      <td>foil</td>\n",
       "      <td>CR</td>\n",
       "      <td>CR</td>\n",
       "      <td>...</td>\n",
       "      <td>4.5</td>\n",
       "      <td>1</td>\n",
       "      <td>3.0</td>\n",
       "      <td>2.5</td>\n",
       "      <td>3.0</td>\n",
       "      <td>2.5</td>\n",
       "      <td>F_0</td>\n",
       "      <td>foil</td>\n",
       "      <td>0</td>\n",
       "      <td>N</td>\n",
       "    </tr>\n",
       "    <tr>\n",
       "      <th>2</th>\n",
       "      <td>1</td>\n",
       "      <td>3</td>\n",
       "      <td>31.8642</td>\n",
       "      <td>9.4224</td>\n",
       "      <td>safe</td>\n",
       "      <td>VIOLIN</td>\n",
       "      <td>throne_room</td>\n",
       "      <td>indoor</td>\n",
       "      <td>H</td>\n",
       "      <td>HI_Hi</td>\n",
       "      <td>...</td>\n",
       "      <td>4.5</td>\n",
       "      <td>1</td>\n",
       "      <td>3.0</td>\n",
       "      <td>2.5</td>\n",
       "      <td>3.0</td>\n",
       "      <td>2.5</td>\n",
       "      <td>TI_2</td>\n",
       "      <td>indoor</td>\n",
       "      <td>2</td>\n",
       "      <td>Hi</td>\n",
       "    </tr>\n",
       "    <tr>\n",
       "      <th>3</th>\n",
       "      <td>1</td>\n",
       "      <td>4</td>\n",
       "      <td>41.3132</td>\n",
       "      <td>11.3389</td>\n",
       "      <td>safe</td>\n",
       "      <td>MEDAL</td>\n",
       "      <td>hayfield</td>\n",
       "      <td>outdoor</td>\n",
       "      <td>H</td>\n",
       "      <td>HO_Hi</td>\n",
       "      <td>...</td>\n",
       "      <td>4.5</td>\n",
       "      <td>1</td>\n",
       "      <td>3.0</td>\n",
       "      <td>2.5</td>\n",
       "      <td>3.0</td>\n",
       "      <td>2.5</td>\n",
       "      <td>TO_2</td>\n",
       "      <td>outdoor</td>\n",
       "      <td>2</td>\n",
       "      <td>Hi</td>\n",
       "    </tr>\n",
       "    <tr>\n",
       "      <th>4</th>\n",
       "      <td>1</td>\n",
       "      <td>5</td>\n",
       "      <td>52.6786</td>\n",
       "      <td>9.7644</td>\n",
       "      <td>safe</td>\n",
       "      <td>MANURE</td>\n",
       "      <td>canyon</td>\n",
       "      <td>outdoor</td>\n",
       "      <td>H</td>\n",
       "      <td>HO_Hi</td>\n",
       "      <td>...</td>\n",
       "      <td>4.5</td>\n",
       "      <td>1</td>\n",
       "      <td>3.0</td>\n",
       "      <td>2.5</td>\n",
       "      <td>3.0</td>\n",
       "      <td>2.5</td>\n",
       "      <td>TO_2</td>\n",
       "      <td>outdoor</td>\n",
       "      <td>2</td>\n",
       "      <td>Hi</td>\n",
       "    </tr>\n",
       "  </tbody>\n",
       "</table>\n",
       "<p>5 rows × 30 columns</p>\n",
       "</div>"
      ],
      "text/plain": [
       "   run  trial    onset  duration shockCond  target    associate     resp acc  \\\n",
       "0    1      1  12.0191   10.6661      safe  BANDIT     cemetery   indoor  SM   \n",
       "1    1      2  22.7129    9.1242      safe  WALRUS         foil     foil  CR   \n",
       "2    1      3  31.8642    9.4224      safe  VIOLIN  throne_room   indoor   H   \n",
       "3    1      4  41.3132   11.3389      safe   MEDAL     hayfield  outdoor   H   \n",
       "4    1      5  52.6786    9.7644      safe  MANURE       canyon  outdoor   H   \n",
       "\n",
       "  accSpec  ...   sleep net_neg  neg  pos  negative  positive  cond_orig  \\\n",
       "0  SMO_Hi  ...     4.5       1  3.0  2.5       3.0       2.5       TO_4   \n",
       "1      CR  ...     4.5       1  3.0  2.5       3.0       2.5        F_0   \n",
       "2   HI_Hi  ...     4.5       1  3.0  2.5       3.0       2.5       TI_2   \n",
       "3   HO_Hi  ...     4.5       1  3.0  2.5       3.0       2.5       TO_2   \n",
       "4   HO_Hi  ...     4.5       1  3.0  2.5       3.0       2.5       TO_2   \n",
       "\n",
       "      cond  reps  conf  \n",
       "0  outdoor     4    Hi  \n",
       "1     foil     0     N  \n",
       "2   indoor     2    Hi  \n",
       "3  outdoor     2    Hi  \n",
       "4  outdoor     2    Hi  \n",
       "\n",
       "[5 rows x 30 columns]"
      ]
     },
     "execution_count": 36,
     "metadata": {},
     "output_type": "execute_result"
    }
   ],
   "source": [
    "# Convert accSpec to acc, split to col for Confidence\n",
    "dt['accSpec_tosplit'] = dt['accSpec']\n",
    "dt.accSpec_tosplit[dt.accSpec_tosplit == 'CR'] = 'CR_N'\n",
    "dt.accSpec_tosplit[dt.accSpec_tosplit == 'MI'] = 'MI_N'\n",
    "dt.accSpec_tosplit[dt.accSpec_tosplit == 'no response'] = 'no response_N'\n",
    "dt = dt.join(pd.DataFrame(dt.accSpec_tosplit.str.split('_').tolist(), \n",
    "                          columns= ['accSpec2', 'conf']))\n",
    "\n",
    "# clear out the unneeded cols\n",
    "dt = dt.drop('accSpec2',1)\n",
    "dt = dt.drop('accSpec_tosplit',1)\n",
    "\n",
    "dt.head()"
   ]
  },
  {
   "cell_type": "code",
   "execution_count": 37,
   "metadata": {
    "collapsed": false
   },
   "outputs": [
    {
     "name": "stderr",
     "output_type": "stream",
     "text": [
      "/Users/sgagnon/anaconda/lib/python2.7/site-packages/ipykernel/__main__.py:2: SettingWithCopyWarning: \n",
      "A value is trying to be set on a copy of a slice from a DataFrame\n",
      "\n",
      "See the caveats in the documentation: http://pandas.pydata.org/pandas-docs/stable/indexing.html#indexing-view-versus-copy\n",
      "  from ipykernel import kernelapp as app\n",
      "/Users/sgagnon/anaconda/lib/python2.7/site-packages/ipykernel/__main__.py:3: SettingWithCopyWarning: \n",
      "A value is trying to be set on a copy of a slice from a DataFrame\n",
      "\n",
      "See the caveats in the documentation: http://pandas.pydata.org/pandas-docs/stable/indexing.html#indexing-view-versus-copy\n",
      "  app.launch_new_instance()\n"
     ]
    }
   ],
   "source": [
    "dt.group2 = dt.group\n",
    "dt.group2[dt.group2 == 'control'] = 'control-behav'\n",
    "dt.group2[dt.group2 == 'stress'] = 'stress-behav'\n",
    "dt = dt.join(pd.DataFrame(dt.group2.str.split('-').tolist(), columns= ['stress_group', 'modality']))"
   ]
  },
  {
   "cell_type": "code",
   "execution_count": 38,
   "metadata": {
    "collapsed": false
   },
   "outputs": [
    {
     "data": {
      "text/html": [
       "<div>\n",
       "<style>\n",
       "    .dataframe thead tr:only-child th {\n",
       "        text-align: right;\n",
       "    }\n",
       "\n",
       "    .dataframe thead th {\n",
       "        text-align: left;\n",
       "    }\n",
       "\n",
       "    .dataframe tbody tr th {\n",
       "        vertical-align: top;\n",
       "    }\n",
       "</style>\n",
       "<table border=\"1\" class=\"dataframe\">\n",
       "  <thead>\n",
       "    <tr style=\"text-align: right;\">\n",
       "      <th></th>\n",
       "      <th>run</th>\n",
       "      <th>trial</th>\n",
       "      <th>onset</th>\n",
       "      <th>duration</th>\n",
       "      <th>shockCond</th>\n",
       "      <th>target</th>\n",
       "      <th>associate</th>\n",
       "      <th>resp</th>\n",
       "      <th>acc</th>\n",
       "      <th>accSpec</th>\n",
       "      <th>...</th>\n",
       "      <th>neg</th>\n",
       "      <th>pos</th>\n",
       "      <th>negative</th>\n",
       "      <th>positive</th>\n",
       "      <th>cond_orig</th>\n",
       "      <th>cond</th>\n",
       "      <th>reps</th>\n",
       "      <th>conf</th>\n",
       "      <th>stress_group</th>\n",
       "      <th>modality</th>\n",
       "    </tr>\n",
       "  </thead>\n",
       "  <tbody>\n",
       "    <tr>\n",
       "      <th>0</th>\n",
       "      <td>1</td>\n",
       "      <td>1</td>\n",
       "      <td>12.0191</td>\n",
       "      <td>10.6661</td>\n",
       "      <td>safe</td>\n",
       "      <td>BANDIT</td>\n",
       "      <td>cemetery</td>\n",
       "      <td>indoor</td>\n",
       "      <td>SM</td>\n",
       "      <td>SMO_Hi</td>\n",
       "      <td>...</td>\n",
       "      <td>3.0</td>\n",
       "      <td>2.5</td>\n",
       "      <td>3.0</td>\n",
       "      <td>2.5</td>\n",
       "      <td>TO_4</td>\n",
       "      <td>outdoor</td>\n",
       "      <td>4</td>\n",
       "      <td>Hi</td>\n",
       "      <td>control</td>\n",
       "      <td>fmri</td>\n",
       "    </tr>\n",
       "    <tr>\n",
       "      <th>1</th>\n",
       "      <td>1</td>\n",
       "      <td>2</td>\n",
       "      <td>22.7129</td>\n",
       "      <td>9.1242</td>\n",
       "      <td>safe</td>\n",
       "      <td>WALRUS</td>\n",
       "      <td>foil</td>\n",
       "      <td>foil</td>\n",
       "      <td>CR</td>\n",
       "      <td>CR</td>\n",
       "      <td>...</td>\n",
       "      <td>3.0</td>\n",
       "      <td>2.5</td>\n",
       "      <td>3.0</td>\n",
       "      <td>2.5</td>\n",
       "      <td>F_0</td>\n",
       "      <td>foil</td>\n",
       "      <td>0</td>\n",
       "      <td>N</td>\n",
       "      <td>control</td>\n",
       "      <td>fmri</td>\n",
       "    </tr>\n",
       "    <tr>\n",
       "      <th>2</th>\n",
       "      <td>1</td>\n",
       "      <td>3</td>\n",
       "      <td>31.8642</td>\n",
       "      <td>9.4224</td>\n",
       "      <td>safe</td>\n",
       "      <td>VIOLIN</td>\n",
       "      <td>throne_room</td>\n",
       "      <td>indoor</td>\n",
       "      <td>H</td>\n",
       "      <td>HI_Hi</td>\n",
       "      <td>...</td>\n",
       "      <td>3.0</td>\n",
       "      <td>2.5</td>\n",
       "      <td>3.0</td>\n",
       "      <td>2.5</td>\n",
       "      <td>TI_2</td>\n",
       "      <td>indoor</td>\n",
       "      <td>2</td>\n",
       "      <td>Hi</td>\n",
       "      <td>control</td>\n",
       "      <td>fmri</td>\n",
       "    </tr>\n",
       "    <tr>\n",
       "      <th>3</th>\n",
       "      <td>1</td>\n",
       "      <td>4</td>\n",
       "      <td>41.3132</td>\n",
       "      <td>11.3389</td>\n",
       "      <td>safe</td>\n",
       "      <td>MEDAL</td>\n",
       "      <td>hayfield</td>\n",
       "      <td>outdoor</td>\n",
       "      <td>H</td>\n",
       "      <td>HO_Hi</td>\n",
       "      <td>...</td>\n",
       "      <td>3.0</td>\n",
       "      <td>2.5</td>\n",
       "      <td>3.0</td>\n",
       "      <td>2.5</td>\n",
       "      <td>TO_2</td>\n",
       "      <td>outdoor</td>\n",
       "      <td>2</td>\n",
       "      <td>Hi</td>\n",
       "      <td>control</td>\n",
       "      <td>fmri</td>\n",
       "    </tr>\n",
       "    <tr>\n",
       "      <th>4</th>\n",
       "      <td>1</td>\n",
       "      <td>5</td>\n",
       "      <td>52.6786</td>\n",
       "      <td>9.7644</td>\n",
       "      <td>safe</td>\n",
       "      <td>MANURE</td>\n",
       "      <td>canyon</td>\n",
       "      <td>outdoor</td>\n",
       "      <td>H</td>\n",
       "      <td>HO_Hi</td>\n",
       "      <td>...</td>\n",
       "      <td>3.0</td>\n",
       "      <td>2.5</td>\n",
       "      <td>3.0</td>\n",
       "      <td>2.5</td>\n",
       "      <td>TO_2</td>\n",
       "      <td>outdoor</td>\n",
       "      <td>2</td>\n",
       "      <td>Hi</td>\n",
       "      <td>control</td>\n",
       "      <td>fmri</td>\n",
       "    </tr>\n",
       "  </tbody>\n",
       "</table>\n",
       "<p>5 rows × 32 columns</p>\n",
       "</div>"
      ],
      "text/plain": [
       "   run  trial    onset  duration shockCond  target    associate     resp acc  \\\n",
       "0    1      1  12.0191   10.6661      safe  BANDIT     cemetery   indoor  SM   \n",
       "1    1      2  22.7129    9.1242      safe  WALRUS         foil     foil  CR   \n",
       "2    1      3  31.8642    9.4224      safe  VIOLIN  throne_room   indoor   H   \n",
       "3    1      4  41.3132   11.3389      safe   MEDAL     hayfield  outdoor   H   \n",
       "4    1      5  52.6786    9.7644      safe  MANURE       canyon  outdoor   H   \n",
       "\n",
       "  accSpec    ...     neg  pos negative positive  cond_orig     cond  reps  \\\n",
       "0  SMO_Hi    ...     3.0  2.5      3.0      2.5       TO_4  outdoor     4   \n",
       "1      CR    ...     3.0  2.5      3.0      2.5        F_0     foil     0   \n",
       "2   HI_Hi    ...     3.0  2.5      3.0      2.5       TI_2   indoor     2   \n",
       "3   HO_Hi    ...     3.0  2.5      3.0      2.5       TO_2  outdoor     2   \n",
       "4   HO_Hi    ...     3.0  2.5      3.0      2.5       TO_2  outdoor     2   \n",
       "\n",
       "   conf  stress_group  modality  \n",
       "0    Hi       control      fmri  \n",
       "1     N       control      fmri  \n",
       "2    Hi       control      fmri  \n",
       "3    Hi       control      fmri  \n",
       "4    Hi       control      fmri  \n",
       "\n",
       "[5 rows x 32 columns]"
      ]
     },
     "execution_count": 38,
     "metadata": {},
     "output_type": "execute_result"
    }
   ],
   "source": [
    "dt.head()"
   ]
  },
  {
   "cell_type": "markdown",
   "metadata": {},
   "source": [
    "### Save out for stats"
   ]
  },
  {
   "cell_type": "code",
   "execution_count": null,
   "metadata": {
    "collapsed": true
   },
   "outputs": [],
   "source": [
    "ds.to_csv('/Volumes/group/awagner/sgagnon/AP/data/behav/df_study.csv')"
   ]
  },
  {
   "cell_type": "code",
   "execution_count": 81,
   "metadata": {
    "collapsed": false
   },
   "outputs": [],
   "source": [
    "dt.to_csv('/Volumes/group/awagner/sgagnon/AP/data/behav/df_test.csv')"
   ]
  },
  {
   "cell_type": "code",
   "execution_count": null,
   "metadata": {
    "collapsed": true
   },
   "outputs": [],
   "source": []
  },
  {
   "cell_type": "code",
   "execution_count": null,
   "metadata": {
    "collapsed": true
   },
   "outputs": [],
   "source": []
  },
  {
   "cell_type": "code",
   "execution_count": null,
   "metadata": {
    "collapsed": true
   },
   "outputs": [],
   "source": []
  },
  {
   "cell_type": "code",
   "execution_count": null,
   "metadata": {
    "collapsed": true
   },
   "outputs": [],
   "source": []
  },
  {
   "cell_type": "code",
   "execution_count": null,
   "metadata": {
    "collapsed": true
   },
   "outputs": [],
   "source": []
  },
  {
   "cell_type": "code",
   "execution_count": null,
   "metadata": {
    "collapsed": true
   },
   "outputs": [],
   "source": []
  },
  {
   "cell_type": "code",
   "execution_count": null,
   "metadata": {
    "collapsed": true
   },
   "outputs": [],
   "source": []
  },
  {
   "cell_type": "code",
   "execution_count": null,
   "metadata": {
    "collapsed": true
   },
   "outputs": [],
   "source": []
  },
  {
   "cell_type": "code",
   "execution_count": null,
   "metadata": {
    "collapsed": true
   },
   "outputs": [],
   "source": []
  },
  {
   "cell_type": "code",
   "execution_count": null,
   "metadata": {
    "collapsed": true
   },
   "outputs": [],
   "source": []
  },
  {
   "cell_type": "code",
   "execution_count": null,
   "metadata": {
    "collapsed": true
   },
   "outputs": [],
   "source": []
  },
  {
   "cell_type": "code",
   "execution_count": null,
   "metadata": {
    "collapsed": true
   },
   "outputs": [],
   "source": []
  },
  {
   "cell_type": "code",
   "execution_count": null,
   "metadata": {
    "collapsed": true
   },
   "outputs": [],
   "source": []
  },
  {
   "cell_type": "code",
   "execution_count": null,
   "metadata": {
    "collapsed": true
   },
   "outputs": [],
   "source": []
  },
  {
   "cell_type": "code",
   "execution_count": null,
   "metadata": {
    "collapsed": true
   },
   "outputs": [],
   "source": []
  },
  {
   "cell_type": "code",
   "execution_count": null,
   "metadata": {
    "collapsed": true
   },
   "outputs": [],
   "source": []
  },
  {
   "cell_type": "code",
   "execution_count": null,
   "metadata": {
    "collapsed": true
   },
   "outputs": [],
   "source": []
  },
  {
   "cell_type": "code",
   "execution_count": null,
   "metadata": {
    "collapsed": true
   },
   "outputs": [],
   "source": []
  },
  {
   "cell_type": "code",
   "execution_count": null,
   "metadata": {
    "collapsed": true
   },
   "outputs": [],
   "source": []
  },
  {
   "cell_type": "code",
   "execution_count": null,
   "metadata": {
    "collapsed": true
   },
   "outputs": [],
   "source": []
  },
  {
   "cell_type": "code",
   "execution_count": null,
   "metadata": {
    "collapsed": true
   },
   "outputs": [],
   "source": []
  },
  {
   "cell_type": "code",
   "execution_count": null,
   "metadata": {
    "collapsed": true
   },
   "outputs": [],
   "source": []
  },
  {
   "cell_type": "code",
   "execution_count": null,
   "metadata": {
    "collapsed": true
   },
   "outputs": [],
   "source": []
  },
  {
   "cell_type": "code",
   "execution_count": null,
   "metadata": {
    "collapsed": true
   },
   "outputs": [],
   "source": []
  },
  {
   "cell_type": "code",
   "execution_count": null,
   "metadata": {
    "collapsed": true
   },
   "outputs": [],
   "source": []
  },
  {
   "cell_type": "code",
   "execution_count": null,
   "metadata": {
    "collapsed": true
   },
   "outputs": [],
   "source": []
  },
  {
   "cell_type": "code",
   "execution_count": null,
   "metadata": {
    "collapsed": true
   },
   "outputs": [],
   "source": []
  },
  {
   "cell_type": "code",
   "execution_count": null,
   "metadata": {
    "collapsed": true
   },
   "outputs": [],
   "source": []
  },
  {
   "cell_type": "code",
   "execution_count": null,
   "metadata": {
    "collapsed": true
   },
   "outputs": [],
   "source": []
  },
  {
   "cell_type": "code",
   "execution_count": null,
   "metadata": {
    "collapsed": true
   },
   "outputs": [],
   "source": []
  },
  {
   "cell_type": "code",
   "execution_count": null,
   "metadata": {
    "collapsed": true
   },
   "outputs": [],
   "source": []
  },
  {
   "cell_type": "code",
   "execution_count": null,
   "metadata": {
    "collapsed": true
   },
   "outputs": [],
   "source": []
  },
  {
   "cell_type": "code",
   "execution_count": null,
   "metadata": {
    "collapsed": true
   },
   "outputs": [],
   "source": []
  },
  {
   "cell_type": "code",
   "execution_count": null,
   "metadata": {
    "collapsed": true
   },
   "outputs": [],
   "source": []
  },
  {
   "cell_type": "code",
   "execution_count": null,
   "metadata": {
    "collapsed": true
   },
   "outputs": [],
   "source": []
  },
  {
   "cell_type": "code",
   "execution_count": null,
   "metadata": {
    "collapsed": true
   },
   "outputs": [],
   "source": []
  },
  {
   "cell_type": "code",
   "execution_count": null,
   "metadata": {
    "collapsed": true
   },
   "outputs": [],
   "source": []
  },
  {
   "cell_type": "code",
   "execution_count": null,
   "metadata": {
    "collapsed": true
   },
   "outputs": [],
   "source": []
  },
  {
   "cell_type": "code",
   "execution_count": null,
   "metadata": {
    "collapsed": true
   },
   "outputs": [],
   "source": []
  },
  {
   "cell_type": "code",
   "execution_count": null,
   "metadata": {
    "collapsed": true
   },
   "outputs": [],
   "source": []
  },
  {
   "cell_type": "code",
   "execution_count": null,
   "metadata": {
    "collapsed": true
   },
   "outputs": [],
   "source": []
  },
  {
   "cell_type": "code",
   "execution_count": null,
   "metadata": {
    "collapsed": true
   },
   "outputs": [],
   "source": []
  },
  {
   "cell_type": "code",
   "execution_count": null,
   "metadata": {
    "collapsed": true
   },
   "outputs": [],
   "source": []
  },
  {
   "cell_type": "code",
   "execution_count": null,
   "metadata": {
    "collapsed": true
   },
   "outputs": [],
   "source": []
  },
  {
   "cell_type": "code",
   "execution_count": null,
   "metadata": {
    "collapsed": true
   },
   "outputs": [],
   "source": []
  },
  {
   "cell_type": "code",
   "execution_count": null,
   "metadata": {
    "collapsed": true
   },
   "outputs": [],
   "source": []
  },
  {
   "cell_type": "code",
   "execution_count": null,
   "metadata": {
    "collapsed": true
   },
   "outputs": [],
   "source": []
  },
  {
   "cell_type": "code",
   "execution_count": null,
   "metadata": {
    "collapsed": true
   },
   "outputs": [],
   "source": []
  },
  {
   "cell_type": "code",
   "execution_count": null,
   "metadata": {
    "collapsed": true
   },
   "outputs": [],
   "source": []
  },
  {
   "cell_type": "code",
   "execution_count": null,
   "metadata": {
    "collapsed": true
   },
   "outputs": [],
   "source": []
  },
  {
   "cell_type": "code",
   "execution_count": null,
   "metadata": {
    "collapsed": true
   },
   "outputs": [],
   "source": []
  },
  {
   "cell_type": "code",
   "execution_count": null,
   "metadata": {
    "collapsed": true
   },
   "outputs": [],
   "source": []
  },
  {
   "cell_type": "code",
   "execution_count": null,
   "metadata": {
    "collapsed": true
   },
   "outputs": [],
   "source": []
  },
  {
   "cell_type": "code",
   "execution_count": null,
   "metadata": {
    "collapsed": true
   },
   "outputs": [],
   "source": []
  },
  {
   "cell_type": "code",
   "execution_count": null,
   "metadata": {
    "collapsed": true
   },
   "outputs": [],
   "source": []
  },
  {
   "cell_type": "code",
   "execution_count": null,
   "metadata": {
    "collapsed": true
   },
   "outputs": [],
   "source": []
  },
  {
   "cell_type": "code",
   "execution_count": null,
   "metadata": {
    "collapsed": true
   },
   "outputs": [],
   "source": []
  },
  {
   "cell_type": "code",
   "execution_count": null,
   "metadata": {
    "collapsed": true
   },
   "outputs": [],
   "source": []
  },
  {
   "cell_type": "code",
   "execution_count": null,
   "metadata": {
    "collapsed": true
   },
   "outputs": [],
   "source": []
  },
  {
   "cell_type": "code",
   "execution_count": null,
   "metadata": {
    "collapsed": true
   },
   "outputs": [],
   "source": []
  },
  {
   "cell_type": "code",
   "execution_count": null,
   "metadata": {
    "collapsed": true
   },
   "outputs": [],
   "source": []
  },
  {
   "cell_type": "code",
   "execution_count": null,
   "metadata": {
    "collapsed": true
   },
   "outputs": [],
   "source": []
  },
  {
   "cell_type": "code",
   "execution_count": null,
   "metadata": {
    "collapsed": true
   },
   "outputs": [],
   "source": []
  },
  {
   "cell_type": "code",
   "execution_count": null,
   "metadata": {
    "collapsed": true
   },
   "outputs": [],
   "source": []
  },
  {
   "cell_type": "code",
   "execution_count": null,
   "metadata": {
    "collapsed": true
   },
   "outputs": [],
   "source": []
  },
  {
   "cell_type": "code",
   "execution_count": null,
   "metadata": {
    "collapsed": true
   },
   "outputs": [],
   "source": []
  },
  {
   "cell_type": "code",
   "execution_count": null,
   "metadata": {
    "collapsed": true
   },
   "outputs": [],
   "source": []
  },
  {
   "cell_type": "code",
   "execution_count": null,
   "metadata": {
    "collapsed": true
   },
   "outputs": [],
   "source": []
  },
  {
   "cell_type": "code",
   "execution_count": null,
   "metadata": {
    "collapsed": true
   },
   "outputs": [],
   "source": []
  },
  {
   "cell_type": "code",
   "execution_count": null,
   "metadata": {
    "collapsed": true
   },
   "outputs": [],
   "source": []
  },
  {
   "cell_type": "code",
   "execution_count": null,
   "metadata": {
    "collapsed": true
   },
   "outputs": [],
   "source": []
  },
  {
   "cell_type": "code",
   "execution_count": null,
   "metadata": {
    "collapsed": true
   },
   "outputs": [],
   "source": []
  },
  {
   "cell_type": "code",
   "execution_count": null,
   "metadata": {
    "collapsed": true
   },
   "outputs": [],
   "source": []
  },
  {
   "cell_type": "code",
   "execution_count": null,
   "metadata": {
    "collapsed": true
   },
   "outputs": [],
   "source": []
  },
  {
   "cell_type": "code",
   "execution_count": null,
   "metadata": {
    "collapsed": true
   },
   "outputs": [],
   "source": []
  },
  {
   "cell_type": "code",
   "execution_count": null,
   "metadata": {
    "collapsed": true
   },
   "outputs": [],
   "source": []
  },
  {
   "cell_type": "code",
   "execution_count": null,
   "metadata": {
    "collapsed": true
   },
   "outputs": [],
   "source": []
  },
  {
   "cell_type": "code",
   "execution_count": null,
   "metadata": {
    "collapsed": true
   },
   "outputs": [],
   "source": []
  },
  {
   "cell_type": "code",
   "execution_count": null,
   "metadata": {
    "collapsed": true
   },
   "outputs": [],
   "source": []
  },
  {
   "cell_type": "code",
   "execution_count": null,
   "metadata": {
    "collapsed": true
   },
   "outputs": [],
   "source": []
  },
  {
   "cell_type": "code",
   "execution_count": null,
   "metadata": {
    "collapsed": true
   },
   "outputs": [],
   "source": []
  },
  {
   "cell_type": "code",
   "execution_count": null,
   "metadata": {
    "collapsed": true
   },
   "outputs": [],
   "source": []
  }
 ],
 "metadata": {
  "kernelspec": {
   "display_name": "Python 2",
   "language": "python",
   "name": "python2"
  },
  "language_info": {
   "codemirror_mode": {
    "name": "ipython",
    "version": 2
   },
   "file_extension": ".py",
   "mimetype": "text/x-python",
   "name": "python",
   "nbconvert_exporter": "python",
   "pygments_lexer": "ipython2",
   "version": "2.7.12"
  }
 },
 "nbformat": 4,
 "nbformat_minor": 0
}
